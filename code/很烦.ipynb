{
 "cells": [
  {
   "cell_type": "code",
   "execution_count": null,
   "metadata": {
    "collapsed": false,
    "deletable": true,
    "editable": true
   },
   "outputs": [],
   "source": []
  },
  {
   "cell_type": "code",
   "execution_count": null,
   "metadata": {
    "collapsed": false,
    "deletable": true,
    "editable": true
   },
   "outputs": [],
   "source": []
  },
  {
   "cell_type": "code",
   "execution_count": null,
   "metadata": {
    "collapsed": true,
    "deletable": true,
    "editable": true
   },
   "outputs": [],
   "source": []
  },
  {
   "cell_type": "code",
   "execution_count": null,
   "metadata": {
    "collapsed": true,
    "deletable": true,
    "editable": true
   },
   "outputs": [],
   "source": []
  },
  {
   "cell_type": "code",
   "execution_count": 5,
   "metadata": {
    "collapsed": false,
    "deletable": true,
    "editable": true
   },
   "outputs": [
    {
     "data": {
      "text/plain": [
       "\n",
       " 150  201  500  800  801  850  980 \n",
       "1171  359 2011 1328  104 1791  810 "
      ]
     },
     "metadata": {},
     "output_type": "display_data"
    },
    {
     "data": {
      "text/plain": [
       "       id           tenure        claim.ind         n.adults    \n",
       " Min.   :   1   Min.   : 0.00   Min.   :0.0000   Min.   :1.000  \n",
       " 1st Qu.:1895   1st Qu.: 6.00   1st Qu.:0.0000   1st Qu.:1.000  \n",
       " Median :3790   Median :13.00   Median :0.0000   Median :2.000  \n",
       " Mean   :3790   Mean   :11.71   Mean   :0.2034   Mean   :2.134  \n",
       " 3rd Qu.:5685   3rd Qu.:16.00   3rd Qu.:0.0000   3rd Qu.:3.000  \n",
       " Max.   :7582   Max.   :30.00   Max.   :1.0000   Max.   :9.000  \n",
       "                NA's   :2       NA's   :10       NA's   :5      \n",
       "   n.children     ni.gender   ni.marital.status    premium       sales.channel\n",
       " Min.   : 0.000   F   :3610   Min.   :0.0000    Min.   : 645.8   Broker:4358  \n",
       " 1st Qu.: 0.000   M   :3956   1st Qu.:0.0000    1st Qu.: 845.8   Online: 646  \n",
       " Median : 1.000   NA's:  12   Median :1.0000    Median : 901.4   Phone :2562  \n",
       " Mean   : 1.781               Mean   :0.7168    Mean   : 901.4   NA's  :  12  \n",
       " 3rd Qu.: 3.000               3rd Qu.:1.0000    3rd Qu.: 956.2                \n",
       " Max.   :12.000               Max.   :1.0000    Max.   :1164.8                \n",
       " NA's   :1                    NA's   :7         NA's   :6                     \n",
       " coverage.type dwelling.type   len.at.res       credit     house.color  \n",
       " A   :2583     Condo :1770   Min.   : 2.00   high  :4678   blue  :2039  \n",
       " B   :1816     House :4239   1st Qu.:12.00   low   :1245   red   :1854  \n",
       " C   :3175     Tenant:1558   Median :15.00   medium:1644   white :2937  \n",
       " NA's:   4     NA's  :  11   Mean   :15.20   NA's  :  11   yellow: 740  \n",
       "                             3rd Qu.:18.00                 NA's  :   8  \n",
       "                             Max.   :49.41                              \n",
       "                             NA's   :5                                  \n",
       "     ni.age         year         zip.code      area          cancel       \n",
       " Min.   : 19.00   2013:1579   50021  : 198   AZ  :1791   Min.   :-1.0000  \n",
       " 1st Qu.: 35.00   2014:1828   80016  : 136   CO  :1432   1st Qu.: 0.0000  \n",
       " Median : 43.00   2015:1993   15025  : 129   DC  : 359   Median : 0.0000  \n",
       " Mean   : 43.63   2016:2178   50025  : 117   IA  :2011   Mean   : 0.2399  \n",
       " 3rd Qu.: 51.00               80028  : 104   PA  :1171   3rd Qu.: 0.0000  \n",
       " Max.   :216.50               (Other):6890   WA  : 810   Max.   : 1.0000  \n",
       " NA's   :7                    NA's   :   4   NA's:   4                    "
      ]
     },
     "metadata": {},
     "output_type": "display_data"
    },
    {
     "name": "stdout",
     "output_type": "stream",
     "text": [
      "'data.frame':\t7578 obs. of  19 variables:\n",
      " $ id               : int  1 2 3 4 5 6 7 8 9 10 ...\n",
      " $ tenure           : int  12 18 4 16 14 14 19 13 11 14 ...\n",
      " $ claim.ind        : int  0 0 0 0 0 0 0 1 1 0 ...\n",
      " $ n.adults         : int  4 2 2 1 3 3 1 1 1 4 ...\n",
      " $ n.children       : int  2 0 0 0 3 0 1 0 3 1 ...\n",
      " $ ni.gender        : Factor w/ 2 levels \"F\",\"M\": 1 2 2 1 2 1 1 2 1 2 ...\n",
      " $ ni.marital.status: int  1 1 0 1 1 0 0 0 1 1 ...\n",
      " $ premium          : num  896 828 1003 1092 885 ...\n",
      " $ sales.channel    : Factor w/ 3 levels \"Broker\",\"Online\",..: 1 1 3 1 3 1 3 1 1 1 ...\n",
      " $ coverage.type    : Factor w/ 3 levels \"A\",\"B\",\"C\": 2 3 2 3 1 3 1 3 3 3 ...\n",
      " $ dwelling.type    : Factor w/ 3 levels \"Condo\",\"House\",..: 1 3 2 1 3 2 3 1 3 2 ...\n",
      " $ len.at.res       : num  13 15 10 22 18 19 21 10 18 16 ...\n",
      " $ credit           : Factor w/ 3 levels \"high\",\"low\",\"medium\": 1 1 3 1 2 1 1 1 3 1 ...\n",
      " $ house.color      : Factor w/ 4 levels \"blue\",\"red\",\"white\",..: 1 3 1 2 3 3 3 1 2 3 ...\n",
      " $ ni.age           : num  47 47 30 38 49 40 51 47 42 50 ...\n",
      " $ year             : Factor w/ 4 levels \"2013\",\"2014\",..: 1 1 1 1 1 1 1 1 1 1 ...\n",
      " $ zip.code         : Factor w/ 221 levels \"15001\",\"15003\",..: 122 86 86 128 107 186 33 161 82 77 ...\n",
      " $ area             : Factor w/ 6 levels \"AZ\",\"CO\",\"DC\",..: 2 4 4 2 4 1 5 1 4 4 ...\n",
      " $ cancel           : int  0 0 0 0 0 0 0 0 0 0 ...\n"
     ]
    },
    {
     "data": {
      "image/png": "[encoded data removed]",
      "text/plain": [
       "Plot with title “Histogram of train$zip.code”"
      ]
     },
     "metadata": {},
     "output_type": "display_data"
    }
   ],
   "source": [
    "-"
   ]
  },
  {
   "cell_type": "code",
   "execution_count": null,
   "metadata": {
    "collapsed": false,
    "deletable": true,
    "editable": true
   },
   "outputs": [],
   "source": []
  },
  {
   "cell_type": "code",
   "execution_count": null,
   "metadata": {
    "collapsed": false,
    "deletable": true,
    "editable": true
   },
   "outputs": [],
   "source": []
  },
  {
   "cell_type": "code",
   "execution_count": null,
   "metadata": {
    "collapsed": false,
    "deletable": true,
    "editable": true
   },
   "outputs": [],
   "source": []
  },
  {
   "cell_type": "code",
   "execution_count": null,
   "metadata": {
    "collapsed": false,
    "deletable": true,
    "editable": true
   },
   "outputs": [],
   "source": []
  },
  {
   "cell_type": "code",
   "execution_count": null,
   "metadata": {
    "collapsed": false,
    "deletable": true,
    "editable": true
   },
   "outputs": [],
   "source": []
  },
  {
   "cell_type": "code",
   "execution_count": 11,
   "metadata": {
    "collapsed": true,
    "deletable": true,
    "editable": true
   },
   "outputs": [],
   "source": [
    "\n"
   ]
  },
  {
   "cell_type": "code",
   "execution_count": 12,
   "metadata": {
    "collapsed": false,
    "deletable": true,
    "editable": true
   },
   "outputs": [
    {
     "data": {
      "text/plain": [
       "\n",
       "   0    1 \n",
       "5546 1803 "
      ]
     },
     "metadata": {},
     "output_type": "display_data"
    }
   ],
   "source": [
    "######################### split train,validation,test\n",
    "table(train6$cancel)\n",
    "model =train6\n",
    "\n",
    "set.seed(123)\n",
    "index = sample(nrow(model),nrow(model)*0.1)\n",
    "test = model[index,]                            ########### test set\n",
    "tv = model[-index,]\n"
   ]
  },
  {
   "cell_type": "code",
   "execution_count": null,
   "metadata": {
    "collapsed": false,
    "deletable": true,
    "editable": true
   },
   "outputs": [],
   "source": []
  },
  {
   "cell_type": "code",
   "execution_count": null,
   "metadata": {
    "collapsed": false,
    "deletable": true,
    "editable": true
   },
   "outputs": [],
   "source": []
  },
  {
   "cell_type": "code",
   "execution_count": null,
   "metadata": {
    "collapsed": false,
    "deletable": true,
    "editable": true
   },
   "outputs": [],
   "source": []
  },
  {
   "cell_type": "code",
   "execution_count": null,
   "metadata": {
    "collapsed": false,
    "deletable": true,
    "editable": true
   },
   "outputs": [],
   "source": []
  },
  {
   "cell_type": "code",
   "execution_count": null,
   "metadata": {
    "collapsed": false,
    "deletable": true,
    "editable": true
   },
   "outputs": [],
   "source": [
    "\n"
   ]
  },
  {
   "cell_type": "code",
   "execution_count": null,
   "metadata": {
    "collapsed": false,
    "deletable": true,
    "editable": true
   },
   "outputs": [],
   "source": []
  },
  {
   "cell_type": "code",
   "execution_count": null,
   "metadata": {
    "collapsed": false,
    "deletable": true,
    "editable": true
   },
   "outputs": [],
   "source": []
  },
  {
   "cell_type": "code",
   "execution_count": null,
   "metadata": {
    "collapsed": false,
    "deletable": true,
    "editable": true
   },
   "outputs": [],
   "source": []
  },
  {
   "cell_type": "code",
   "execution_count": null,
   "metadata": {
    "collapsed": true,
    "deletable": true,
    "editable": true
   },
   "outputs": [],
   "source": []
  }
 ],
 "metadata": {
  "kernelspec": {
   "display_name": "R",
   "language": "R",
   "name": "ir"
  },
  "language_info": {
   "codemirror_mode": "r",
   "file_extension": ".r",
   "mimetype": "text/x-r-source",
   "name": "R",
   "pygments_lexer": "r",
   "version": "3.4.2"
  }
 },
 "nbformat": 4,
 "nbformat_minor": 2
}
