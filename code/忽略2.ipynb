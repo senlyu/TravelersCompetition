{
 "cells": [
  {
   "cell_type": "code",
   "execution_count": 1,
   "metadata": {
    "collapsed": false,
    "deletable": true,
    "editable": true
   },
   "outputs": [
    {
     "data": {
      "text/html": [
       "'/home/senlyu/git/TravelersCompetition'"
      ],
      "text/latex": [
       "'/home/senlyu/git/TravelersCompetition'"
      ],
      "text/markdown": [
       "'/home/senlyu/git/TravelersCompetition'"
      ],
      "text/plain": [
       "[1] \"/home/senlyu/git/TravelersCompetition\""
      ]
     },
     "metadata": {},
     "output_type": "display_data"
    }
   ],
   "source": [
    "getwd()"
   ]
  },
  {
   "cell_type": "code",
   "execution_count": 2,
   "metadata": {
    "collapsed": true,
    "deletable": true,
    "editable": true
   },
   "outputs": [],
   "source": [
    "setwd('/home/senlyu/git/TravelersCompetition/data')"
   ]
  },
  {
   "cell_type": "code",
   "execution_count": 3,
   "metadata": {
    "collapsed": false
   },
   "outputs": [
    {
     "name": "stderr",
     "output_type": "stream",
     "text": [
      "Installing package into ‘/home/senlyu/R/x86_64-pc-linux-gnu-library/3.4’\n",
      "(as ‘lib’ is unspecified)\n",
      "Installing package into ‘/home/senlyu/R/x86_64-pc-linux-gnu-library/3.4’\n",
      "(as ‘lib’ is unspecified)\n",
      "Installing package into ‘/home/senlyu/R/x86_64-pc-linux-gnu-library/3.4’\n",
      "(as ‘lib’ is unspecified)\n",
      "Installing package into ‘/home/senlyu/R/x86_64-pc-linux-gnu-library/3.4’\n",
      "(as ‘lib’ is unspecified)\n",
      "Installing package into ‘/home/senlyu/R/x86_64-pc-linux-gnu-library/3.4’\n",
      "(as ‘lib’ is unspecified)\n"
     ]
    }
   ],
   "source": [
    "install.packages(\"caTools\")\n",
    "install.packages(\"ROCR\")\n",
    "install.packages(\"caret\")\n",
    "install.packages(\"glmnet\")\n",
    "install.packages(\"e1071\")"
   ]
  },
  {
   "cell_type": "code",
   "execution_count": 4,
   "metadata": {
    "collapsed": false
   },
   "outputs": [
    {
     "data": {
      "text/html": [
       "<table>\n",
       "<thead><tr><th scope=col>id</th><th scope=col>tenure</th><th scope=col>claim.ind</th><th scope=col>n.adults</th><th scope=col>n.children</th><th scope=col>ni.gender</th><th scope=col>ni.marital.status</th><th scope=col>premium</th><th scope=col>sales.channel</th><th scope=col>coverage.type</th></tr></thead>\n",
       "<tbody>\n",
       "\t<tr><td> 1       </td><td>12       </td><td>0        </td><td>4        </td><td>2        </td><td>F        </td><td>1        </td><td> 895.6156</td><td>Broker   </td><td>B        </td></tr>\n",
       "\t<tr><td> 2       </td><td>18       </td><td>0        </td><td>2        </td><td>0        </td><td>M        </td><td>1        </td><td> 828.3324</td><td>Broker   </td><td>C        </td></tr>\n",
       "\t<tr><td> 3       </td><td> 4       </td><td>0        </td><td>2        </td><td>0        </td><td>M        </td><td>0        </td><td>1003.0617</td><td>Phone    </td><td>B        </td></tr>\n",
       "\t<tr><td> 4       </td><td>16       </td><td>0        </td><td>1        </td><td>0        </td><td>F        </td><td>1        </td><td>1092.4482</td><td>Broker   </td><td>C        </td></tr>\n",
       "\t<tr><td> 5       </td><td>14       </td><td>0        </td><td>3        </td><td>3        </td><td>M        </td><td>1        </td><td> 885.4742</td><td>Phone    </td><td>A        </td></tr>\n",
       "\t<tr><td> 6       </td><td>14       </td><td>0        </td><td>3        </td><td>0        </td><td>F        </td><td>0        </td><td> 897.3957</td><td>Broker   </td><td>C        </td></tr>\n",
       "\t<tr><td> 7       </td><td>19       </td><td>0        </td><td>1        </td><td>1        </td><td>F        </td><td>0        </td><td> 855.0103</td><td>Phone    </td><td>A        </td></tr>\n",
       "\t<tr><td> 8       </td><td>13       </td><td>1        </td><td>1        </td><td>0        </td><td>M        </td><td>0        </td><td> 789.1410</td><td>Broker   </td><td>C        </td></tr>\n",
       "\t<tr><td> 9       </td><td>11       </td><td>1        </td><td>1        </td><td>3        </td><td>F        </td><td>1        </td><td> 986.1079</td><td>Broker   </td><td>C        </td></tr>\n",
       "\t<tr><td>10       </td><td>14       </td><td>0        </td><td>4        </td><td>1        </td><td>M        </td><td>1        </td><td> 991.8100</td><td>Broker   </td><td>C        </td></tr>\n",
       "\t<tr><td>11       </td><td> 5       </td><td>0        </td><td>1        </td><td>0        </td><td>M        </td><td>0        </td><td> 987.3780</td><td>Phone    </td><td>C        </td></tr>\n",
       "\t<tr><td>12       </td><td>17       </td><td>0        </td><td>3        </td><td>3        </td><td>M        </td><td>1        </td><td> 905.2240</td><td>Broker   </td><td>A        </td></tr>\n",
       "\t<tr><td>13       </td><td> 3       </td><td>0        </td><td>2        </td><td>0        </td><td>M        </td><td>0        </td><td> 971.4277</td><td>Phone    </td><td>C        </td></tr>\n",
       "\t<tr><td>14       </td><td>15       </td><td>0        </td><td>1        </td><td>0        </td><td>M        </td><td>1        </td><td> 882.4913</td><td>Broker   </td><td>B        </td></tr>\n",
       "\t<tr><td>15       </td><td>13       </td><td>0        </td><td>1        </td><td>2        </td><td>F        </td><td>1        </td><td>1000.2675</td><td>Broker   </td><td>C        </td></tr>\n",
       "\t<tr><td>16       </td><td>18       </td><td>1        </td><td>1        </td><td>1        </td><td>M        </td><td>1        </td><td> 972.5224</td><td>Phone    </td><td>B        </td></tr>\n",
       "\t<tr><td>17       </td><td>15       </td><td>0        </td><td>1        </td><td>1        </td><td>F        </td><td>1        </td><td> 918.4751</td><td>Broker   </td><td>C        </td></tr>\n",
       "\t<tr><td>18       </td><td>15       </td><td>0        </td><td>3        </td><td>6        </td><td>F        </td><td>1        </td><td> 998.1888</td><td>Online   </td><td>B        </td></tr>\n",
       "\t<tr><td>19       </td><td> 2       </td><td>0        </td><td>1        </td><td>1        </td><td>M        </td><td>1        </td><td> 864.3599</td><td>Broker   </td><td>B        </td></tr>\n",
       "\t<tr><td>20       </td><td> 5       </td><td>0        </td><td>1        </td><td>1        </td><td>F        </td><td>0        </td><td> 990.9065</td><td>Broker   </td><td>B        </td></tr>\n",
       "\t<tr><td>21       </td><td>15       </td><td>0        </td><td>2        </td><td>0        </td><td>M        </td><td>0        </td><td> 806.6902</td><td>Phone    </td><td>B        </td></tr>\n",
       "\t<tr><td>22       </td><td>11       </td><td>1        </td><td>2        </td><td>2        </td><td>F        </td><td>1        </td><td> 769.2358</td><td>Broker   </td><td>A        </td></tr>\n",
       "\t<tr><td>23       </td><td>18       </td><td>0        </td><td>1        </td><td>1        </td><td>F        </td><td>1        </td><td> 957.3377</td><td>Broker   </td><td>A        </td></tr>\n",
       "\t<tr><td>24       </td><td>15       </td><td>0        </td><td>1        </td><td>0        </td><td>M        </td><td>0        </td><td>1038.0291</td><td>Broker   </td><td>B        </td></tr>\n",
       "\t<tr><td>25       </td><td>15       </td><td>0        </td><td>4        </td><td>4        </td><td>F        </td><td>1        </td><td> 702.5851</td><td>Broker   </td><td>A        </td></tr>\n",
       "\t<tr><td>26       </td><td>16       </td><td>0        </td><td>1        </td><td>6        </td><td>M        </td><td>1        </td><td> 897.6654</td><td>Broker   </td><td>B        </td></tr>\n",
       "\t<tr><td>27       </td><td>11       </td><td>0        </td><td>2        </td><td>0        </td><td>M        </td><td>1        </td><td> 926.2757</td><td>Phone    </td><td>A        </td></tr>\n",
       "\t<tr><td>28       </td><td>15       </td><td>0        </td><td>3        </td><td>1        </td><td>M        </td><td>1        </td><td> 940.6310</td><td>Phone    </td><td>A        </td></tr>\n",
       "\t<tr><td>29       </td><td>13       </td><td>0        </td><td>3        </td><td>1        </td><td>M        </td><td>0        </td><td> 795.3245</td><td>Phone    </td><td>C        </td></tr>\n",
       "\t<tr><td>30       </td><td>11       </td><td>0        </td><td>1        </td><td>0        </td><td>M        </td><td>0        </td><td>1055.6435</td><td>Phone    </td><td>C        </td></tr>\n",
       "\t<tr><td>⋮</td><td>⋮</td><td>⋮</td><td>⋮</td><td>⋮</td><td>⋮</td><td>⋮</td><td>⋮</td><td>⋮</td><td>⋮</td></tr>\n",
       "\t<tr><td>7553     </td><td> 2       </td><td>1        </td><td>2        </td><td> 0       </td><td>F        </td><td>1        </td><td> 771.1347</td><td>Broker   </td><td>B        </td></tr>\n",
       "\t<tr><td>7554     </td><td>13       </td><td>0        </td><td>2        </td><td> 0       </td><td>M        </td><td>0        </td><td> 860.8087</td><td>Online   </td><td>C        </td></tr>\n",
       "\t<tr><td>7555     </td><td>16       </td><td>1        </td><td>1        </td><td> 7       </td><td>M        </td><td>1        </td><td>1007.3263</td><td>Broker   </td><td>C        </td></tr>\n",
       "\t<tr><td>7556     </td><td>18       </td><td>0        </td><td>1        </td><td> 2       </td><td>F        </td><td>1        </td><td> 937.8403</td><td>Phone    </td><td>B        </td></tr>\n",
       "\t<tr><td>7557     </td><td>21       </td><td>0        </td><td>2        </td><td> 0       </td><td>M        </td><td>1        </td><td>1021.9286</td><td>Broker   </td><td>B        </td></tr>\n",
       "\t<tr><td>7558     </td><td>20       </td><td>0        </td><td>1        </td><td> 1       </td><td>F        </td><td>0        </td><td> 999.8304</td><td>Broker   </td><td>A        </td></tr>\n",
       "\t<tr><td>7559     </td><td>18       </td><td>0        </td><td>1        </td><td> 0       </td><td>M        </td><td>1        </td><td>1080.7564</td><td>Phone    </td><td>C        </td></tr>\n",
       "\t<tr><td>7560     </td><td> 5       </td><td>0        </td><td>1        </td><td> 0       </td><td>F        </td><td>0        </td><td> 811.3062</td><td>Broker   </td><td>C        </td></tr>\n",
       "\t<tr><td>7561     </td><td> 4       </td><td>0        </td><td>1        </td><td> 4       </td><td>M        </td><td>1        </td><td>1025.7381</td><td>Broker   </td><td>A        </td></tr>\n",
       "\t<tr><td>7562     </td><td> 5       </td><td>0        </td><td>1        </td><td> 0       </td><td>F        </td><td>0        </td><td> 862.6541</td><td>Broker   </td><td>C        </td></tr>\n",
       "\t<tr><td>7563     </td><td>15       </td><td>1        </td><td>4        </td><td> 6       </td><td>F        </td><td>1        </td><td> 781.2009</td><td>Broker   </td><td>A        </td></tr>\n",
       "\t<tr><td>7564     </td><td>12       </td><td>0        </td><td>3        </td><td> 0       </td><td>M        </td><td>0        </td><td> 919.0472</td><td>Phone    </td><td>A        </td></tr>\n",
       "\t<tr><td>7565     </td><td> 0       </td><td>0        </td><td>3        </td><td> 0       </td><td>M        </td><td>1        </td><td> 910.8493</td><td>Broker   </td><td>A        </td></tr>\n",
       "\t<tr><td>7566     </td><td> 0       </td><td>1        </td><td>2        </td><td> 1       </td><td>M        </td><td>1        </td><td> 950.3724</td><td>Broker   </td><td>B        </td></tr>\n",
       "\t<tr><td>7567     </td><td> 8       </td><td>1        </td><td>3        </td><td> 0       </td><td>M        </td><td>0        </td><td> 985.5215</td><td>Online   </td><td>C        </td></tr>\n",
       "\t<tr><td>7568     </td><td>14       </td><td>0        </td><td>5        </td><td> 1       </td><td>M        </td><td>1        </td><td> 833.8417</td><td>Phone    </td><td>A        </td></tr>\n",
       "\t<tr><td>7569     </td><td> 3       </td><td>0        </td><td>1        </td><td> 0       </td><td>F        </td><td>0        </td><td> 780.9607</td><td>Phone    </td><td>B        </td></tr>\n",
       "\t<tr><td>7570     </td><td>10       </td><td>0        </td><td>2        </td><td>10       </td><td>F        </td><td>1        </td><td> 844.0645</td><td>Phone    </td><td>A        </td></tr>\n",
       "\t<tr><td>7571     </td><td>16       </td><td>0        </td><td>3        </td><td> 0       </td><td>F        </td><td>0        </td><td> 853.7079</td><td>Broker   </td><td>C        </td></tr>\n",
       "\t<tr><td>7572     </td><td>13       </td><td>0        </td><td>1        </td><td> 8       </td><td>F        </td><td>1        </td><td> 779.1097</td><td>Phone    </td><td>C        </td></tr>\n",
       "\t<tr><td>7573     </td><td> 8       </td><td>1        </td><td>1        </td><td> 2       </td><td>F        </td><td>1        </td><td> 874.4174</td><td>Broker   </td><td>C        </td></tr>\n",
       "\t<tr><td>7574     </td><td> 1       </td><td>0        </td><td>3        </td><td> 0       </td><td>F        </td><td>1        </td><td>1027.4598</td><td>Broker   </td><td>A        </td></tr>\n",
       "\t<tr><td>7575     </td><td>12       </td><td>1        </td><td>3        </td><td> 0       </td><td>M        </td><td>0        </td><td> 905.7160</td><td>Broker   </td><td>C        </td></tr>\n",
       "\t<tr><td>7576     </td><td> 7       </td><td>0        </td><td>1        </td><td> 1       </td><td>F        </td><td>1        </td><td> 946.9894</td><td>Phone    </td><td>A        </td></tr>\n",
       "\t<tr><td>7577     </td><td> 9       </td><td>0        </td><td>2        </td><td> 7       </td><td>M        </td><td>1        </td><td> 773.4970</td><td>Phone    </td><td>C        </td></tr>\n",
       "\t<tr><td>7578     </td><td>13       </td><td>0        </td><td>4        </td><td> 1       </td><td>F        </td><td>0        </td><td> 913.9972</td><td>Broker   </td><td>B        </td></tr>\n",
       "\t<tr><td>7579     </td><td>20       </td><td>0        </td><td>3        </td><td>11       </td><td>M        </td><td>1        </td><td>1003.0572</td><td>Broker   </td><td>A        </td></tr>\n",
       "\t<tr><td>7580     </td><td> 3       </td><td>0        </td><td>1        </td><td> 1       </td><td>F        </td><td>1        </td><td>1031.4016</td><td>Phone    </td><td>A        </td></tr>\n",
       "\t<tr><td>7581     </td><td> 6       </td><td>0        </td><td>3        </td><td> 2       </td><td>F        </td><td>1        </td><td> 949.4630</td><td>Broker   </td><td>B        </td></tr>\n",
       "\t<tr><td>7582     </td><td>12       </td><td>0        </td><td>2        </td><td> 0       </td><td>M        </td><td>1        </td><td> 753.6857</td><td>Broker   </td><td>C        </td></tr>\n",
       "</tbody>\n",
       "</table>\n"
      ],
      "text/latex": [
       "\\begin{tabular}{r|llllllllll}\n",
       " id & tenure & claim.ind & n.adults & n.children & ni.gender & ni.marital.status & premium & sales.channel & coverage.type\\\\\n",
       "\\hline\n",
       "\t  1        & 12        & 0         & 4         & 2         & F         & 1         &  895.6156 & Broker    & B        \\\\\n",
       "\t  2        & 18        & 0         & 2         & 0         & M         & 1         &  828.3324 & Broker    & C        \\\\\n",
       "\t  3        &  4        & 0         & 2         & 0         & M         & 0         & 1003.0617 & Phone     & B        \\\\\n",
       "\t  4        & 16        & 0         & 1         & 0         & F         & 1         & 1092.4482 & Broker    & C        \\\\\n",
       "\t  5        & 14        & 0         & 3         & 3         & M         & 1         &  885.4742 & Phone     & A        \\\\\n",
       "\t  6        & 14        & 0         & 3         & 0         & F         & 0         &  897.3957 & Broker    & C        \\\\\n",
       "\t  7        & 19        & 0         & 1         & 1         & F         & 0         &  855.0103 & Phone     & A        \\\\\n",
       "\t  8        & 13        & 1         & 1         & 0         & M         & 0         &  789.1410 & Broker    & C        \\\\\n",
       "\t  9        & 11        & 1         & 1         & 3         & F         & 1         &  986.1079 & Broker    & C        \\\\\n",
       "\t 10        & 14        & 0         & 4         & 1         & M         & 1         &  991.8100 & Broker    & C        \\\\\n",
       "\t 11        &  5        & 0         & 1         & 0         & M         & 0         &  987.3780 & Phone     & C        \\\\\n",
       "\t 12        & 17        & 0         & 3         & 3         & M         & 1         &  905.2240 & Broker    & A        \\\\\n",
       "\t 13        &  3        & 0         & 2         & 0         & M         & 0         &  971.4277 & Phone     & C        \\\\\n",
       "\t 14        & 15        & 0         & 1         & 0         & M         & 1         &  882.4913 & Broker    & B        \\\\\n",
       "\t 15        & 13        & 0         & 1         & 2         & F         & 1         & 1000.2675 & Broker    & C        \\\\\n",
       "\t 16        & 18        & 1         & 1         & 1         & M         & 1         &  972.5224 & Phone     & B        \\\\\n",
       "\t 17        & 15        & 0         & 1         & 1         & F         & 1         &  918.4751 & Broker    & C        \\\\\n",
       "\t 18        & 15        & 0         & 3         & 6         & F         & 1         &  998.1888 & Online    & B        \\\\\n",
       "\t 19        &  2        & 0         & 1         & 1         & M         & 1         &  864.3599 & Broker    & B        \\\\\n",
       "\t 20        &  5        & 0         & 1         & 1         & F         & 0         &  990.9065 & Broker    & B        \\\\\n",
       "\t 21        & 15        & 0         & 2         & 0         & M         & 0         &  806.6902 & Phone     & B        \\\\\n",
       "\t 22        & 11        & 1         & 2         & 2         & F         & 1         &  769.2358 & Broker    & A        \\\\\n",
       "\t 23        & 18        & 0         & 1         & 1         & F         & 1         &  957.3377 & Broker    & A        \\\\\n",
       "\t 24        & 15        & 0         & 1         & 0         & M         & 0         & 1038.0291 & Broker    & B        \\\\\n",
       "\t 25        & 15        & 0         & 4         & 4         & F         & 1         &  702.5851 & Broker    & A        \\\\\n",
       "\t 26        & 16        & 0         & 1         & 6         & M         & 1         &  897.6654 & Broker    & B        \\\\\n",
       "\t 27        & 11        & 0         & 2         & 0         & M         & 1         &  926.2757 & Phone     & A        \\\\\n",
       "\t 28        & 15        & 0         & 3         & 1         & M         & 1         &  940.6310 & Phone     & A        \\\\\n",
       "\t 29        & 13        & 0         & 3         & 1         & M         & 0         &  795.3245 & Phone     & C        \\\\\n",
       "\t 30        & 11        & 0         & 1         & 0         & M         & 0         & 1055.6435 & Phone     & C        \\\\\n",
       "\t ⋮ & ⋮ & ⋮ & ⋮ & ⋮ & ⋮ & ⋮ & ⋮ & ⋮ & ⋮\\\\\n",
       "\t 7553      &  2        & 1         & 2         &  0        & F         & 1         &  771.1347 & Broker    & B        \\\\\n",
       "\t 7554      & 13        & 0         & 2         &  0        & M         & 0         &  860.8087 & Online    & C        \\\\\n",
       "\t 7555      & 16        & 1         & 1         &  7        & M         & 1         & 1007.3263 & Broker    & C        \\\\\n",
       "\t 7556      & 18        & 0         & 1         &  2        & F         & 1         &  937.8403 & Phone     & B        \\\\\n",
       "\t 7557      & 21        & 0         & 2         &  0        & M         & 1         & 1021.9286 & Broker    & B        \\\\\n",
       "\t 7558      & 20        & 0         & 1         &  1        & F         & 0         &  999.8304 & Broker    & A        \\\\\n",
       "\t 7559      & 18        & 0         & 1         &  0        & M         & 1         & 1080.7564 & Phone     & C        \\\\\n",
       "\t 7560      &  5        & 0         & 1         &  0        & F         & 0         &  811.3062 & Broker    & C        \\\\\n",
       "\t 7561      &  4        & 0         & 1         &  4        & M         & 1         & 1025.7381 & Broker    & A        \\\\\n",
       "\t 7562      &  5        & 0         & 1         &  0        & F         & 0         &  862.6541 & Broker    & C        \\\\\n",
       "\t 7563      & 15        & 1         & 4         &  6        & F         & 1         &  781.2009 & Broker    & A        \\\\\n",
       "\t 7564      & 12        & 0         & 3         &  0        & M         & 0         &  919.0472 & Phone     & A        \\\\\n",
       "\t 7565      &  0        & 0         & 3         &  0        & M         & 1         &  910.8493 & Broker    & A        \\\\\n",
       "\t 7566      &  0        & 1         & 2         &  1        & M         & 1         &  950.3724 & Broker    & B        \\\\\n",
       "\t 7567      &  8        & 1         & 3         &  0        & M         & 0         &  985.5215 & Online    & C        \\\\\n",
       "\t 7568      & 14        & 0         & 5         &  1        & M         & 1         &  833.8417 & Phone     & A        \\\\\n",
       "\t 7569      &  3        & 0         & 1         &  0        & F         & 0         &  780.9607 & Phone     & B        \\\\\n",
       "\t 7570      & 10        & 0         & 2         & 10        & F         & 1         &  844.0645 & Phone     & A        \\\\\n",
       "\t 7571      & 16        & 0         & 3         &  0        & F         & 0         &  853.7079 & Broker    & C        \\\\\n",
       "\t 7572      & 13        & 0         & 1         &  8        & F         & 1         &  779.1097 & Phone     & C        \\\\\n",
       "\t 7573      &  8        & 1         & 1         &  2        & F         & 1         &  874.4174 & Broker    & C        \\\\\n",
       "\t 7574      &  1        & 0         & 3         &  0        & F         & 1         & 1027.4598 & Broker    & A        \\\\\n",
       "\t 7575      & 12        & 1         & 3         &  0        & M         & 0         &  905.7160 & Broker    & C        \\\\\n",
       "\t 7576      &  7        & 0         & 1         &  1        & F         & 1         &  946.9894 & Phone     & A        \\\\\n",
       "\t 7577      &  9        & 0         & 2         &  7        & M         & 1         &  773.4970 & Phone     & C        \\\\\n",
       "\t 7578      & 13        & 0         & 4         &  1        & F         & 0         &  913.9972 & Broker    & B        \\\\\n",
       "\t 7579      & 20        & 0         & 3         & 11        & M         & 1         & 1003.0572 & Broker    & A        \\\\\n",
       "\t 7580      &  3        & 0         & 1         &  1        & F         & 1         & 1031.4016 & Phone     & A        \\\\\n",
       "\t 7581      &  6        & 0         & 3         &  2        & F         & 1         &  949.4630 & Broker    & B        \\\\\n",
       "\t 7582      & 12        & 0         & 2         &  0        & M         & 1         &  753.6857 & Broker    & C        \\\\\n",
       "\\end{tabular}\n"
      ],
      "text/markdown": [
       "\n",
       "id | tenure | claim.ind | n.adults | n.children | ni.gender | ni.marital.status | premium | sales.channel | coverage.type | \n",
       "|---|---|---|---|---|---|---|---|---|---|---|---|---|---|---|---|---|---|---|---|---|---|---|---|---|---|---|---|---|---|---|---|---|---|---|---|---|---|---|---|---|---|---|---|---|---|---|---|---|---|---|---|---|---|---|---|---|---|---|---|---|\n",
       "|  1        | 12        | 0         | 4         | 2         | F         | 1         |  895.6156 | Broker    | B         | \n",
       "|  2        | 18        | 0         | 2         | 0         | M         | 1         |  828.3324 | Broker    | C         | \n",
       "|  3        |  4        | 0         | 2         | 0         | M         | 0         | 1003.0617 | Phone     | B         | \n",
       "|  4        | 16        | 0         | 1         | 0         | F         | 1         | 1092.4482 | Broker    | C         | \n",
       "|  5        | 14        | 0         | 3         | 3         | M         | 1         |  885.4742 | Phone     | A         | \n",
       "|  6        | 14        | 0         | 3         | 0         | F         | 0         |  897.3957 | Broker    | C         | \n",
       "|  7        | 19        | 0         | 1         | 1         | F         | 0         |  855.0103 | Phone     | A         | \n",
       "|  8        | 13        | 1         | 1         | 0         | M         | 0         |  789.1410 | Broker    | C         | \n",
       "|  9        | 11        | 1         | 1         | 3         | F         | 1         |  986.1079 | Broker    | C         | \n",
       "| 10        | 14        | 0         | 4         | 1         | M         | 1         |  991.8100 | Broker    | C         | \n",
       "| 11        |  5        | 0         | 1         | 0         | M         | 0         |  987.3780 | Phone     | C         | \n",
       "| 12        | 17        | 0         | 3         | 3         | M         | 1         |  905.2240 | Broker    | A         | \n",
       "| 13        |  3        | 0         | 2         | 0         | M         | 0         |  971.4277 | Phone     | C         | \n",
       "| 14        | 15        | 0         | 1         | 0         | M         | 1         |  882.4913 | Broker    | B         | \n",
       "| 15        | 13        | 0         | 1         | 2         | F         | 1         | 1000.2675 | Broker    | C         | \n",
       "| 16        | 18        | 1         | 1         | 1         | M         | 1         |  972.5224 | Phone     | B         | \n",
       "| 17        | 15        | 0         | 1         | 1         | F         | 1         |  918.4751 | Broker    | C         | \n",
       "| 18        | 15        | 0         | 3         | 6         | F         | 1         |  998.1888 | Online    | B         | \n",
       "| 19        |  2        | 0         | 1         | 1         | M         | 1         |  864.3599 | Broker    | B         | \n",
       "| 20        |  5        | 0         | 1         | 1         | F         | 0         |  990.9065 | Broker    | B         | \n",
       "| 21        | 15        | 0         | 2         | 0         | M         | 0         |  806.6902 | Phone     | B         | \n",
       "| 22        | 11        | 1         | 2         | 2         | F         | 1         |  769.2358 | Broker    | A         | \n",
       "| 23        | 18        | 0         | 1         | 1         | F         | 1         |  957.3377 | Broker    | A         | \n",
       "| 24        | 15        | 0         | 1         | 0         | M         | 0         | 1038.0291 | Broker    | B         | \n",
       "| 25        | 15        | 0         | 4         | 4         | F         | 1         |  702.5851 | Broker    | A         | \n",
       "| 26        | 16        | 0         | 1         | 6         | M         | 1         |  897.6654 | Broker    | B         | \n",
       "| 27        | 11        | 0         | 2         | 0         | M         | 1         |  926.2757 | Phone     | A         | \n",
       "| 28        | 15        | 0         | 3         | 1         | M         | 1         |  940.6310 | Phone     | A         | \n",
       "| 29        | 13        | 0         | 3         | 1         | M         | 0         |  795.3245 | Phone     | C         | \n",
       "| 30        | 11        | 0         | 1         | 0         | M         | 0         | 1055.6435 | Phone     | C         | \n",
       "| ⋮ | ⋮ | ⋮ | ⋮ | ⋮ | ⋮ | ⋮ | ⋮ | ⋮ | ⋮ | \n",
       "| 7553      |  2        | 1         | 2         |  0        | F         | 1         |  771.1347 | Broker    | B         | \n",
       "| 7554      | 13        | 0         | 2         |  0        | M         | 0         |  860.8087 | Online    | C         | \n",
       "| 7555      | 16        | 1         | 1         |  7        | M         | 1         | 1007.3263 | Broker    | C         | \n",
       "| 7556      | 18        | 0         | 1         |  2        | F         | 1         |  937.8403 | Phone     | B         | \n",
       "| 7557      | 21        | 0         | 2         |  0        | M         | 1         | 1021.9286 | Broker    | B         | \n",
       "| 7558      | 20        | 0         | 1         |  1        | F         | 0         |  999.8304 | Broker    | A         | \n",
       "| 7559      | 18        | 0         | 1         |  0        | M         | 1         | 1080.7564 | Phone     | C         | \n",
       "| 7560      |  5        | 0         | 1         |  0        | F         | 0         |  811.3062 | Broker    | C         | \n",
       "| 7561      |  4        | 0         | 1         |  4        | M         | 1         | 1025.7381 | Broker    | A         | \n",
       "| 7562      |  5        | 0         | 1         |  0        | F         | 0         |  862.6541 | Broker    | C         | \n",
       "| 7563      | 15        | 1         | 4         |  6        | F         | 1         |  781.2009 | Broker    | A         | \n",
       "| 7564      | 12        | 0         | 3         |  0        | M         | 0         |  919.0472 | Phone     | A         | \n",
       "| 7565      |  0        | 0         | 3         |  0        | M         | 1         |  910.8493 | Broker    | A         | \n",
       "| 7566      |  0        | 1         | 2         |  1        | M         | 1         |  950.3724 | Broker    | B         | \n",
       "| 7567      |  8        | 1         | 3         |  0        | M         | 0         |  985.5215 | Online    | C         | \n",
       "| 7568      | 14        | 0         | 5         |  1        | M         | 1         |  833.8417 | Phone     | A         | \n",
       "| 7569      |  3        | 0         | 1         |  0        | F         | 0         |  780.9607 | Phone     | B         | \n",
       "| 7570      | 10        | 0         | 2         | 10        | F         | 1         |  844.0645 | Phone     | A         | \n",
       "| 7571      | 16        | 0         | 3         |  0        | F         | 0         |  853.7079 | Broker    | C         | \n",
       "| 7572      | 13        | 0         | 1         |  8        | F         | 1         |  779.1097 | Phone     | C         | \n",
       "| 7573      |  8        | 1         | 1         |  2        | F         | 1         |  874.4174 | Broker    | C         | \n",
       "| 7574      |  1        | 0         | 3         |  0        | F         | 1         | 1027.4598 | Broker    | A         | \n",
       "| 7575      | 12        | 1         | 3         |  0        | M         | 0         |  905.7160 | Broker    | C         | \n",
       "| 7576      |  7        | 0         | 1         |  1        | F         | 1         |  946.9894 | Phone     | A         | \n",
       "| 7577      |  9        | 0         | 2         |  7        | M         | 1         |  773.4970 | Phone     | C         | \n",
       "| 7578      | 13        | 0         | 4         |  1        | F         | 0         |  913.9972 | Broker    | B         | \n",
       "| 7579      | 20        | 0         | 3         | 11        | M         | 1         | 1003.0572 | Broker    | A         | \n",
       "| 7580      |  3        | 0         | 1         |  1        | F         | 1         | 1031.4016 | Phone     | A         | \n",
       "| 7581      |  6        | 0         | 3         |  2        | F         | 1         |  949.4630 | Broker    | B         | \n",
       "| 7582      | 12        | 0         | 2         |  0        | M         | 1         |  753.6857 | Broker    | C         | \n",
       "\n",
       "\n"
      ],
      "text/plain": [
       "     id   tenure claim.ind n.adults n.children ni.gender ni.marital.status\n",
       "1     1   12     0         4        2          F         1                \n",
       "2     2   18     0         2        0          M         1                \n",
       "3     3    4     0         2        0          M         0                \n",
       "4     4   16     0         1        0          F         1                \n",
       "5     5   14     0         3        3          M         1                \n",
       "6     6   14     0         3        0          F         0                \n",
       "7     7   19     0         1        1          F         0                \n",
       "8     8   13     1         1        0          M         0                \n",
       "9     9   11     1         1        3          F         1                \n",
       "10   10   14     0         4        1          M         1                \n",
       "11   11    5     0         1        0          M         0                \n",
       "12   12   17     0         3        3          M         1                \n",
       "13   13    3     0         2        0          M         0                \n",
       "14   14   15     0         1        0          M         1                \n",
       "15   15   13     0         1        2          F         1                \n",
       "16   16   18     1         1        1          M         1                \n",
       "17   17   15     0         1        1          F         1                \n",
       "18   18   15     0         3        6          F         1                \n",
       "19   19    2     0         1        1          M         1                \n",
       "20   20    5     0         1        1          F         0                \n",
       "21   21   15     0         2        0          M         0                \n",
       "22   22   11     1         2        2          F         1                \n",
       "23   23   18     0         1        1          F         1                \n",
       "24   24   15     0         1        0          M         0                \n",
       "25   25   15     0         4        4          F         1                \n",
       "26   26   16     0         1        6          M         1                \n",
       "27   27   11     0         2        0          M         1                \n",
       "28   28   15     0         3        1          M         1                \n",
       "29   29   13     0         3        1          M         0                \n",
       "30   30   11     0         1        0          M         0                \n",
       "⋮    ⋮    ⋮      ⋮         ⋮        ⋮          ⋮         ⋮                \n",
       "7549 7553  2     1         2         0         F         1                \n",
       "7550 7554 13     0         2         0         M         0                \n",
       "7551 7555 16     1         1         7         M         1                \n",
       "7552 7556 18     0         1         2         F         1                \n",
       "7553 7557 21     0         2         0         M         1                \n",
       "7554 7558 20     0         1         1         F         0                \n",
       "7555 7559 18     0         1         0         M         1                \n",
       "7556 7560  5     0         1         0         F         0                \n",
       "7557 7561  4     0         1         4         M         1                \n",
       "7558 7562  5     0         1         0         F         0                \n",
       "7559 7563 15     1         4         6         F         1                \n",
       "7560 7564 12     0         3         0         M         0                \n",
       "7561 7565  0     0         3         0         M         1                \n",
       "7562 7566  0     1         2         1         M         1                \n",
       "7563 7567  8     1         3         0         M         0                \n",
       "7564 7568 14     0         5         1         M         1                \n",
       "7565 7569  3     0         1         0         F         0                \n",
       "7566 7570 10     0         2        10         F         1                \n",
       "7567 7571 16     0         3         0         F         0                \n",
       "7568 7572 13     0         1         8         F         1                \n",
       "7569 7573  8     1         1         2         F         1                \n",
       "7570 7574  1     0         3         0         F         1                \n",
       "7571 7575 12     1         3         0         M         0                \n",
       "7572 7576  7     0         1         1         F         1                \n",
       "7573 7577  9     0         2         7         M         1                \n",
       "7574 7578 13     0         4         1         F         0                \n",
       "7575 7579 20     0         3        11         M         1                \n",
       "7576 7580  3     0         1         1         F         1                \n",
       "7577 7581  6     0         3         2         F         1                \n",
       "7578 7582 12     0         2         0         M         1                \n",
       "     premium   sales.channel coverage.type\n",
       "1     895.6156 Broker        B            \n",
       "2     828.3324 Broker        C            \n",
       "3    1003.0617 Phone         B            \n",
       "4    1092.4482 Broker        C            \n",
       "5     885.4742 Phone         A            \n",
       "6     897.3957 Broker        C            \n",
       "7     855.0103 Phone         A            \n",
       "8     789.1410 Broker        C            \n",
       "9     986.1079 Broker        C            \n",
       "10    991.8100 Broker        C            \n",
       "11    987.3780 Phone         C            \n",
       "12    905.2240 Broker        A            \n",
       "13    971.4277 Phone         C            \n",
       "14    882.4913 Broker        B            \n",
       "15   1000.2675 Broker        C            \n",
       "16    972.5224 Phone         B            \n",
       "17    918.4751 Broker        C            \n",
       "18    998.1888 Online        B            \n",
       "19    864.3599 Broker        B            \n",
       "20    990.9065 Broker        B            \n",
       "21    806.6902 Phone         B            \n",
       "22    769.2358 Broker        A            \n",
       "23    957.3377 Broker        A            \n",
       "24   1038.0291 Broker        B            \n",
       "25    702.5851 Broker        A            \n",
       "26    897.6654 Broker        B            \n",
       "27    926.2757 Phone         A            \n",
       "28    940.6310 Phone         A            \n",
       "29    795.3245 Phone         C            \n",
       "30   1055.6435 Phone         C            \n",
       "⋮    ⋮         ⋮             ⋮            \n",
       "7549  771.1347 Broker        B            \n",
       "7550  860.8087 Online        C            \n",
       "7551 1007.3263 Broker        C            \n",
       "7552  937.8403 Phone         B            \n",
       "7553 1021.9286 Broker        B            \n",
       "7554  999.8304 Broker        A            \n",
       "7555 1080.7564 Phone         C            \n",
       "7556  811.3062 Broker        C            \n",
       "7557 1025.7381 Broker        A            \n",
       "7558  862.6541 Broker        C            \n",
       "7559  781.2009 Broker        A            \n",
       "7560  919.0472 Phone         A            \n",
       "7561  910.8493 Broker        A            \n",
       "7562  950.3724 Broker        B            \n",
       "7563  985.5215 Online        C            \n",
       "7564  833.8417 Phone         A            \n",
       "7565  780.9607 Phone         B            \n",
       "7566  844.0645 Phone         A            \n",
       "7567  853.7079 Broker        C            \n",
       "7568  779.1097 Phone         C            \n",
       "7569  874.4174 Broker        C            \n",
       "7570 1027.4598 Broker        A            \n",
       "7571  905.7160 Broker        C            \n",
       "7572  946.9894 Phone         A            \n",
       "7573  773.4970 Phone         C            \n",
       "7574  913.9972 Broker        B            \n",
       "7575 1003.0572 Broker        A            \n",
       "7576 1031.4016 Phone         A            \n",
       "7577  949.4630 Broker        B            \n",
       "7578  753.6857 Broker        C            "
      ]
     },
     "metadata": {},
     "output_type": "display_data"
    }
   ],
   "source": [
    "train = read.csv('Train.csv')\n",
    "train[1:10]"
   ]
  },
  {
   "cell_type": "code",
   "execution_count": 5,
   "metadata": {
    "collapsed": false
   },
   "outputs": [
    {
     "data": {
      "text/plain": [
       "\n",
       " 150  201  500  800  801  850  980 \n",
       "1171  359 2011 1328  104 1791  810 "
      ]
     },
     "metadata": {},
     "output_type": "display_data"
    },
    {
     "data": {
      "text/plain": [
       "       id           tenure        claim.ind         n.adults    \n",
       " Min.   :   1   Min.   : 0.00   Min.   :0.0000   Min.   :1.000  \n",
       " 1st Qu.:1895   1st Qu.: 6.00   1st Qu.:0.0000   1st Qu.:1.000  \n",
       " Median :3790   Median :13.00   Median :0.0000   Median :2.000  \n",
       " Mean   :3790   Mean   :11.71   Mean   :0.2034   Mean   :2.134  \n",
       " 3rd Qu.:5685   3rd Qu.:16.00   3rd Qu.:0.0000   3rd Qu.:3.000  \n",
       " Max.   :7582   Max.   :30.00   Max.   :1.0000   Max.   :9.000  \n",
       "                NA's   :2       NA's   :10       NA's   :5      \n",
       "   n.children     ni.gender   ni.marital.status    premium       sales.channel\n",
       " Min.   : 0.000   F   :3610   Min.   :0.0000    Min.   : 645.8   Broker:4358  \n",
       " 1st Qu.: 0.000   M   :3956   1st Qu.:0.0000    1st Qu.: 845.8   Online: 646  \n",
       " Median : 1.000   NA's:  12   Median :1.0000    Median : 901.4   Phone :2562  \n",
       " Mean   : 1.781               Mean   :0.7168    Mean   : 901.4   NA's  :  12  \n",
       " 3rd Qu.: 3.000               3rd Qu.:1.0000    3rd Qu.: 956.2                \n",
       " Max.   :12.000               Max.   :1.0000    Max.   :1164.8                \n",
       " NA's   :1                    NA's   :7         NA's   :6                     \n",
       " coverage.type dwelling.type   len.at.res       credit     house.color  \n",
       " A   :2583     Condo :1770   Min.   : 2.00   high  :4678   blue  :2039  \n",
       " B   :1816     House :4239   1st Qu.:12.00   low   :1245   red   :1854  \n",
       " C   :3175     Tenant:1558   Median :15.00   medium:1644   white :2937  \n",
       " NA's:   4     NA's  :  11   Mean   :15.20   NA's  :  11   yellow: 740  \n",
       "                             3rd Qu.:18.00                 NA's  :   8  \n",
       "                             Max.   :49.41                              \n",
       "                             NA's   :5                                  \n",
       "     ni.age         year         zip.code      area          cancel       \n",
       " Min.   : 19.00   2013:1579   50021  : 198   AZ  :1791   Min.   :-1.0000  \n",
       " 1st Qu.: 35.00   2014:1828   80016  : 136   CO  :1432   1st Qu.: 0.0000  \n",
       " Median : 43.00   2015:1993   15025  : 129   DC  : 359   Median : 0.0000  \n",
       " Mean   : 43.63   2016:2178   50025  : 117   IA  :2011   Mean   : 0.2399  \n",
       " 3rd Qu.: 51.00               80028  : 104   PA  :1171   3rd Qu.: 0.0000  \n",
       " Max.   :216.50               (Other):6890   wA  : 810   Max.   : 1.0000  \n",
       " NA's   :7                    NA's   :   4   NA's:   4                    "
      ]
     },
     "metadata": {},
     "output_type": "display_data"
    },
    {
     "name": "stdout",
     "output_type": "stream",
     "text": [
      "'data.frame':\t7578 obs. of  19 variables:\n",
      " $ id               : int  1 2 3 4 5 6 7 8 9 10 ...\n",
      " $ tenure           : int  12 18 4 16 14 14 19 13 11 14 ...\n",
      " $ claim.ind        : int  0 0 0 0 0 0 0 1 1 0 ...\n",
      " $ n.adults         : int  4 2 2 1 3 3 1 1 1 4 ...\n",
      " $ n.children       : int  2 0 0 0 3 0 1 0 3 1 ...\n",
      " $ ni.gender        : Factor w/ 2 levels \"F\",\"M\": 1 2 2 1 2 1 1 2 1 2 ...\n",
      " $ ni.marital.status: int  1 1 0 1 1 0 0 0 1 1 ...\n",
      " $ premium          : num  896 828 1003 1092 885 ...\n",
      " $ sales.channel    : Factor w/ 3 levels \"Broker\",\"Online\",..: 1 1 3 1 3 1 3 1 1 1 ...\n",
      " $ coverage.type    : Factor w/ 3 levels \"A\",\"B\",\"C\": 2 3 2 3 1 3 1 3 3 3 ...\n",
      " $ dwelling.type    : Factor w/ 3 levels \"Condo\",\"House\",..: 1 3 2 1 3 2 3 1 3 2 ...\n",
      " $ len.at.res       : num  13 15 10 22 18 19 21 10 18 16 ...\n",
      " $ credit           : Factor w/ 3 levels \"high\",\"low\",\"medium\": 1 1 3 1 2 1 1 1 3 1 ...\n",
      " $ house.color      : Factor w/ 4 levels \"blue\",\"red\",\"white\",..: 1 3 1 2 3 3 3 1 2 3 ...\n",
      " $ ni.age           : num  47 47 30 38 49 40 51 47 42 50 ...\n",
      " $ year             : Factor w/ 4 levels \"2013\",\"2014\",..: 1 1 1 1 1 1 1 1 1 1 ...\n",
      " $ zip.code         : Factor w/ 221 levels \"15001\",\"15003\",..: 122 86 86 128 107 186 33 161 82 77 ...\n",
      " $ area             : Factor w/ 6 levels \"AZ\",\"CO\",\"DC\",..: 2 4 4 2 4 1 5 1 4 4 ...\n",
      " $ cancel           : int  0 0 0 0 0 0 0 0 0 0 ...\n"
     ]
    },
    {
     "data": {
      "image/png": "[encoded data removed]",
      "text/plain": [
       "Plot with title “Histogram of train$zip.code”"
      ]
     },
     "metadata": {},
     "output_type": "display_data"
    }
   ],
   "source": [
    "train$year =as.factor(train$year)\n",
    "\n",
    "##################zip code (assign based on first three digits)\n",
    "train$area = NA\n",
    "hist(train$zip.code)\n",
    "table(train$zip.code %/% 100)\n",
    "train$area[train$zip.code %/% 100 ==150]=\"PA\"\n",
    "train$area[train$zip.code %/% 100 ==201]=\"DC\"\n",
    "train$area[train$zip.code %/% 100 ==500]=\"IA\"\n",
    "train$area[train$zip.code %/% 100 ==800]=\"CO\"\n",
    "train$area[train$zip.code %/% 100 ==801]=\"CO\"\n",
    "train$area[train$zip.code %/% 100 ==850]=\"AZ\"\n",
    "train$area[train$zip.code %/% 100 ==980]=\"wA\"\n",
    "\n",
    "train$area =as.factor(train$area)\n",
    "train$zip.code=as.factor(train$zip.code)\n",
    "train =train[,c(1:17,19,18)]\n",
    "summary(train)\n",
    "str(train)"
   ]
  },
  {
   "cell_type": "code",
   "execution_count": 6,
   "metadata": {
    "collapsed": false
   },
   "outputs": [
    {
     "data": {
      "text/html": [
       "<table>\n",
       "<thead><tr><th scope=col>id</th><th scope=col>tenure</th><th scope=col>claim.ind</th><th scope=col>n.adults</th><th scope=col>n.children</th><th scope=col>ni.gender</th><th scope=col>ni.marital.status</th><th scope=col>premium</th><th scope=col>sales.channel</th><th scope=col>coverage.type</th><th scope=col>dwelling.type</th><th scope=col>len.at.res</th><th scope=col>credit</th><th scope=col>house.color</th><th scope=col>ni.age</th><th scope=col>year</th><th scope=col>zip.code</th><th scope=col>area</th><th scope=col>cancel</th></tr></thead>\n",
       "<tbody>\n",
       "\t<tr><td>1        </td><td>12       </td><td>0        </td><td>4        </td><td>2        </td><td>F        </td><td>1        </td><td> 895.6156</td><td>Broker   </td><td>B        </td><td>Condo    </td><td>13       </td><td>high     </td><td>blue     </td><td>47       </td><td>2013     </td><td>80020    </td><td>CO       </td><td>0        </td></tr>\n",
       "\t<tr><td>2        </td><td>18       </td><td>0        </td><td>2        </td><td>0        </td><td>M        </td><td>1        </td><td> 828.3324</td><td>Broker   </td><td>C        </td><td>Tenant   </td><td>15       </td><td>high     </td><td>white    </td><td>47       </td><td>2013     </td><td>50025    </td><td>IA       </td><td>0        </td></tr>\n",
       "\t<tr><td>3        </td><td> 4       </td><td>0        </td><td>2        </td><td>0        </td><td>M        </td><td>0        </td><td>1003.0617</td><td>Phone    </td><td>B        </td><td>House    </td><td>10       </td><td>medium   </td><td>blue     </td><td>30       </td><td>2013     </td><td>50025    </td><td>IA       </td><td>0        </td></tr>\n",
       "\t<tr><td>4        </td><td>16       </td><td>0        </td><td>1        </td><td>0        </td><td>F        </td><td>1        </td><td>1092.4482</td><td>Broker   </td><td>C        </td><td>Condo    </td><td>22       </td><td>high     </td><td>red      </td><td>38       </td><td>2013     </td><td>80026    </td><td>CO       </td><td>0        </td></tr>\n",
       "\t<tr><td>5        </td><td>14       </td><td>0        </td><td>3        </td><td>3        </td><td>M        </td><td>1        </td><td> 885.4742</td><td>Phone    </td><td>A        </td><td>Tenant   </td><td>18       </td><td>low      </td><td>white    </td><td>49       </td><td>2013     </td><td>50054    </td><td>IA       </td><td>0        </td></tr>\n",
       "\t<tr><td>6        </td><td>14       </td><td>0        </td><td>3        </td><td>0        </td><td>F        </td><td>0        </td><td> 897.3957</td><td>Broker   </td><td>C        </td><td>House    </td><td>19       </td><td>high     </td><td>white    </td><td>40       </td><td>2013     </td><td>85076    </td><td>AZ       </td><td>0        </td></tr>\n",
       "</tbody>\n",
       "</table>\n"
      ],
      "text/latex": [
       "\\begin{tabular}{r|lllllllllllllllllll}\n",
       " id & tenure & claim.ind & n.adults & n.children & ni.gender & ni.marital.status & premium & sales.channel & coverage.type & dwelling.type & len.at.res & credit & house.color & ni.age & year & zip.code & area & cancel\\\\\n",
       "\\hline\n",
       "\t 1         & 12        & 0         & 4         & 2         & F         & 1         &  895.6156 & Broker    & B         & Condo     & 13        & high      & blue      & 47        & 2013      & 80020     & CO        & 0        \\\\\n",
       "\t 2         & 18        & 0         & 2         & 0         & M         & 1         &  828.3324 & Broker    & C         & Tenant    & 15        & high      & white     & 47        & 2013      & 50025     & IA        & 0        \\\\\n",
       "\t 3         &  4        & 0         & 2         & 0         & M         & 0         & 1003.0617 & Phone     & B         & House     & 10        & medium    & blue      & 30        & 2013      & 50025     & IA        & 0        \\\\\n",
       "\t 4         & 16        & 0         & 1         & 0         & F         & 1         & 1092.4482 & Broker    & C         & Condo     & 22        & high      & red       & 38        & 2013      & 80026     & CO        & 0        \\\\\n",
       "\t 5         & 14        & 0         & 3         & 3         & M         & 1         &  885.4742 & Phone     & A         & Tenant    & 18        & low       & white     & 49        & 2013      & 50054     & IA        & 0        \\\\\n",
       "\t 6         & 14        & 0         & 3         & 0         & F         & 0         &  897.3957 & Broker    & C         & House     & 19        & high      & white     & 40        & 2013      & 85076     & AZ        & 0        \\\\\n",
       "\\end{tabular}\n"
      ],
      "text/markdown": [
       "\n",
       "id | tenure | claim.ind | n.adults | n.children | ni.gender | ni.marital.status | premium | sales.channel | coverage.type | dwelling.type | len.at.res | credit | house.color | ni.age | year | zip.code | area | cancel | \n",
       "|---|---|---|---|---|---|\n",
       "| 1         | 12        | 0         | 4         | 2         | F         | 1         |  895.6156 | Broker    | B         | Condo     | 13        | high      | blue      | 47        | 2013      | 80020     | CO        | 0         | \n",
       "| 2         | 18        | 0         | 2         | 0         | M         | 1         |  828.3324 | Broker    | C         | Tenant    | 15        | high      | white     | 47        | 2013      | 50025     | IA        | 0         | \n",
       "| 3         |  4        | 0         | 2         | 0         | M         | 0         | 1003.0617 | Phone     | B         | House     | 10        | medium    | blue      | 30        | 2013      | 50025     | IA        | 0         | \n",
       "| 4         | 16        | 0         | 1         | 0         | F         | 1         | 1092.4482 | Broker    | C         | Condo     | 22        | high      | red       | 38        | 2013      | 80026     | CO        | 0         | \n",
       "| 5         | 14        | 0         | 3         | 3         | M         | 1         |  885.4742 | Phone     | A         | Tenant    | 18        | low       | white     | 49        | 2013      | 50054     | IA        | 0         | \n",
       "| 6         | 14        | 0         | 3         | 0         | F         | 0         |  897.3957 | Broker    | C         | House     | 19        | high      | white     | 40        | 2013      | 85076     | AZ        | 0         | \n",
       "\n",
       "\n"
      ],
      "text/plain": [
       "  id tenure claim.ind n.adults n.children ni.gender ni.marital.status premium  \n",
       "1 1  12     0         4        2          F         1                  895.6156\n",
       "2 2  18     0         2        0          M         1                  828.3324\n",
       "3 3   4     0         2        0          M         0                 1003.0617\n",
       "4 4  16     0         1        0          F         1                 1092.4482\n",
       "5 5  14     0         3        3          M         1                  885.4742\n",
       "6 6  14     0         3        0          F         0                  897.3957\n",
       "  sales.channel coverage.type dwelling.type len.at.res credit house.color\n",
       "1 Broker        B             Condo         13         high   blue       \n",
       "2 Broker        C             Tenant        15         high   white      \n",
       "3 Phone         B             House         10         medium blue       \n",
       "4 Broker        C             Condo         22         high   red        \n",
       "5 Phone         A             Tenant        18         low    white      \n",
       "6 Broker        C             House         19         high   white      \n",
       "  ni.age year zip.code area cancel\n",
       "1 47     2013 80020    CO   0     \n",
       "2 47     2013 50025    IA   0     \n",
       "3 30     2013 50025    IA   0     \n",
       "4 38     2013 80026    CO   0     \n",
       "5 49     2013 50054    IA   0     \n",
       "6 40     2013 85076    AZ   0     "
      ]
     },
     "metadata": {},
     "output_type": "display_data"
    }
   ],
   "source": [
    "head(train)"
   ]
  },
  {
   "cell_type": "code",
   "execution_count": 7,
   "metadata": {
    "collapsed": false,
    "deletable": true,
    "editable": true
   },
   "outputs": [
    {
     "data": {
      "image/png": "[encoded data removed]",
      "text/plain": [
       "Plot with title “tenure”"
      ]
     },
     "metadata": {},
     "output_type": "display_data"
    },
    {
     "data": {
      "image/png": "[encoded data removed]",
      "text/plain": [
       "Plot with title “claim.ind”"
      ]
     },
     "metadata": {},
     "output_type": "display_data"
    },
    {
     "data": {
      "image/png": "[encoded data removed]",
      "text/plain": [
       "Plot with title “n.adults”"
      ]
     },
     "metadata": {},
     "output_type": "display_data"
    },
    {
     "data": {
      "image/png": "[encoded data removed]",
      "text/plain": [
       "Plot with title “n.children”"
      ]
     },
     "metadata": {},
     "output_type": "display_data"
    },
    {
     "data": {
      "image/png": "[encoded data removed]",
      "text/plain": [
       "Plot with title “ni.marital.status”"
      ]
     },
     "metadata": {},
     "output_type": "display_data"
    },
    {
     "data": {
      "image/png": "[encoded data removed]",
      "text/plain": [
       "Plot with title “premium”"
      ]
     },
     "metadata": {},
     "output_type": "display_data"
    },
    {
     "data": {
      "image/png": "[encoded data removed]",
      "text/plain": [
       "Plot with title “len.at.res”"
      ]
     },
     "metadata": {},
     "output_type": "display_data"
    },
    {
     "data": {
      "image/png": "[encoded data removed]",
      "text/plain": [
       "Plot with title “ni.age”"
      ]
     },
     "metadata": {},
     "output_type": "display_data"
    }
   ],
   "source": [
    "for (i in (2:18)) {\n",
    "  if(class(train[,i])!='factor') {\n",
    "    boxplot(train[,i],main = colnames(train)[i])}\n",
    "  else {next}\n",
    "}"
   ]
  },
  {
   "cell_type": "code",
   "execution_count": 8,
   "metadata": {
    "collapsed": false
   },
   "outputs": [
    {
     "data": {
      "image/png": "[encoded data removed]",
      "text/plain": [
       "Plot with title “Histogram of train$n.adults”"
      ]
     },
     "metadata": {},
     "output_type": "display_data"
    }
   ],
   "source": [
    "#n.adults\n",
    "hist(train$n.adults)\n",
    "#nrow(subset(train,train$n.adults>6))\n",
    "train1 = subset(train,train$n.adults<=6)\n"
   ]
  },
  {
   "cell_type": "code",
   "execution_count": 9,
   "metadata": {
    "collapsed": false
   },
   "outputs": [
    {
     "data": {
      "image/png": "[encoded data removed]",
      "text/plain": [
       "Plot with title “Histogram of train$n.children”"
      ]
     },
     "metadata": {},
     "output_type": "display_data"
    }
   ],
   "source": [
    "#n.children\n",
    "hist(train$n.children)\n",
    "#nrow(subset(train,train$n.children<=7))\n",
    "train2 = subset(train1,train1$n.adults<=7)"
   ]
  },
  {
   "cell_type": "code",
   "execution_count": 10,
   "metadata": {
    "collapsed": false
   },
   "outputs": [
    {
     "data": {
      "image/png": "[encoded data removed]",
      "text/plain": [
       "Plot with title “Histogram of train$len.at.res”"
      ]
     },
     "metadata": {},
     "output_type": "display_data"
    },
    {
     "data": {
      "image/png": "[encoded data removed]",
      "text/plain": [
       "plot without title"
      ]
     },
     "metadata": {},
     "output_type": "display_data"
    }
   ],
   "source": [
    "#len.at.res\n",
    "hist(train$len.at.res)\n",
    "boxplot(train$len.at.res)\n",
    "#nrow(subset(train,train$len.at.res>27))\n",
    "train3 = subset(train2,train2$len.at.res<=27)"
   ]
  },
  {
   "cell_type": "code",
   "execution_count": 11,
   "metadata": {
    "collapsed": false
   },
   "outputs": [
    {
     "data": {
      "image/png": "[encoded data removed]",
      "text/plain": [
       "Plot with title “Histogram of train$ni.age”"
      ]
     },
     "metadata": {},
     "output_type": "display_data"
    }
   ],
   "source": [
    "#ni.age\n",
    "hist(train$ni.age)\n",
    "#nrow(subset(train,train$ni.age>80))\n",
    "train4 = subset(train3,train3$ni.age<=90)"
   ]
  },
  {
   "cell_type": "code",
   "execution_count": 12,
   "metadata": {
    "collapsed": false
   },
   "outputs": [
    {
     "data": {
      "text/plain": [
       "       id           tenure        claim.ind         n.adults    \n",
       " Min.   :   1   Min.   : 0.00   Min.   :0.0000   Min.   :1.000  \n",
       " 1st Qu.:1905   1st Qu.: 6.00   1st Qu.:0.0000   1st Qu.:1.000  \n",
       " Median :3794   Median :13.00   Median :0.0000   Median :2.000  \n",
       " Mean   :3796   Mean   :11.71   Mean   :0.2039   Mean   :2.113  \n",
       " 3rd Qu.:5686   3rd Qu.:16.00   3rd Qu.:0.0000   3rd Qu.:3.000  \n",
       " Max.   :7582   Max.   :30.00   Max.   :1.0000   Max.   :6.000  \n",
       "   n.children     ni.marital.status    premium         len.at.res   \n",
       " Min.   : 0.000   Min.   :0.0000    Min.   : 645.8   Min.   : 2.00  \n",
       " 1st Qu.: 0.000   1st Qu.:0.0000    1st Qu.: 845.9   1st Qu.:12.00  \n",
       " Median : 1.000   Median :1.0000    Median : 901.4   Median :15.00  \n",
       " Mean   : 1.775   Mean   :0.7167    Mean   : 901.4   Mean   :14.96  \n",
       " 3rd Qu.: 3.000   3rd Qu.:1.0000    3rd Qu.: 955.9   3rd Qu.:18.00  \n",
       " Max.   :12.000   Max.   :1.0000    Max.   :1164.8   Max.   :27.00  \n",
       "     ni.age          cancel       \n",
       " Min.   :19.00   Min.   :-1.0000  \n",
       " 1st Qu.:35.00   1st Qu.: 0.0000  \n",
       " Median :43.00   Median : 0.0000  \n",
       " Mean   :43.46   Mean   : 0.2408  \n",
       " 3rd Qu.:51.00   3rd Qu.: 0.0000  \n",
       " Max.   :90.00   Max.   : 1.0000  "
      ]
     },
     "metadata": {},
     "output_type": "display_data"
    },
    {
     "name": "stdout",
     "output_type": "stream",
     "text": [
      "'data.frame':\t7434 obs. of  19 variables:\n",
      " $ id               : int  1 2 3 4 5 6 7 8 9 10 ...\n",
      " $ tenure           : num  12 18 4 16 14 14 19 13 11 14 ...\n",
      " $ claim.ind        : num  0 0 0 0 0 0 0 1 1 0 ...\n",
      " $ n.adults         : int  4 2 2 1 3 3 1 1 1 4 ...\n",
      " $ n.children       : num  2 0 0 0 3 0 1 0 3 1 ...\n",
      " $ ni.gender        : Factor w/ 2 levels \"F\",\"M\": 1 2 2 1 2 1 1 2 1 2 ...\n",
      " $ ni.marital.status: num  1 1 0 1 1 0 0 0 1 1 ...\n",
      " $ premium          : num  896 828 1003 1092 885 ...\n",
      " $ sales.channel    : Factor w/ 3 levels \"Broker\",\"Online\",..: 1 1 3 1 3 1 3 1 1 1 ...\n",
      " $ coverage.type    : Factor w/ 3 levels \"A\",\"B\",\"C\": 2 3 2 3 1 3 1 3 3 3 ...\n",
      " $ dwelling.type    : Factor w/ 3 levels \"Condo\",\"House\",..: 1 3 2 1 3 2 3 1 3 2 ...\n",
      " $ len.at.res       : num  13 15 10 22 18 19 21 10 18 16 ...\n",
      " $ credit           : Factor w/ 3 levels \"high\",\"low\",\"medium\": 1 1 3 1 2 1 1 1 3 1 ...\n",
      " $ house.color      : Factor w/ 4 levels \"blue\",\"red\",\"white\",..: 1 3 1 2 3 3 3 1 2 3 ...\n",
      " $ ni.age           : num  47 47 30 38 49 40 51 47 42 50 ...\n",
      " $ year             : Factor w/ 4 levels \"2013\",\"2014\",..: 1 1 1 1 1 1 1 1 1 1 ...\n",
      " $ zip.code         : Factor w/ 221 levels \"15001\",\"15003\",..: 122 86 86 128 107 186 33 161 82 77 ...\n",
      " $ area             : Factor w/ 6 levels \"AZ\",\"CO\",\"DC\",..: 2 4 4 2 4 1 5 1 4 4 ...\n",
      " $ cancel           : int  0 0 0 0 0 0 0 0 0 0 ...\n"
     ]
    },
    {
     "data": {
      "text/html": [
       "<table>\n",
       "<thead><tr><th scope=col>id</th><th scope=col>tenure</th><th scope=col>claim.ind</th><th scope=col>n.adults</th><th scope=col>n.children</th><th scope=col>ni.gender</th><th scope=col>ni.marital.status</th><th scope=col>premium</th><th scope=col>sales.channel</th><th scope=col>coverage.type</th><th scope=col>dwelling.type</th><th scope=col>len.at.res</th><th scope=col>credit</th><th scope=col>house.color</th><th scope=col>ni.age</th><th scope=col>year</th><th scope=col>zip.code</th><th scope=col>area</th><th scope=col>cancel</th></tr></thead>\n",
       "<tbody>\n",
       "\t<tr><td>1        </td><td>12       </td><td>0        </td><td>4        </td><td>2        </td><td>F        </td><td>1        </td><td> 895.6156</td><td>Broker   </td><td>B        </td><td>Condo    </td><td>13       </td><td>high     </td><td>blue     </td><td>47       </td><td>2013     </td><td>80020    </td><td>CO       </td><td>0        </td></tr>\n",
       "\t<tr><td>2        </td><td>18       </td><td>0        </td><td>2        </td><td>0        </td><td>M        </td><td>1        </td><td> 828.3324</td><td>Broker   </td><td>C        </td><td>Tenant   </td><td>15       </td><td>high     </td><td>white    </td><td>47       </td><td>2013     </td><td>50025    </td><td>IA       </td><td>0        </td></tr>\n",
       "\t<tr><td>3        </td><td> 4       </td><td>0        </td><td>2        </td><td>0        </td><td>M        </td><td>0        </td><td>1003.0617</td><td>Phone    </td><td>B        </td><td>House    </td><td>10       </td><td>medium   </td><td>blue     </td><td>30       </td><td>2013     </td><td>50025    </td><td>IA       </td><td>0        </td></tr>\n",
       "\t<tr><td>4        </td><td>16       </td><td>0        </td><td>1        </td><td>0        </td><td>F        </td><td>1        </td><td>1092.4482</td><td>Broker   </td><td>C        </td><td>Condo    </td><td>22       </td><td>high     </td><td>red      </td><td>38       </td><td>2013     </td><td>80026    </td><td>CO       </td><td>0        </td></tr>\n",
       "\t<tr><td>5        </td><td>14       </td><td>0        </td><td>3        </td><td>3        </td><td>M        </td><td>1        </td><td> 885.4742</td><td>Phone    </td><td>A        </td><td>Tenant   </td><td>18       </td><td>low      </td><td>white    </td><td>49       </td><td>2013     </td><td>50054    </td><td>IA       </td><td>0        </td></tr>\n",
       "\t<tr><td>6        </td><td>14       </td><td>0        </td><td>3        </td><td>0        </td><td>F        </td><td>0        </td><td> 897.3957</td><td>Broker   </td><td>C        </td><td>House    </td><td>19       </td><td>high     </td><td>white    </td><td>40       </td><td>2013     </td><td>85076    </td><td>AZ       </td><td>0        </td></tr>\n",
       "</tbody>\n",
       "</table>\n"
      ],
      "text/latex": [
       "\\begin{tabular}{r|lllllllllllllllllll}\n",
       " id & tenure & claim.ind & n.adults & n.children & ni.gender & ni.marital.status & premium & sales.channel & coverage.type & dwelling.type & len.at.res & credit & house.color & ni.age & year & zip.code & area & cancel\\\\\n",
       "\\hline\n",
       "\t 1         & 12        & 0         & 4         & 2         & F         & 1         &  895.6156 & Broker    & B         & Condo     & 13        & high      & blue      & 47        & 2013      & 80020     & CO        & 0        \\\\\n",
       "\t 2         & 18        & 0         & 2         & 0         & M         & 1         &  828.3324 & Broker    & C         & Tenant    & 15        & high      & white     & 47        & 2013      & 50025     & IA        & 0        \\\\\n",
       "\t 3         &  4        & 0         & 2         & 0         & M         & 0         & 1003.0617 & Phone     & B         & House     & 10        & medium    & blue      & 30        & 2013      & 50025     & IA        & 0        \\\\\n",
       "\t 4         & 16        & 0         & 1         & 0         & F         & 1         & 1092.4482 & Broker    & C         & Condo     & 22        & high      & red       & 38        & 2013      & 80026     & CO        & 0        \\\\\n",
       "\t 5         & 14        & 0         & 3         & 3         & M         & 1         &  885.4742 & Phone     & A         & Tenant    & 18        & low       & white     & 49        & 2013      & 50054     & IA        & 0        \\\\\n",
       "\t 6         & 14        & 0         & 3         & 0         & F         & 0         &  897.3957 & Broker    & C         & House     & 19        & high      & white     & 40        & 2013      & 85076     & AZ        & 0        \\\\\n",
       "\\end{tabular}\n"
      ],
      "text/markdown": [
       "\n",
       "id | tenure | claim.ind | n.adults | n.children | ni.gender | ni.marital.status | premium | sales.channel | coverage.type | dwelling.type | len.at.res | credit | house.color | ni.age | year | zip.code | area | cancel | \n",
       "|---|---|---|---|---|---|\n",
       "| 1         | 12        | 0         | 4         | 2         | F         | 1         |  895.6156 | Broker    | B         | Condo     | 13        | high      | blue      | 47        | 2013      | 80020     | CO        | 0         | \n",
       "| 2         | 18        | 0         | 2         | 0         | M         | 1         |  828.3324 | Broker    | C         | Tenant    | 15        | high      | white     | 47        | 2013      | 50025     | IA        | 0         | \n",
       "| 3         |  4        | 0         | 2         | 0         | M         | 0         | 1003.0617 | Phone     | B         | House     | 10        | medium    | blue      | 30        | 2013      | 50025     | IA        | 0         | \n",
       "| 4         | 16        | 0         | 1         | 0         | F         | 1         | 1092.4482 | Broker    | C         | Condo     | 22        | high      | red       | 38        | 2013      | 80026     | CO        | 0         | \n",
       "| 5         | 14        | 0         | 3         | 3         | M         | 1         |  885.4742 | Phone     | A         | Tenant    | 18        | low       | white     | 49        | 2013      | 50054     | IA        | 0         | \n",
       "| 6         | 14        | 0         | 3         | 0         | F         | 0         |  897.3957 | Broker    | C         | House     | 19        | high      | white     | 40        | 2013      | 85076     | AZ        | 0         | \n",
       "\n",
       "\n"
      ],
      "text/plain": [
       "  id tenure claim.ind n.adults n.children ni.gender ni.marital.status premium  \n",
       "1 1  12     0         4        2          F         1                  895.6156\n",
       "2 2  18     0         2        0          M         1                  828.3324\n",
       "3 3   4     0         2        0          M         0                 1003.0617\n",
       "4 4  16     0         1        0          F         1                 1092.4482\n",
       "5 5  14     0         3        3          M         1                  885.4742\n",
       "6 6  14     0         3        0          F         0                  897.3957\n",
       "  sales.channel coverage.type dwelling.type len.at.res credit house.color\n",
       "1 Broker        B             Condo         13         high   blue       \n",
       "2 Broker        C             Tenant        15         high   white      \n",
       "3 Phone         B             House         10         medium blue       \n",
       "4 Broker        C             Condo         22         high   red        \n",
       "5 Phone         A             Tenant        18         low    white      \n",
       "6 Broker        C             House         19         high   white      \n",
       "  ni.age year zip.code area cancel\n",
       "1 47     2013 80020    CO   0     \n",
       "2 47     2013 50025    IA   0     \n",
       "3 30     2013 50025    IA   0     \n",
       "4 38     2013 80026    CO   0     \n",
       "5 49     2013 50054    IA   0     \n",
       "6 40     2013 85076    AZ   0     "
      ]
     },
     "metadata": {},
     "output_type": "display_data"
    }
   ],
   "source": [
    "for (i in (2:18)) {\n",
    "  if(class(train4[,i])!='factor') {\n",
    "    if (sum(is.na(train4[,i]))!=0) {\n",
    "      train4[which(is.na(train4[,i])),i]=mean(train4[,i],na.rm=T)\n",
    "    }\n",
    "  }\n",
    "  else {next}\n",
    "}\n",
    "summary(train4[,-c(6,9,10,11,13,14,16,17,18)])\n",
    "str(train4)\n",
    "head(train4)"
   ]
  },
  {
   "cell_type": "code",
   "execution_count": 13,
   "metadata": {
    "collapsed": false
   },
   "outputs": [
    {
     "data": {
      "text/plain": [
       " ni.gender   sales.channel coverage.type dwelling.type    credit    \n",
       " F   :3528   Broker:4276   A   :2532     Condo :1740   high  :4591  \n",
       " M   :3894   Online: 636   B   :1780     House :4152   low   :1222  \n",
       " NA's:  12   Phone :2510   C   :3118     Tenant:1531   medium:1610  \n",
       "             NA's  :  12   NA's:   4     NA's  :  11   NA's  :  11  \n",
       "                                                                    \n",
       "                                                                    \n",
       "                                                                    \n",
       " house.color     year         zip.code      area     \n",
       " blue  :1998   2013:1540   50021  : 194   AZ  :1759  \n",
       " red   :1820   2014:1794   80016  : 134   CO  :1403  \n",
       " white :2884   2015:1961   15025  : 128   DC  : 350  \n",
       " yellow: 726   2016:2139   50025  : 116   IA  :1971  \n",
       " NA's  :   6               80028  : 103   PA  :1152  \n",
       "                           (Other):6755   wA  : 795  \n",
       "                           NA's   :   4   NA's:   4  "
      ]
     },
     "metadata": {},
     "output_type": "display_data"
    },
    {
     "data": {
      "text/plain": [
       "       id           tenure        claim.ind         n.adults    \n",
       " Min.   :   1   Min.   : 0.00   Min.   :0.0000   Min.   :1.000  \n",
       " 1st Qu.:1906   1st Qu.: 6.00   1st Qu.:0.0000   1st Qu.:1.000  \n",
       " Median :3796   Median :13.00   Median :0.0000   Median :2.000  \n",
       " Mean   :3798   Mean   :11.71   Mean   :0.2043   Mean   :2.116  \n",
       " 3rd Qu.:5689   3rd Qu.:16.00   3rd Qu.:0.0000   3rd Qu.:3.000  \n",
       " Max.   :7582   Max.   :30.00   Max.   :1.0000   Max.   :6.000  \n",
       "                                                                \n",
       "   n.children     ni.gender ni.marital.status    premium       sales.channel\n",
       " Min.   : 0.000   F:3505    Min.   :0.0000    Min.   : 645.8   Broker:4244  \n",
       " 1st Qu.: 0.000   M:3869    1st Qu.:0.0000    1st Qu.: 846.1   Online: 631  \n",
       " Median : 1.000             Median :1.0000    Median : 901.6   Phone :2499  \n",
       " Mean   : 1.776             Mean   :0.7164    Mean   : 901.5                \n",
       " 3rd Qu.: 3.000             3rd Qu.:1.0000    3rd Qu.: 956.1                \n",
       " Max.   :12.000             Max.   :1.0000    Max.   :1164.8                \n",
       "                                                                            \n",
       " coverage.type dwelling.type   len.at.res       credit     house.color  \n",
       " A:2509        Condo :1735   Min.   : 2.00   high  :4555   blue  :1977  \n",
       " B:1767        House :4122   1st Qu.:12.00   low   :1217   red   :1810  \n",
       " C:3098        Tenant:1517   Median :15.00   medium:1602   white :2865  \n",
       "                             Mean   :14.95                 yellow: 722  \n",
       "                             3rd Qu.:18.00                              \n",
       "                             Max.   :27.00                              \n",
       "                                                                        \n",
       "     ni.age        year         zip.code    area          cancel       \n",
       " Min.   :19.00   2013:1526   50021  : 194   AZ:1749   Min.   :-1.0000  \n",
       " 1st Qu.:35.00   2014:1779   80016  : 132   CO:1390   1st Qu.: 0.0000  \n",
       " Median :43.00   2015:1945   15025  : 125   DC: 344   Median : 0.0000  \n",
       " Mean   :43.45   2016:2124   50025  : 116   IA:1957   Mean   : 0.2411  \n",
       " 3rd Qu.:51.00               80028  : 102   PA:1146   3rd Qu.: 0.0000  \n",
       " Max.   :90.00               50028  :  96   wA: 788   Max.   : 1.0000  \n",
       "                             (Other):6609                              "
      ]
     },
     "metadata": {},
     "output_type": "display_data"
    }
   ],
   "source": [
    "summary(train4[,c(6,9,10,11,13,14,16,17,18)])\n",
    "#i=6\n",
    "for (i in (2:18)) {\n",
    "  if(class(train4[,i])=='factor') {\n",
    "    if (sum(is.na(train4[,i]))!=0) {\n",
    "      train4=subset(train4,!is.na(train4[,i]))\n",
    "    }\n",
    "  } \n",
    "  else {next}\n",
    "} \n",
    "\n",
    "summary(train4)\n"
   ]
  },
  {
   "cell_type": "code",
   "execution_count": 14,
   "metadata": {
    "collapsed": false
   },
   "outputs": [
    {
     "data": {
      "text/html": [
       "<ol class=list-inline>\n",
       "\t<li>'ni.gender'</li>\n",
       "\t<li>'sales.channel'</li>\n",
       "\t<li>'coverage.type'</li>\n",
       "\t<li>'dwelling.type'</li>\n",
       "\t<li>'credit'</li>\n",
       "\t<li>'house.color'</li>\n",
       "\t<li>'area'</li>\n",
       "</ol>\n"
      ],
      "text/latex": [
       "\\begin{enumerate*}\n",
       "\\item 'ni.gender'\n",
       "\\item 'sales.channel'\n",
       "\\item 'coverage.type'\n",
       "\\item 'dwelling.type'\n",
       "\\item 'credit'\n",
       "\\item 'house.color'\n",
       "\\item 'area'\n",
       "\\end{enumerate*}\n"
      ],
      "text/markdown": [
       "1. 'ni.gender'\n",
       "2. 'sales.channel'\n",
       "3. 'coverage.type'\n",
       "4. 'dwelling.type'\n",
       "5. 'credit'\n",
       "6. 'house.color'\n",
       "7. 'area'\n",
       "\n",
       "\n"
      ],
      "text/plain": [
       "[1] \"ni.gender\"     \"sales.channel\" \"coverage.type\" \"dwelling.type\"\n",
       "[5] \"credit\"        \"house.color\"   \"area\"         "
      ]
     },
     "metadata": {},
     "output_type": "display_data"
    }
   ],
   "source": [
    "colnames(train4)[c(6,9,10,11,13,14,18)]"
   ]
  },
  {
   "cell_type": "code",
   "execution_count": 15,
   "metadata": {
    "collapsed": false
   },
   "outputs": [
    {
     "data": {
      "text/plain": [
       "~ni.gender + sales.channel + coverage.type + dwelling.type + \n",
       "    credit + house.color + area"
      ]
     },
     "metadata": {},
     "output_type": "display_data"
    }
   ],
   "source": [
    "fmla = as.formula(paste(\"~\",paste(colnames(train4)[c(6,9,10,11,13,14,18)],collapse = \"+\"),sep = \"\"))\n",
    "fmla"
   ]
  },
  {
   "cell_type": "code",
   "execution_count": 16,
   "metadata": {
    "collapsed": false
   },
   "outputs": [
    {
     "data": {
      "text/html": [
       "<table>\n",
       "<thead><tr><th></th><th scope=col>ni.genderM</th><th scope=col>sales.channelOnline</th><th scope=col>sales.channelPhone</th><th scope=col>coverage.typeB</th><th scope=col>coverage.typeC</th><th scope=col>dwelling.typeHouse</th><th scope=col>dwelling.typeTenant</th><th scope=col>creditlow</th><th scope=col>creditmedium</th><th scope=col>house.colorred</th><th scope=col>house.colorwhite</th><th scope=col>house.coloryellow</th><th scope=col>areaCO</th><th scope=col>areaDC</th><th scope=col>areaIA</th><th scope=col>areaPA</th><th scope=col>areawA</th></tr></thead>\n",
       "<tbody>\n",
       "\t<tr><th scope=row>1</th><td>0</td><td>0</td><td>0</td><td>1</td><td>0</td><td>0</td><td>0</td><td>0</td><td>0</td><td>0</td><td>0</td><td>0</td><td>1</td><td>0</td><td>0</td><td>0</td><td>0</td></tr>\n",
       "\t<tr><th scope=row>2</th><td>1</td><td>0</td><td>0</td><td>0</td><td>1</td><td>0</td><td>1</td><td>0</td><td>0</td><td>0</td><td>1</td><td>0</td><td>0</td><td>0</td><td>1</td><td>0</td><td>0</td></tr>\n",
       "\t<tr><th scope=row>3</th><td>1</td><td>0</td><td>1</td><td>1</td><td>0</td><td>1</td><td>0</td><td>0</td><td>1</td><td>0</td><td>0</td><td>0</td><td>0</td><td>0</td><td>1</td><td>0</td><td>0</td></tr>\n",
       "\t<tr><th scope=row>4</th><td>0</td><td>0</td><td>0</td><td>0</td><td>1</td><td>0</td><td>0</td><td>0</td><td>0</td><td>1</td><td>0</td><td>0</td><td>1</td><td>0</td><td>0</td><td>0</td><td>0</td></tr>\n",
       "\t<tr><th scope=row>5</th><td>1</td><td>0</td><td>1</td><td>0</td><td>0</td><td>0</td><td>1</td><td>1</td><td>0</td><td>0</td><td>1</td><td>0</td><td>0</td><td>0</td><td>1</td><td>0</td><td>0</td></tr>\n",
       "\t<tr><th scope=row>6</th><td>0</td><td>0</td><td>0</td><td>0</td><td>1</td><td>1</td><td>0</td><td>0</td><td>0</td><td>0</td><td>1</td><td>0</td><td>0</td><td>0</td><td>0</td><td>0</td><td>0</td></tr>\n",
       "\t<tr><th scope=row>7</th><td>0</td><td>0</td><td>1</td><td>0</td><td>0</td><td>0</td><td>1</td><td>0</td><td>0</td><td>0</td><td>1</td><td>0</td><td>0</td><td>0</td><td>0</td><td>1</td><td>0</td></tr>\n",
       "\t<tr><th scope=row>8</th><td>1</td><td>0</td><td>0</td><td>0</td><td>1</td><td>0</td><td>0</td><td>0</td><td>0</td><td>0</td><td>0</td><td>0</td><td>0</td><td>0</td><td>0</td><td>0</td><td>0</td></tr>\n",
       "\t<tr><th scope=row>9</th><td>0</td><td>0</td><td>0</td><td>0</td><td>1</td><td>0</td><td>1</td><td>0</td><td>1</td><td>1</td><td>0</td><td>0</td><td>0</td><td>0</td><td>1</td><td>0</td><td>0</td></tr>\n",
       "\t<tr><th scope=row>10</th><td>1</td><td>0</td><td>0</td><td>0</td><td>1</td><td>1</td><td>0</td><td>0</td><td>0</td><td>0</td><td>1</td><td>0</td><td>0</td><td>0</td><td>1</td><td>0</td><td>0</td></tr>\n",
       "\t<tr><th scope=row>11</th><td>1</td><td>0</td><td>1</td><td>0</td><td>1</td><td>0</td><td>1</td><td>0</td><td>0</td><td>1</td><td>0</td><td>0</td><td>0</td><td>0</td><td>1</td><td>0</td><td>0</td></tr>\n",
       "\t<tr><th scope=row>12</th><td>1</td><td>0</td><td>0</td><td>0</td><td>0</td><td>1</td><td>0</td><td>1</td><td>0</td><td>0</td><td>0</td><td>0</td><td>0</td><td>0</td><td>0</td><td>0</td><td>0</td></tr>\n",
       "\t<tr><th scope=row>13</th><td>1</td><td>0</td><td>1</td><td>0</td><td>1</td><td>1</td><td>0</td><td>1</td><td>0</td><td>0</td><td>1</td><td>0</td><td>0</td><td>0</td><td>1</td><td>0</td><td>0</td></tr>\n",
       "\t<tr><th scope=row>14</th><td>1</td><td>0</td><td>0</td><td>1</td><td>0</td><td>1</td><td>0</td><td>1</td><td>0</td><td>0</td><td>1</td><td>0</td><td>0</td><td>0</td><td>1</td><td>0</td><td>0</td></tr>\n",
       "\t<tr><th scope=row>15</th><td>0</td><td>0</td><td>0</td><td>0</td><td>1</td><td>0</td><td>1</td><td>0</td><td>0</td><td>0</td><td>0</td><td>0</td><td>0</td><td>0</td><td>1</td><td>0</td><td>0</td></tr>\n",
       "\t<tr><th scope=row>16</th><td>1</td><td>0</td><td>1</td><td>1</td><td>0</td><td>0</td><td>0</td><td>0</td><td>0</td><td>0</td><td>1</td><td>0</td><td>0</td><td>0</td><td>0</td><td>1</td><td>0</td></tr>\n",
       "\t<tr><th scope=row>17</th><td>0</td><td>0</td><td>0</td><td>0</td><td>1</td><td>1</td><td>0</td><td>0</td><td>1</td><td>1</td><td>0</td><td>0</td><td>0</td><td>0</td><td>0</td><td>0</td><td>0</td></tr>\n",
       "\t<tr><th scope=row>18</th><td>0</td><td>1</td><td>0</td><td>1</td><td>0</td><td>0</td><td>0</td><td>1</td><td>0</td><td>0</td><td>1</td><td>0</td><td>0</td><td>0</td><td>0</td><td>0</td><td>0</td></tr>\n",
       "\t<tr><th scope=row>19</th><td>1</td><td>0</td><td>0</td><td>1</td><td>0</td><td>0</td><td>0</td><td>0</td><td>0</td><td>0</td><td>1</td><td>0</td><td>0</td><td>0</td><td>0</td><td>0</td><td>0</td></tr>\n",
       "\t<tr><th scope=row>20</th><td>0</td><td>0</td><td>0</td><td>1</td><td>0</td><td>0</td><td>1</td><td>0</td><td>0</td><td>1</td><td>0</td><td>0</td><td>0</td><td>0</td><td>1</td><td>0</td><td>0</td></tr>\n",
       "\t<tr><th scope=row>21</th><td>1</td><td>0</td><td>1</td><td>1</td><td>0</td><td>1</td><td>0</td><td>1</td><td>0</td><td>0</td><td>0</td><td>0</td><td>0</td><td>0</td><td>0</td><td>0</td><td>0</td></tr>\n",
       "\t<tr><th scope=row>22</th><td>0</td><td>0</td><td>0</td><td>0</td><td>0</td><td>0</td><td>0</td><td>0</td><td>1</td><td>0</td><td>0</td><td>0</td><td>1</td><td>0</td><td>0</td><td>0</td><td>0</td></tr>\n",
       "\t<tr><th scope=row>24</th><td>1</td><td>0</td><td>0</td><td>1</td><td>0</td><td>0</td><td>0</td><td>0</td><td>0</td><td>0</td><td>0</td><td>0</td><td>0</td><td>0</td><td>1</td><td>0</td><td>0</td></tr>\n",
       "\t<tr><th scope=row>25</th><td>0</td><td>0</td><td>0</td><td>0</td><td>0</td><td>1</td><td>0</td><td>0</td><td>0</td><td>1</td><td>0</td><td>0</td><td>0</td><td>0</td><td>0</td><td>0</td><td>1</td></tr>\n",
       "\t<tr><th scope=row>26</th><td>1</td><td>0</td><td>0</td><td>1</td><td>0</td><td>1</td><td>0</td><td>0</td><td>0</td><td>0</td><td>0</td><td>0</td><td>0</td><td>0</td><td>1</td><td>0</td><td>0</td></tr>\n",
       "\t<tr><th scope=row>27</th><td>1</td><td>0</td><td>1</td><td>0</td><td>0</td><td>0</td><td>0</td><td>0</td><td>0</td><td>0</td><td>1</td><td>0</td><td>0</td><td>0</td><td>0</td><td>1</td><td>0</td></tr>\n",
       "\t<tr><th scope=row>28</th><td>1</td><td>0</td><td>1</td><td>0</td><td>0</td><td>0</td><td>1</td><td>0</td><td>1</td><td>0</td><td>1</td><td>0</td><td>1</td><td>0</td><td>0</td><td>0</td><td>0</td></tr>\n",
       "\t<tr><th scope=row>29</th><td>1</td><td>0</td><td>1</td><td>0</td><td>1</td><td>1</td><td>0</td><td>1</td><td>0</td><td>0</td><td>0</td><td>1</td><td>0</td><td>0</td><td>1</td><td>0</td><td>0</td></tr>\n",
       "\t<tr><th scope=row>30</th><td>1</td><td>0</td><td>1</td><td>0</td><td>1</td><td>0</td><td>0</td><td>1</td><td>0</td><td>0</td><td>0</td><td>1</td><td>1</td><td>0</td><td>0</td><td>0</td><td>0</td></tr>\n",
       "\t<tr><th scope=row>31</th><td>0</td><td>0</td><td>0</td><td>1</td><td>0</td><td>0</td><td>1</td><td>0</td><td>1</td><td>0</td><td>0</td><td>0</td><td>0</td><td>0</td><td>0</td><td>0</td><td>0</td></tr>\n",
       "\t<tr><th scope=row>⋮</th><td>⋮</td><td>⋮</td><td>⋮</td><td>⋮</td><td>⋮</td><td>⋮</td><td>⋮</td><td>⋮</td><td>⋮</td><td>⋮</td><td>⋮</td><td>⋮</td><td>⋮</td><td>⋮</td><td>⋮</td><td>⋮</td><td>⋮</td></tr>\n",
       "\t<tr><th scope=row>7549</th><td>0</td><td>0</td><td>0</td><td>1</td><td>0</td><td>0</td><td>0</td><td>0</td><td>0</td><td>1</td><td>0</td><td>0</td><td>0</td><td>0</td><td>0</td><td>0</td><td>0</td></tr>\n",
       "\t<tr><th scope=row>7550</th><td>1</td><td>1</td><td>0</td><td>0</td><td>1</td><td>0</td><td>1</td><td>0</td><td>0</td><td>0</td><td>1</td><td>0</td><td>0</td><td>0</td><td>0</td><td>1</td><td>0</td></tr>\n",
       "\t<tr><th scope=row>7551</th><td>1</td><td>0</td><td>0</td><td>0</td><td>1</td><td>1</td><td>0</td><td>0</td><td>1</td><td>1</td><td>0</td><td>0</td><td>0</td><td>0</td><td>0</td><td>1</td><td>0</td></tr>\n",
       "\t<tr><th scope=row>7552</th><td>0</td><td>0</td><td>1</td><td>1</td><td>0</td><td>1</td><td>0</td><td>0</td><td>0</td><td>0</td><td>0</td><td>1</td><td>0</td><td>0</td><td>0</td><td>0</td><td>1</td></tr>\n",
       "\t<tr><th scope=row>7553</th><td>1</td><td>0</td><td>0</td><td>1</td><td>0</td><td>1</td><td>0</td><td>0</td><td>0</td><td>1</td><td>0</td><td>0</td><td>1</td><td>0</td><td>0</td><td>0</td><td>0</td></tr>\n",
       "\t<tr><th scope=row>7554</th><td>0</td><td>0</td><td>0</td><td>0</td><td>0</td><td>1</td><td>0</td><td>0</td><td>0</td><td>0</td><td>1</td><td>0</td><td>0</td><td>0</td><td>1</td><td>0</td><td>0</td></tr>\n",
       "\t<tr><th scope=row>7555</th><td>1</td><td>0</td><td>1</td><td>0</td><td>1</td><td>1</td><td>0</td><td>1</td><td>0</td><td>0</td><td>1</td><td>0</td><td>0</td><td>0</td><td>0</td><td>0</td><td>0</td></tr>\n",
       "\t<tr><th scope=row>7556</th><td>0</td><td>0</td><td>0</td><td>0</td><td>1</td><td>0</td><td>1</td><td>0</td><td>1</td><td>0</td><td>1</td><td>0</td><td>0</td><td>0</td><td>1</td><td>0</td><td>0</td></tr>\n",
       "\t<tr><th scope=row>7557</th><td>1</td><td>0</td><td>0</td><td>0</td><td>0</td><td>0</td><td>1</td><td>1</td><td>0</td><td>1</td><td>0</td><td>0</td><td>0</td><td>0</td><td>0</td><td>0</td><td>0</td></tr>\n",
       "\t<tr><th scope=row>7558</th><td>0</td><td>0</td><td>0</td><td>0</td><td>1</td><td>1</td><td>0</td><td>1</td><td>0</td><td>0</td><td>0</td><td>0</td><td>0</td><td>0</td><td>1</td><td>0</td><td>0</td></tr>\n",
       "\t<tr><th scope=row>7559</th><td>0</td><td>0</td><td>0</td><td>0</td><td>0</td><td>0</td><td>1</td><td>1</td><td>0</td><td>0</td><td>0</td><td>0</td><td>0</td><td>0</td><td>0</td><td>0</td><td>0</td></tr>\n",
       "\t<tr><th scope=row>7560</th><td>1</td><td>0</td><td>1</td><td>0</td><td>0</td><td>0</td><td>1</td><td>0</td><td>0</td><td>0</td><td>1</td><td>0</td><td>0</td><td>0</td><td>0</td><td>0</td><td>0</td></tr>\n",
       "\t<tr><th scope=row>7561</th><td>1</td><td>0</td><td>0</td><td>0</td><td>0</td><td>1</td><td>0</td><td>0</td><td>0</td><td>0</td><td>0</td><td>0</td><td>0</td><td>0</td><td>1</td><td>0</td><td>0</td></tr>\n",
       "\t<tr><th scope=row>7562</th><td>1</td><td>0</td><td>0</td><td>1</td><td>0</td><td>1</td><td>0</td><td>1</td><td>0</td><td>0</td><td>1</td><td>0</td><td>1</td><td>0</td><td>0</td><td>0</td><td>0</td></tr>\n",
       "\t<tr><th scope=row>7563</th><td>1</td><td>1</td><td>0</td><td>0</td><td>1</td><td>1</td><td>0</td><td>1</td><td>0</td><td>1</td><td>0</td><td>0</td><td>0</td><td>0</td><td>0</td><td>0</td><td>0</td></tr>\n",
       "\t<tr><th scope=row>7564</th><td>1</td><td>0</td><td>1</td><td>0</td><td>0</td><td>1</td><td>0</td><td>0</td><td>0</td><td>0</td><td>1</td><td>0</td><td>0</td><td>0</td><td>0</td><td>0</td><td>0</td></tr>\n",
       "\t<tr><th scope=row>7565</th><td>0</td><td>0</td><td>1</td><td>1</td><td>0</td><td>1</td><td>0</td><td>1</td><td>0</td><td>1</td><td>0</td><td>0</td><td>0</td><td>0</td><td>1</td><td>0</td><td>0</td></tr>\n",
       "\t<tr><th scope=row>7566</th><td>0</td><td>0</td><td>1</td><td>0</td><td>0</td><td>0</td><td>0</td><td>1</td><td>0</td><td>0</td><td>0</td><td>0</td><td>0</td><td>0</td><td>0</td><td>1</td><td>0</td></tr>\n",
       "\t<tr><th scope=row>7567</th><td>0</td><td>0</td><td>0</td><td>0</td><td>1</td><td>0</td><td>0</td><td>0</td><td>0</td><td>0</td><td>1</td><td>0</td><td>0</td><td>0</td><td>0</td><td>0</td><td>1</td></tr>\n",
       "\t<tr><th scope=row>7568</th><td>0</td><td>0</td><td>1</td><td>0</td><td>1</td><td>0</td><td>0</td><td>0</td><td>0</td><td>0</td><td>1</td><td>0</td><td>0</td><td>0</td><td>0</td><td>0</td><td>1</td></tr>\n",
       "\t<tr><th scope=row>7569</th><td>0</td><td>0</td><td>0</td><td>0</td><td>1</td><td>0</td><td>0</td><td>1</td><td>0</td><td>0</td><td>0</td><td>0</td><td>0</td><td>0</td><td>0</td><td>0</td><td>0</td></tr>\n",
       "\t<tr><th scope=row>7570</th><td>0</td><td>0</td><td>0</td><td>0</td><td>0</td><td>1</td><td>0</td><td>0</td><td>1</td><td>1</td><td>0</td><td>0</td><td>0</td><td>0</td><td>0</td><td>1</td><td>0</td></tr>\n",
       "\t<tr><th scope=row>7571</th><td>1</td><td>0</td><td>0</td><td>0</td><td>1</td><td>1</td><td>0</td><td>0</td><td>0</td><td>0</td><td>0</td><td>1</td><td>0</td><td>0</td><td>0</td><td>0</td><td>0</td></tr>\n",
       "\t<tr><th scope=row>7572</th><td>0</td><td>0</td><td>1</td><td>0</td><td>0</td><td>1</td><td>0</td><td>0</td><td>1</td><td>1</td><td>0</td><td>0</td><td>0</td><td>0</td><td>0</td><td>0</td><td>0</td></tr>\n",
       "\t<tr><th scope=row>7573</th><td>1</td><td>0</td><td>1</td><td>0</td><td>1</td><td>0</td><td>0</td><td>0</td><td>0</td><td>0</td><td>1</td><td>0</td><td>0</td><td>0</td><td>1</td><td>0</td><td>0</td></tr>\n",
       "\t<tr><th scope=row>7574</th><td>0</td><td>0</td><td>0</td><td>1</td><td>0</td><td>1</td><td>0</td><td>0</td><td>0</td><td>0</td><td>0</td><td>0</td><td>0</td><td>0</td><td>0</td><td>1</td><td>0</td></tr>\n",
       "\t<tr><th scope=row>7575</th><td>1</td><td>0</td><td>0</td><td>0</td><td>0</td><td>0</td><td>0</td><td>0</td><td>0</td><td>0</td><td>0</td><td>0</td><td>0</td><td>0</td><td>1</td><td>0</td><td>0</td></tr>\n",
       "\t<tr><th scope=row>7576</th><td>0</td><td>0</td><td>1</td><td>0</td><td>0</td><td>1</td><td>0</td><td>0</td><td>0</td><td>0</td><td>0</td><td>0</td><td>0</td><td>0</td><td>1</td><td>0</td><td>0</td></tr>\n",
       "\t<tr><th scope=row>7577</th><td>0</td><td>0</td><td>0</td><td>1</td><td>0</td><td>0</td><td>1</td><td>0</td><td>0</td><td>0</td><td>1</td><td>0</td><td>0</td><td>0</td><td>0</td><td>0</td><td>1</td></tr>\n",
       "\t<tr><th scope=row>7578</th><td>1</td><td>0</td><td>0</td><td>0</td><td>1</td><td>0</td><td>0</td><td>0</td><td>0</td><td>0</td><td>0</td><td>0</td><td>0</td><td>0</td><td>1</td><td>0</td><td>0</td></tr>\n",
       "</tbody>\n",
       "</table>\n"
      ],
      "text/latex": [
       "\\begin{tabular}{r|lllllllllllllllll}\n",
       "  & ni.genderM & sales.channelOnline & sales.channelPhone & coverage.typeB & coverage.typeC & dwelling.typeHouse & dwelling.typeTenant & creditlow & creditmedium & house.colorred & house.colorwhite & house.coloryellow & areaCO & areaDC & areaIA & areaPA & areawA\\\\\n",
       "\\hline\n",
       "\t1 & 0 & 0 & 0 & 1 & 0 & 0 & 0 & 0 & 0 & 0 & 0 & 0 & 1 & 0 & 0 & 0 & 0\\\\\n",
       "\t2 & 1 & 0 & 0 & 0 & 1 & 0 & 1 & 0 & 0 & 0 & 1 & 0 & 0 & 0 & 1 & 0 & 0\\\\\n",
       "\t3 & 1 & 0 & 1 & 1 & 0 & 1 & 0 & 0 & 1 & 0 & 0 & 0 & 0 & 0 & 1 & 0 & 0\\\\\n",
       "\t4 & 0 & 0 & 0 & 0 & 1 & 0 & 0 & 0 & 0 & 1 & 0 & 0 & 1 & 0 & 0 & 0 & 0\\\\\n",
       "\t5 & 1 & 0 & 1 & 0 & 0 & 0 & 1 & 1 & 0 & 0 & 1 & 0 & 0 & 0 & 1 & 0 & 0\\\\\n",
       "\t6 & 0 & 0 & 0 & 0 & 1 & 1 & 0 & 0 & 0 & 0 & 1 & 0 & 0 & 0 & 0 & 0 & 0\\\\\n",
       "\t7 & 0 & 0 & 1 & 0 & 0 & 0 & 1 & 0 & 0 & 0 & 1 & 0 & 0 & 0 & 0 & 1 & 0\\\\\n",
       "\t8 & 1 & 0 & 0 & 0 & 1 & 0 & 0 & 0 & 0 & 0 & 0 & 0 & 0 & 0 & 0 & 0 & 0\\\\\n",
       "\t9 & 0 & 0 & 0 & 0 & 1 & 0 & 1 & 0 & 1 & 1 & 0 & 0 & 0 & 0 & 1 & 0 & 0\\\\\n",
       "\t10 & 1 & 0 & 0 & 0 & 1 & 1 & 0 & 0 & 0 & 0 & 1 & 0 & 0 & 0 & 1 & 0 & 0\\\\\n",
       "\t11 & 1 & 0 & 1 & 0 & 1 & 0 & 1 & 0 & 0 & 1 & 0 & 0 & 0 & 0 & 1 & 0 & 0\\\\\n",
       "\t12 & 1 & 0 & 0 & 0 & 0 & 1 & 0 & 1 & 0 & 0 & 0 & 0 & 0 & 0 & 0 & 0 & 0\\\\\n",
       "\t13 & 1 & 0 & 1 & 0 & 1 & 1 & 0 & 1 & 0 & 0 & 1 & 0 & 0 & 0 & 1 & 0 & 0\\\\\n",
       "\t14 & 1 & 0 & 0 & 1 & 0 & 1 & 0 & 1 & 0 & 0 & 1 & 0 & 0 & 0 & 1 & 0 & 0\\\\\n",
       "\t15 & 0 & 0 & 0 & 0 & 1 & 0 & 1 & 0 & 0 & 0 & 0 & 0 & 0 & 0 & 1 & 0 & 0\\\\\n",
       "\t16 & 1 & 0 & 1 & 1 & 0 & 0 & 0 & 0 & 0 & 0 & 1 & 0 & 0 & 0 & 0 & 1 & 0\\\\\n",
       "\t17 & 0 & 0 & 0 & 0 & 1 & 1 & 0 & 0 & 1 & 1 & 0 & 0 & 0 & 0 & 0 & 0 & 0\\\\\n",
       "\t18 & 0 & 1 & 0 & 1 & 0 & 0 & 0 & 1 & 0 & 0 & 1 & 0 & 0 & 0 & 0 & 0 & 0\\\\\n",
       "\t19 & 1 & 0 & 0 & 1 & 0 & 0 & 0 & 0 & 0 & 0 & 1 & 0 & 0 & 0 & 0 & 0 & 0\\\\\n",
       "\t20 & 0 & 0 & 0 & 1 & 0 & 0 & 1 & 0 & 0 & 1 & 0 & 0 & 0 & 0 & 1 & 0 & 0\\\\\n",
       "\t21 & 1 & 0 & 1 & 1 & 0 & 1 & 0 & 1 & 0 & 0 & 0 & 0 & 0 & 0 & 0 & 0 & 0\\\\\n",
       "\t22 & 0 & 0 & 0 & 0 & 0 & 0 & 0 & 0 & 1 & 0 & 0 & 0 & 1 & 0 & 0 & 0 & 0\\\\\n",
       "\t24 & 1 & 0 & 0 & 1 & 0 & 0 & 0 & 0 & 0 & 0 & 0 & 0 & 0 & 0 & 1 & 0 & 0\\\\\n",
       "\t25 & 0 & 0 & 0 & 0 & 0 & 1 & 0 & 0 & 0 & 1 & 0 & 0 & 0 & 0 & 0 & 0 & 1\\\\\n",
       "\t26 & 1 & 0 & 0 & 1 & 0 & 1 & 0 & 0 & 0 & 0 & 0 & 0 & 0 & 0 & 1 & 0 & 0\\\\\n",
       "\t27 & 1 & 0 & 1 & 0 & 0 & 0 & 0 & 0 & 0 & 0 & 1 & 0 & 0 & 0 & 0 & 1 & 0\\\\\n",
       "\t28 & 1 & 0 & 1 & 0 & 0 & 0 & 1 & 0 & 1 & 0 & 1 & 0 & 1 & 0 & 0 & 0 & 0\\\\\n",
       "\t29 & 1 & 0 & 1 & 0 & 1 & 1 & 0 & 1 & 0 & 0 & 0 & 1 & 0 & 0 & 1 & 0 & 0\\\\\n",
       "\t30 & 1 & 0 & 1 & 0 & 1 & 0 & 0 & 1 & 0 & 0 & 0 & 1 & 1 & 0 & 0 & 0 & 0\\\\\n",
       "\t31 & 0 & 0 & 0 & 1 & 0 & 0 & 1 & 0 & 1 & 0 & 0 & 0 & 0 & 0 & 0 & 0 & 0\\\\\n",
       "\t⋮ & ⋮ & ⋮ & ⋮ & ⋮ & ⋮ & ⋮ & ⋮ & ⋮ & ⋮ & ⋮ & ⋮ & ⋮ & ⋮ & ⋮ & ⋮ & ⋮ & ⋮\\\\\n",
       "\t7549 & 0 & 0 & 0 & 1 & 0 & 0 & 0 & 0 & 0 & 1 & 0 & 0 & 0 & 0 & 0 & 0 & 0\\\\\n",
       "\t7550 & 1 & 1 & 0 & 0 & 1 & 0 & 1 & 0 & 0 & 0 & 1 & 0 & 0 & 0 & 0 & 1 & 0\\\\\n",
       "\t7551 & 1 & 0 & 0 & 0 & 1 & 1 & 0 & 0 & 1 & 1 & 0 & 0 & 0 & 0 & 0 & 1 & 0\\\\\n",
       "\t7552 & 0 & 0 & 1 & 1 & 0 & 1 & 0 & 0 & 0 & 0 & 0 & 1 & 0 & 0 & 0 & 0 & 1\\\\\n",
       "\t7553 & 1 & 0 & 0 & 1 & 0 & 1 & 0 & 0 & 0 & 1 & 0 & 0 & 1 & 0 & 0 & 0 & 0\\\\\n",
       "\t7554 & 0 & 0 & 0 & 0 & 0 & 1 & 0 & 0 & 0 & 0 & 1 & 0 & 0 & 0 & 1 & 0 & 0\\\\\n",
       "\t7555 & 1 & 0 & 1 & 0 & 1 & 1 & 0 & 1 & 0 & 0 & 1 & 0 & 0 & 0 & 0 & 0 & 0\\\\\n",
       "\t7556 & 0 & 0 & 0 & 0 & 1 & 0 & 1 & 0 & 1 & 0 & 1 & 0 & 0 & 0 & 1 & 0 & 0\\\\\n",
       "\t7557 & 1 & 0 & 0 & 0 & 0 & 0 & 1 & 1 & 0 & 1 & 0 & 0 & 0 & 0 & 0 & 0 & 0\\\\\n",
       "\t7558 & 0 & 0 & 0 & 0 & 1 & 1 & 0 & 1 & 0 & 0 & 0 & 0 & 0 & 0 & 1 & 0 & 0\\\\\n",
       "\t7559 & 0 & 0 & 0 & 0 & 0 & 0 & 1 & 1 & 0 & 0 & 0 & 0 & 0 & 0 & 0 & 0 & 0\\\\\n",
       "\t7560 & 1 & 0 & 1 & 0 & 0 & 0 & 1 & 0 & 0 & 0 & 1 & 0 & 0 & 0 & 0 & 0 & 0\\\\\n",
       "\t7561 & 1 & 0 & 0 & 0 & 0 & 1 & 0 & 0 & 0 & 0 & 0 & 0 & 0 & 0 & 1 & 0 & 0\\\\\n",
       "\t7562 & 1 & 0 & 0 & 1 & 0 & 1 & 0 & 1 & 0 & 0 & 1 & 0 & 1 & 0 & 0 & 0 & 0\\\\\n",
       "\t7563 & 1 & 1 & 0 & 0 & 1 & 1 & 0 & 1 & 0 & 1 & 0 & 0 & 0 & 0 & 0 & 0 & 0\\\\\n",
       "\t7564 & 1 & 0 & 1 & 0 & 0 & 1 & 0 & 0 & 0 & 0 & 1 & 0 & 0 & 0 & 0 & 0 & 0\\\\\n",
       "\t7565 & 0 & 0 & 1 & 1 & 0 & 1 & 0 & 1 & 0 & 1 & 0 & 0 & 0 & 0 & 1 & 0 & 0\\\\\n",
       "\t7566 & 0 & 0 & 1 & 0 & 0 & 0 & 0 & 1 & 0 & 0 & 0 & 0 & 0 & 0 & 0 & 1 & 0\\\\\n",
       "\t7567 & 0 & 0 & 0 & 0 & 1 & 0 & 0 & 0 & 0 & 0 & 1 & 0 & 0 & 0 & 0 & 0 & 1\\\\\n",
       "\t7568 & 0 & 0 & 1 & 0 & 1 & 0 & 0 & 0 & 0 & 0 & 1 & 0 & 0 & 0 & 0 & 0 & 1\\\\\n",
       "\t7569 & 0 & 0 & 0 & 0 & 1 & 0 & 0 & 1 & 0 & 0 & 0 & 0 & 0 & 0 & 0 & 0 & 0\\\\\n",
       "\t7570 & 0 & 0 & 0 & 0 & 0 & 1 & 0 & 0 & 1 & 1 & 0 & 0 & 0 & 0 & 0 & 1 & 0\\\\\n",
       "\t7571 & 1 & 0 & 0 & 0 & 1 & 1 & 0 & 0 & 0 & 0 & 0 & 1 & 0 & 0 & 0 & 0 & 0\\\\\n",
       "\t7572 & 0 & 0 & 1 & 0 & 0 & 1 & 0 & 0 & 1 & 1 & 0 & 0 & 0 & 0 & 0 & 0 & 0\\\\\n",
       "\t7573 & 1 & 0 & 1 & 0 & 1 & 0 & 0 & 0 & 0 & 0 & 1 & 0 & 0 & 0 & 1 & 0 & 0\\\\\n",
       "\t7574 & 0 & 0 & 0 & 1 & 0 & 1 & 0 & 0 & 0 & 0 & 0 & 0 & 0 & 0 & 0 & 1 & 0\\\\\n",
       "\t7575 & 1 & 0 & 0 & 0 & 0 & 0 & 0 & 0 & 0 & 0 & 0 & 0 & 0 & 0 & 1 & 0 & 0\\\\\n",
       "\t7576 & 0 & 0 & 1 & 0 & 0 & 1 & 0 & 0 & 0 & 0 & 0 & 0 & 0 & 0 & 1 & 0 & 0\\\\\n",
       "\t7577 & 0 & 0 & 0 & 1 & 0 & 0 & 1 & 0 & 0 & 0 & 1 & 0 & 0 & 0 & 0 & 0 & 1\\\\\n",
       "\t7578 & 1 & 0 & 0 & 0 & 1 & 0 & 0 & 0 & 0 & 0 & 0 & 0 & 0 & 0 & 1 & 0 & 0\\\\\n",
       "\\end{tabular}\n"
      ],
      "text/markdown": [
       "\n",
       "| <!--/--> | ni.genderM | sales.channelOnline | sales.channelPhone | coverage.typeB | coverage.typeC | dwelling.typeHouse | dwelling.typeTenant | creditlow | creditmedium | house.colorred | house.colorwhite | house.coloryellow | areaCO | areaDC | areaIA | areaPA | areawA | \n",
       "|---|---|---|---|---|---|---|---|---|---|---|---|---|---|---|---|---|---|---|---|---|---|---|---|---|---|---|---|---|---|---|---|---|---|---|---|---|---|---|---|---|---|---|---|---|---|---|---|---|---|---|---|---|---|---|---|---|---|---|---|---|\n",
       "| 1 | 0 | 0 | 0 | 1 | 0 | 0 | 0 | 0 | 0 | 0 | 0 | 0 | 1 | 0 | 0 | 0 | 0 | \n",
       "| 2 | 1 | 0 | 0 | 0 | 1 | 0 | 1 | 0 | 0 | 0 | 1 | 0 | 0 | 0 | 1 | 0 | 0 | \n",
       "| 3 | 1 | 0 | 1 | 1 | 0 | 1 | 0 | 0 | 1 | 0 | 0 | 0 | 0 | 0 | 1 | 0 | 0 | \n",
       "| 4 | 0 | 0 | 0 | 0 | 1 | 0 | 0 | 0 | 0 | 1 | 0 | 0 | 1 | 0 | 0 | 0 | 0 | \n",
       "| 5 | 1 | 0 | 1 | 0 | 0 | 0 | 1 | 1 | 0 | 0 | 1 | 0 | 0 | 0 | 1 | 0 | 0 | \n",
       "| 6 | 0 | 0 | 0 | 0 | 1 | 1 | 0 | 0 | 0 | 0 | 1 | 0 | 0 | 0 | 0 | 0 | 0 | \n",
       "| 7 | 0 | 0 | 1 | 0 | 0 | 0 | 1 | 0 | 0 | 0 | 1 | 0 | 0 | 0 | 0 | 1 | 0 | \n",
       "| 8 | 1 | 0 | 0 | 0 | 1 | 0 | 0 | 0 | 0 | 0 | 0 | 0 | 0 | 0 | 0 | 0 | 0 | \n",
       "| 9 | 0 | 0 | 0 | 0 | 1 | 0 | 1 | 0 | 1 | 1 | 0 | 0 | 0 | 0 | 1 | 0 | 0 | \n",
       "| 10 | 1 | 0 | 0 | 0 | 1 | 1 | 0 | 0 | 0 | 0 | 1 | 0 | 0 | 0 | 1 | 0 | 0 | \n",
       "| 11 | 1 | 0 | 1 | 0 | 1 | 0 | 1 | 0 | 0 | 1 | 0 | 0 | 0 | 0 | 1 | 0 | 0 | \n",
       "| 12 | 1 | 0 | 0 | 0 | 0 | 1 | 0 | 1 | 0 | 0 | 0 | 0 | 0 | 0 | 0 | 0 | 0 | \n",
       "| 13 | 1 | 0 | 1 | 0 | 1 | 1 | 0 | 1 | 0 | 0 | 1 | 0 | 0 | 0 | 1 | 0 | 0 | \n",
       "| 14 | 1 | 0 | 0 | 1 | 0 | 1 | 0 | 1 | 0 | 0 | 1 | 0 | 0 | 0 | 1 | 0 | 0 | \n",
       "| 15 | 0 | 0 | 0 | 0 | 1 | 0 | 1 | 0 | 0 | 0 | 0 | 0 | 0 | 0 | 1 | 0 | 0 | \n",
       "| 16 | 1 | 0 | 1 | 1 | 0 | 0 | 0 | 0 | 0 | 0 | 1 | 0 | 0 | 0 | 0 | 1 | 0 | \n",
       "| 17 | 0 | 0 | 0 | 0 | 1 | 1 | 0 | 0 | 1 | 1 | 0 | 0 | 0 | 0 | 0 | 0 | 0 | \n",
       "| 18 | 0 | 1 | 0 | 1 | 0 | 0 | 0 | 1 | 0 | 0 | 1 | 0 | 0 | 0 | 0 | 0 | 0 | \n",
       "| 19 | 1 | 0 | 0 | 1 | 0 | 0 | 0 | 0 | 0 | 0 | 1 | 0 | 0 | 0 | 0 | 0 | 0 | \n",
       "| 20 | 0 | 0 | 0 | 1 | 0 | 0 | 1 | 0 | 0 | 1 | 0 | 0 | 0 | 0 | 1 | 0 | 0 | \n",
       "| 21 | 1 | 0 | 1 | 1 | 0 | 1 | 0 | 1 | 0 | 0 | 0 | 0 | 0 | 0 | 0 | 0 | 0 | \n",
       "| 22 | 0 | 0 | 0 | 0 | 0 | 0 | 0 | 0 | 1 | 0 | 0 | 0 | 1 | 0 | 0 | 0 | 0 | \n",
       "| 24 | 1 | 0 | 0 | 1 | 0 | 0 | 0 | 0 | 0 | 0 | 0 | 0 | 0 | 0 | 1 | 0 | 0 | \n",
       "| 25 | 0 | 0 | 0 | 0 | 0 | 1 | 0 | 0 | 0 | 1 | 0 | 0 | 0 | 0 | 0 | 0 | 1 | \n",
       "| 26 | 1 | 0 | 0 | 1 | 0 | 1 | 0 | 0 | 0 | 0 | 0 | 0 | 0 | 0 | 1 | 0 | 0 | \n",
       "| 27 | 1 | 0 | 1 | 0 | 0 | 0 | 0 | 0 | 0 | 0 | 1 | 0 | 0 | 0 | 0 | 1 | 0 | \n",
       "| 28 | 1 | 0 | 1 | 0 | 0 | 0 | 1 | 0 | 1 | 0 | 1 | 0 | 1 | 0 | 0 | 0 | 0 | \n",
       "| 29 | 1 | 0 | 1 | 0 | 1 | 1 | 0 | 1 | 0 | 0 | 0 | 1 | 0 | 0 | 1 | 0 | 0 | \n",
       "| 30 | 1 | 0 | 1 | 0 | 1 | 0 | 0 | 1 | 0 | 0 | 0 | 1 | 1 | 0 | 0 | 0 | 0 | \n",
       "| 31 | 0 | 0 | 0 | 1 | 0 | 0 | 1 | 0 | 1 | 0 | 0 | 0 | 0 | 0 | 0 | 0 | 0 | \n",
       "| ⋮ | ⋮ | ⋮ | ⋮ | ⋮ | ⋮ | ⋮ | ⋮ | ⋮ | ⋮ | ⋮ | ⋮ | ⋮ | ⋮ | ⋮ | ⋮ | ⋮ | ⋮ | \n",
       "| 7549 | 0 | 0 | 0 | 1 | 0 | 0 | 0 | 0 | 0 | 1 | 0 | 0 | 0 | 0 | 0 | 0 | 0 | \n",
       "| 7550 | 1 | 1 | 0 | 0 | 1 | 0 | 1 | 0 | 0 | 0 | 1 | 0 | 0 | 0 | 0 | 1 | 0 | \n",
       "| 7551 | 1 | 0 | 0 | 0 | 1 | 1 | 0 | 0 | 1 | 1 | 0 | 0 | 0 | 0 | 0 | 1 | 0 | \n",
       "| 7552 | 0 | 0 | 1 | 1 | 0 | 1 | 0 | 0 | 0 | 0 | 0 | 1 | 0 | 0 | 0 | 0 | 1 | \n",
       "| 7553 | 1 | 0 | 0 | 1 | 0 | 1 | 0 | 0 | 0 | 1 | 0 | 0 | 1 | 0 | 0 | 0 | 0 | \n",
       "| 7554 | 0 | 0 | 0 | 0 | 0 | 1 | 0 | 0 | 0 | 0 | 1 | 0 | 0 | 0 | 1 | 0 | 0 | \n",
       "| 7555 | 1 | 0 | 1 | 0 | 1 | 1 | 0 | 1 | 0 | 0 | 1 | 0 | 0 | 0 | 0 | 0 | 0 | \n",
       "| 7556 | 0 | 0 | 0 | 0 | 1 | 0 | 1 | 0 | 1 | 0 | 1 | 0 | 0 | 0 | 1 | 0 | 0 | \n",
       "| 7557 | 1 | 0 | 0 | 0 | 0 | 0 | 1 | 1 | 0 | 1 | 0 | 0 | 0 | 0 | 0 | 0 | 0 | \n",
       "| 7558 | 0 | 0 | 0 | 0 | 1 | 1 | 0 | 1 | 0 | 0 | 0 | 0 | 0 | 0 | 1 | 0 | 0 | \n",
       "| 7559 | 0 | 0 | 0 | 0 | 0 | 0 | 1 | 1 | 0 | 0 | 0 | 0 | 0 | 0 | 0 | 0 | 0 | \n",
       "| 7560 | 1 | 0 | 1 | 0 | 0 | 0 | 1 | 0 | 0 | 0 | 1 | 0 | 0 | 0 | 0 | 0 | 0 | \n",
       "| 7561 | 1 | 0 | 0 | 0 | 0 | 1 | 0 | 0 | 0 | 0 | 0 | 0 | 0 | 0 | 1 | 0 | 0 | \n",
       "| 7562 | 1 | 0 | 0 | 1 | 0 | 1 | 0 | 1 | 0 | 0 | 1 | 0 | 1 | 0 | 0 | 0 | 0 | \n",
       "| 7563 | 1 | 1 | 0 | 0 | 1 | 1 | 0 | 1 | 0 | 1 | 0 | 0 | 0 | 0 | 0 | 0 | 0 | \n",
       "| 7564 | 1 | 0 | 1 | 0 | 0 | 1 | 0 | 0 | 0 | 0 | 1 | 0 | 0 | 0 | 0 | 0 | 0 | \n",
       "| 7565 | 0 | 0 | 1 | 1 | 0 | 1 | 0 | 1 | 0 | 1 | 0 | 0 | 0 | 0 | 1 | 0 | 0 | \n",
       "| 7566 | 0 | 0 | 1 | 0 | 0 | 0 | 0 | 1 | 0 | 0 | 0 | 0 | 0 | 0 | 0 | 1 | 0 | \n",
       "| 7567 | 0 | 0 | 0 | 0 | 1 | 0 | 0 | 0 | 0 | 0 | 1 | 0 | 0 | 0 | 0 | 0 | 1 | \n",
       "| 7568 | 0 | 0 | 1 | 0 | 1 | 0 | 0 | 0 | 0 | 0 | 1 | 0 | 0 | 0 | 0 | 0 | 1 | \n",
       "| 7569 | 0 | 0 | 0 | 0 | 1 | 0 | 0 | 1 | 0 | 0 | 0 | 0 | 0 | 0 | 0 | 0 | 0 | \n",
       "| 7570 | 0 | 0 | 0 | 0 | 0 | 1 | 0 | 0 | 1 | 1 | 0 | 0 | 0 | 0 | 0 | 1 | 0 | \n",
       "| 7571 | 1 | 0 | 0 | 0 | 1 | 1 | 0 | 0 | 0 | 0 | 0 | 1 | 0 | 0 | 0 | 0 | 0 | \n",
       "| 7572 | 0 | 0 | 1 | 0 | 0 | 1 | 0 | 0 | 1 | 1 | 0 | 0 | 0 | 0 | 0 | 0 | 0 | \n",
       "| 7573 | 1 | 0 | 1 | 0 | 1 | 0 | 0 | 0 | 0 | 0 | 1 | 0 | 0 | 0 | 1 | 0 | 0 | \n",
       "| 7574 | 0 | 0 | 0 | 1 | 0 | 1 | 0 | 0 | 0 | 0 | 0 | 0 | 0 | 0 | 0 | 1 | 0 | \n",
       "| 7575 | 1 | 0 | 0 | 0 | 0 | 0 | 0 | 0 | 0 | 0 | 0 | 0 | 0 | 0 | 1 | 0 | 0 | \n",
       "| 7576 | 0 | 0 | 1 | 0 | 0 | 1 | 0 | 0 | 0 | 0 | 0 | 0 | 0 | 0 | 1 | 0 | 0 | \n",
       "| 7577 | 0 | 0 | 0 | 1 | 0 | 0 | 1 | 0 | 0 | 0 | 1 | 0 | 0 | 0 | 0 | 0 | 1 | \n",
       "| 7578 | 1 | 0 | 0 | 0 | 1 | 0 | 0 | 0 | 0 | 0 | 0 | 0 | 0 | 0 | 1 | 0 | 0 | \n",
       "\n",
       "\n"
      ],
      "text/plain": [
       "     ni.genderM sales.channelOnline sales.channelPhone coverage.typeB\n",
       "1    0          0                   0                  1             \n",
       "2    1          0                   0                  0             \n",
       "3    1          0                   1                  1             \n",
       "4    0          0                   0                  0             \n",
       "5    1          0                   1                  0             \n",
       "6    0          0                   0                  0             \n",
       "7    0          0                   1                  0             \n",
       "8    1          0                   0                  0             \n",
       "9    0          0                   0                  0             \n",
       "10   1          0                   0                  0             \n",
       "11   1          0                   1                  0             \n",
       "12   1          0                   0                  0             \n",
       "13   1          0                   1                  0             \n",
       "14   1          0                   0                  1             \n",
       "15   0          0                   0                  0             \n",
       "16   1          0                   1                  1             \n",
       "17   0          0                   0                  0             \n",
       "18   0          1                   0                  1             \n",
       "19   1          0                   0                  1             \n",
       "20   0          0                   0                  1             \n",
       "21   1          0                   1                  1             \n",
       "22   0          0                   0                  0             \n",
       "24   1          0                   0                  1             \n",
       "25   0          0                   0                  0             \n",
       "26   1          0                   0                  1             \n",
       "27   1          0                   1                  0             \n",
       "28   1          0                   1                  0             \n",
       "29   1          0                   1                  0             \n",
       "30   1          0                   1                  0             \n",
       "31   0          0                   0                  1             \n",
       "⋮    ⋮          ⋮                   ⋮                  ⋮             \n",
       "7549 0          0                   0                  1             \n",
       "7550 1          1                   0                  0             \n",
       "7551 1          0                   0                  0             \n",
       "7552 0          0                   1                  1             \n",
       "7553 1          0                   0                  1             \n",
       "7554 0          0                   0                  0             \n",
       "7555 1          0                   1                  0             \n",
       "7556 0          0                   0                  0             \n",
       "7557 1          0                   0                  0             \n",
       "7558 0          0                   0                  0             \n",
       "7559 0          0                   0                  0             \n",
       "7560 1          0                   1                  0             \n",
       "7561 1          0                   0                  0             \n",
       "7562 1          0                   0                  1             \n",
       "7563 1          1                   0                  0             \n",
       "7564 1          0                   1                  0             \n",
       "7565 0          0                   1                  1             \n",
       "7566 0          0                   1                  0             \n",
       "7567 0          0                   0                  0             \n",
       "7568 0          0                   1                  0             \n",
       "7569 0          0                   0                  0             \n",
       "7570 0          0                   0                  0             \n",
       "7571 1          0                   0                  0             \n",
       "7572 0          0                   1                  0             \n",
       "7573 1          0                   1                  0             \n",
       "7574 0          0                   0                  1             \n",
       "7575 1          0                   0                  0             \n",
       "7576 0          0                   1                  0             \n",
       "7577 0          0                   0                  1             \n",
       "7578 1          0                   0                  0             \n",
       "     coverage.typeC dwelling.typeHouse dwelling.typeTenant creditlow\n",
       "1    0              0                  0                   0        \n",
       "2    1              0                  1                   0        \n",
       "3    0              1                  0                   0        \n",
       "4    1              0                  0                   0        \n",
       "5    0              0                  1                   1        \n",
       "6    1              1                  0                   0        \n",
       "7    0              0                  1                   0        \n",
       "8    1              0                  0                   0        \n",
       "9    1              0                  1                   0        \n",
       "10   1              1                  0                   0        \n",
       "11   1              0                  1                   0        \n",
       "12   0              1                  0                   1        \n",
       "13   1              1                  0                   1        \n",
       "14   0              1                  0                   1        \n",
       "15   1              0                  1                   0        \n",
       "16   0              0                  0                   0        \n",
       "17   1              1                  0                   0        \n",
       "18   0              0                  0                   1        \n",
       "19   0              0                  0                   0        \n",
       "20   0              0                  1                   0        \n",
       "21   0              1                  0                   1        \n",
       "22   0              0                  0                   0        \n",
       "24   0              0                  0                   0        \n",
       "25   0              1                  0                   0        \n",
       "26   0              1                  0                   0        \n",
       "27   0              0                  0                   0        \n",
       "28   0              0                  1                   0        \n",
       "29   1              1                  0                   1        \n",
       "30   1              0                  0                   1        \n",
       "31   0              0                  1                   0        \n",
       "⋮    ⋮              ⋮                  ⋮                   ⋮        \n",
       "7549 0              0                  0                   0        \n",
       "7550 1              0                  1                   0        \n",
       "7551 1              1                  0                   0        \n",
       "7552 0              1                  0                   0        \n",
       "7553 0              1                  0                   0        \n",
       "7554 0              1                  0                   0        \n",
       "7555 1              1                  0                   1        \n",
       "7556 1              0                  1                   0        \n",
       "7557 0              0                  1                   1        \n",
       "7558 1              1                  0                   1        \n",
       "7559 0              0                  1                   1        \n",
       "7560 0              0                  1                   0        \n",
       "7561 0              1                  0                   0        \n",
       "7562 0              1                  0                   1        \n",
       "7563 1              1                  0                   1        \n",
       "7564 0              1                  0                   0        \n",
       "7565 0              1                  0                   1        \n",
       "7566 0              0                  0                   1        \n",
       "7567 1              0                  0                   0        \n",
       "7568 1              0                  0                   0        \n",
       "7569 1              0                  0                   1        \n",
       "7570 0              1                  0                   0        \n",
       "7571 1              1                  0                   0        \n",
       "7572 0              1                  0                   0        \n",
       "7573 1              0                  0                   0        \n",
       "7574 0              1                  0                   0        \n",
       "7575 0              0                  0                   0        \n",
       "7576 0              1                  0                   0        \n",
       "7577 0              0                  1                   0        \n",
       "7578 1              0                  0                   0        \n",
       "     creditmedium house.colorred house.colorwhite house.coloryellow areaCO\n",
       "1    0            0              0                0                 1     \n",
       "2    0            0              1                0                 0     \n",
       "3    1            0              0                0                 0     \n",
       "4    0            1              0                0                 1     \n",
       "5    0            0              1                0                 0     \n",
       "6    0            0              1                0                 0     \n",
       "7    0            0              1                0                 0     \n",
       "8    0            0              0                0                 0     \n",
       "9    1            1              0                0                 0     \n",
       "10   0            0              1                0                 0     \n",
       "11   0            1              0                0                 0     \n",
       "12   0            0              0                0                 0     \n",
       "13   0            0              1                0                 0     \n",
       "14   0            0              1                0                 0     \n",
       "15   0            0              0                0                 0     \n",
       "16   0            0              1                0                 0     \n",
       "17   1            1              0                0                 0     \n",
       "18   0            0              1                0                 0     \n",
       "19   0            0              1                0                 0     \n",
       "20   0            1              0                0                 0     \n",
       "21   0            0              0                0                 0     \n",
       "22   1            0              0                0                 1     \n",
       "24   0            0              0                0                 0     \n",
       "25   0            1              0                0                 0     \n",
       "26   0            0              0                0                 0     \n",
       "27   0            0              1                0                 0     \n",
       "28   1            0              1                0                 1     \n",
       "29   0            0              0                1                 0     \n",
       "30   0            0              0                1                 1     \n",
       "31   1            0              0                0                 0     \n",
       "⋮    ⋮            ⋮              ⋮                ⋮                 ⋮     \n",
       "7549 0            1              0                0                 0     \n",
       "7550 0            0              1                0                 0     \n",
       "7551 1            1              0                0                 0     \n",
       "7552 0            0              0                1                 0     \n",
       "7553 0            1              0                0                 1     \n",
       "7554 0            0              1                0                 0     \n",
       "7555 0            0              1                0                 0     \n",
       "7556 1            0              1                0                 0     \n",
       "7557 0            1              0                0                 0     \n",
       "7558 0            0              0                0                 0     \n",
       "7559 0            0              0                0                 0     \n",
       "7560 0            0              1                0                 0     \n",
       "7561 0            0              0                0                 0     \n",
       "7562 0            0              1                0                 1     \n",
       "7563 0            1              0                0                 0     \n",
       "7564 0            0              1                0                 0     \n",
       "7565 0            1              0                0                 0     \n",
       "7566 0            0              0                0                 0     \n",
       "7567 0            0              1                0                 0     \n",
       "7568 0            0              1                0                 0     \n",
       "7569 0            0              0                0                 0     \n",
       "7570 1            1              0                0                 0     \n",
       "7571 0            0              0                1                 0     \n",
       "7572 1            1              0                0                 0     \n",
       "7573 0            0              1                0                 0     \n",
       "7574 0            0              0                0                 0     \n",
       "7575 0            0              0                0                 0     \n",
       "7576 0            0              0                0                 0     \n",
       "7577 0            0              1                0                 0     \n",
       "7578 0            0              0                0                 0     \n",
       "     areaDC areaIA areaPA areawA\n",
       "1    0      0      0      0     \n",
       "2    0      1      0      0     \n",
       "3    0      1      0      0     \n",
       "4    0      0      0      0     \n",
       "5    0      1      0      0     \n",
       "6    0      0      0      0     \n",
       "7    0      0      1      0     \n",
       "8    0      0      0      0     \n",
       "9    0      1      0      0     \n",
       "10   0      1      0      0     \n",
       "11   0      1      0      0     \n",
       "12   0      0      0      0     \n",
       "13   0      1      0      0     \n",
       "14   0      1      0      0     \n",
       "15   0      1      0      0     \n",
       "16   0      0      1      0     \n",
       "17   0      0      0      0     \n",
       "18   0      0      0      0     \n",
       "19   0      0      0      0     \n",
       "20   0      1      0      0     \n",
       "21   0      0      0      0     \n",
       "22   0      0      0      0     \n",
       "24   0      1      0      0     \n",
       "25   0      0      0      1     \n",
       "26   0      1      0      0     \n",
       "27   0      0      1      0     \n",
       "28   0      0      0      0     \n",
       "29   0      1      0      0     \n",
       "30   0      0      0      0     \n",
       "31   0      0      0      0     \n",
       "⋮    ⋮      ⋮      ⋮      ⋮     \n",
       "7549 0      0      0      0     \n",
       "7550 0      0      1      0     \n",
       "7551 0      0      1      0     \n",
       "7552 0      0      0      1     \n",
       "7553 0      0      0      0     \n",
       "7554 0      1      0      0     \n",
       "7555 0      0      0      0     \n",
       "7556 0      1      0      0     \n",
       "7557 0      0      0      0     \n",
       "7558 0      1      0      0     \n",
       "7559 0      0      0      0     \n",
       "7560 0      0      0      0     \n",
       "7561 0      1      0      0     \n",
       "7562 0      0      0      0     \n",
       "7563 0      0      0      0     \n",
       "7564 0      0      0      0     \n",
       "7565 0      1      0      0     \n",
       "7566 0      0      1      0     \n",
       "7567 0      0      0      1     \n",
       "7568 0      0      0      1     \n",
       "7569 0      0      0      0     \n",
       "7570 0      0      1      0     \n",
       "7571 0      0      0      0     \n",
       "7572 0      0      0      0     \n",
       "7573 0      1      0      0     \n",
       "7574 0      0      1      0     \n",
       "7575 0      1      0      0     \n",
       "7576 0      1      0      0     \n",
       "7577 0      0      0      1     \n",
       "7578 0      1      0      0     "
      ]
     },
     "metadata": {},
     "output_type": "display_data"
    }
   ],
   "source": [
    "dummies = model.matrix(fmla,train4)[,-1]\n",
    "\n",
    "dummies = as.data.frame(dummies)\n",
    "dummies\n",
    "train5 = cbind(train4[,-c(6,9,10,11,13,14,16,17,18)],dummies)"
   ]
  },
  {
   "cell_type": "code",
   "execution_count": 17,
   "metadata": {
    "collapsed": false
   },
   "outputs": [
    {
     "data": {
      "text/plain": [
       "\n",
       "  -1    0    1 \n",
       "  25 5710 1843 "
      ]
     },
     "metadata": {},
     "output_type": "display_data"
    },
    {
     "data": {
      "text/plain": [
       "       id           tenure       claim.ind         n.adults    \n",
       " Min.   :   1   Min.   : 0.0   Min.   :0.0000   Min.   :1.000  \n",
       " 1st Qu.:1910   1st Qu.: 6.0   1st Qu.:0.0000   1st Qu.:1.000  \n",
       " Median :3798   Median :13.0   Median :0.0000   Median :2.000  \n",
       " Mean   :3798   Mean   :11.7   Mean   :0.2041   Mean   :2.116  \n",
       " 3rd Qu.:5688   3rd Qu.:16.0   3rd Qu.:0.0000   3rd Qu.:3.000  \n",
       " Max.   :7582   Max.   :30.0   Max.   :1.0000   Max.   :6.000  \n",
       "   n.children     ni.marital.status    premium         len.at.res   \n",
       " Min.   : 0.000   Min.   :0.0000    Min.   : 645.8   Min.   : 2.00  \n",
       " 1st Qu.: 0.000   1st Qu.:0.0000    1st Qu.: 846.0   1st Qu.:12.00  \n",
       " Median : 1.000   Median :1.0000    Median : 901.7   Median :15.00  \n",
       " Mean   : 1.774   Mean   :0.7162    Mean   : 901.5   Mean   :14.95  \n",
       " 3rd Qu.: 3.000   3rd Qu.:1.0000    3rd Qu.: 956.2   3rd Qu.:18.00  \n",
       " Max.   :12.000   Max.   :1.0000    Max.   :1164.8   Max.   :27.00  \n",
       "     ni.age          cancel         ni.genderM    sales.channelOnline\n",
       " Min.   :19.00   Min.   :0.0000   Min.   :0.000   Min.   :0.00000    \n",
       " 1st Qu.:35.00   1st Qu.:0.0000   1st Qu.:0.000   1st Qu.:0.00000    \n",
       " Median :43.00   Median :0.0000   Median :1.000   Median :0.00000    \n",
       " Mean   :43.44   Mean   :0.2453   Mean   :0.525   Mean   :0.08545    \n",
       " 3rd Qu.:51.00   3rd Qu.:0.0000   3rd Qu.:1.000   3rd Qu.:0.00000    \n",
       " Max.   :90.00   Max.   :1.0000   Max.   :1.000   Max.   :1.00000    \n",
       " sales.channelPhone coverage.typeB   coverage.typeC   dwelling.typeHouse\n",
       " Min.   :0.0000     Min.   :0.0000   Min.   :0.0000   Min.   :0.0000    \n",
       " 1st Qu.:0.0000     1st Qu.:0.0000   1st Qu.:0.0000   1st Qu.:0.0000    \n",
       " Median :0.0000     Median :0.0000   Median :0.0000   Median :1.0000    \n",
       " Mean   :0.3391     Mean   :0.2396   Mean   :0.4201   Mean   :0.5584    \n",
       " 3rd Qu.:1.0000     3rd Qu.:0.0000   3rd Qu.:1.0000   3rd Qu.:1.0000    \n",
       " Max.   :1.0000     Max.   :1.0000   Max.   :1.0000   Max.   :1.0000    \n",
       " dwelling.typeTenant   creditlow       creditmedium    house.colorred  \n",
       " Min.   :0.0000      Min.   :0.0000   Min.   :0.0000   Min.   :0.0000  \n",
       " 1st Qu.:0.0000      1st Qu.:0.0000   1st Qu.:0.0000   1st Qu.:0.0000  \n",
       " Median :0.0000      Median :0.0000   Median :0.0000   Median :0.0000  \n",
       " Mean   :0.2059      Mean   :0.1649   Mean   :0.2169   Mean   :0.2452  \n",
       " 3rd Qu.:0.0000      3rd Qu.:0.0000   3rd Qu.:0.0000   3rd Qu.:0.0000  \n",
       " Max.   :1.0000      Max.   :1.0000   Max.   :1.0000   Max.   :1.0000  \n",
       " house.colorwhite house.coloryellow     areaCO           areaDC       \n",
       " Min.   :0.0000   Min.   :0.00000   Min.   :0.0000   Min.   :0.00000  \n",
       " 1st Qu.:0.0000   1st Qu.:0.00000   1st Qu.:0.0000   1st Qu.:0.00000  \n",
       " Median :0.0000   Median :0.00000   Median :0.0000   Median :0.00000  \n",
       " Mean   :0.3892   Mean   :0.09811   Mean   :0.1886   Mean   :0.04681  \n",
       " 3rd Qu.:1.0000   3rd Qu.:0.00000   3rd Qu.:0.0000   3rd Qu.:0.00000  \n",
       " Max.   :1.0000   Max.   :1.00000   Max.   :1.0000   Max.   :1.00000  \n",
       "     areaIA           areaPA           areawA     \n",
       " Min.   :0.0000   Min.   :0.0000   Min.   :0.000  \n",
       " 1st Qu.:0.0000   1st Qu.:0.0000   1st Qu.:0.000  \n",
       " Median :0.0000   Median :0.0000   Median :0.000  \n",
       " Mean   :0.2652   Mean   :0.1555   Mean   :0.107  \n",
       " 3rd Qu.:1.0000   3rd Qu.:0.0000   3rd Qu.:0.000  \n",
       " Max.   :1.0000   Max.   :1.0000   Max.   :1.000  "
      ]
     },
     "metadata": {},
     "output_type": "display_data"
    }
   ],
   "source": [
    "#remove cancel -1 value\n",
    "table(train$cancel)\n",
    "train6 = train5[train5$cancel!=-1,]\n",
    "summary(train6)"
   ]
  },
  {
   "cell_type": "code",
   "execution_count": 18,
   "metadata": {
    "collapsed": false
   },
   "outputs": [
    {
     "data": {
      "text/html": [
       "<table>\n",
       "<thead><tr><th scope=col>id</th><th scope=col>tenure</th><th scope=col>claim.ind</th><th scope=col>n.adults</th><th scope=col>n.children</th><th scope=col>ni.marital.status</th><th scope=col>premium</th><th scope=col>len.at.res</th><th scope=col>ni.age</th><th scope=col>cancel</th><th scope=col>⋯</th><th scope=col>creditlow</th><th scope=col>creditmedium</th><th scope=col>house.colorred</th><th scope=col>house.colorwhite</th><th scope=col>house.coloryellow</th><th scope=col>areaCO</th><th scope=col>areaDC</th><th scope=col>areaIA</th><th scope=col>areaPA</th><th scope=col>areawA</th></tr></thead>\n",
       "<tbody>\n",
       "\t<tr><td>1        </td><td>12       </td><td>0        </td><td>4        </td><td>2        </td><td>1        </td><td> 895.6156</td><td>13       </td><td>47       </td><td>0        </td><td>⋯        </td><td>0        </td><td>0        </td><td>0        </td><td>0        </td><td>0        </td><td>1        </td><td>0        </td><td>0        </td><td>0        </td><td>0        </td></tr>\n",
       "\t<tr><td>2        </td><td>18       </td><td>0        </td><td>2        </td><td>0        </td><td>1        </td><td> 828.3324</td><td>15       </td><td>47       </td><td>0        </td><td>⋯        </td><td>0        </td><td>0        </td><td>0        </td><td>1        </td><td>0        </td><td>0        </td><td>0        </td><td>1        </td><td>0        </td><td>0        </td></tr>\n",
       "\t<tr><td>3        </td><td> 4       </td><td>0        </td><td>2        </td><td>0        </td><td>0        </td><td>1003.0617</td><td>10       </td><td>30       </td><td>0        </td><td>⋯        </td><td>0        </td><td>1        </td><td>0        </td><td>0        </td><td>0        </td><td>0        </td><td>0        </td><td>1        </td><td>0        </td><td>0        </td></tr>\n",
       "\t<tr><td>4        </td><td>16       </td><td>0        </td><td>1        </td><td>0        </td><td>1        </td><td>1092.4482</td><td>22       </td><td>38       </td><td>0        </td><td>⋯        </td><td>0        </td><td>0        </td><td>1        </td><td>0        </td><td>0        </td><td>1        </td><td>0        </td><td>0        </td><td>0        </td><td>0        </td></tr>\n",
       "\t<tr><td>5        </td><td>14       </td><td>0        </td><td>3        </td><td>3        </td><td>1        </td><td> 885.4742</td><td>18       </td><td>49       </td><td>0        </td><td>⋯        </td><td>1        </td><td>0        </td><td>0        </td><td>1        </td><td>0        </td><td>0        </td><td>0        </td><td>1        </td><td>0        </td><td>0        </td></tr>\n",
       "\t<tr><td>6        </td><td>14       </td><td>0        </td><td>3        </td><td>0        </td><td>0        </td><td> 897.3957</td><td>19       </td><td>40       </td><td>0        </td><td>⋯        </td><td>0        </td><td>0        </td><td>0        </td><td>1        </td><td>0        </td><td>0        </td><td>0        </td><td>0        </td><td>0        </td><td>0        </td></tr>\n",
       "</tbody>\n",
       "</table>\n"
      ],
      "text/latex": [
       "\\begin{tabular}{r|lllllllllllllllllllllllllll}\n",
       " id & tenure & claim.ind & n.adults & n.children & ni.marital.status & premium & len.at.res & ni.age & cancel & ⋯ & creditlow & creditmedium & house.colorred & house.colorwhite & house.coloryellow & areaCO & areaDC & areaIA & areaPA & areawA\\\\\n",
       "\\hline\n",
       "\t 1         & 12        & 0         & 4         & 2         & 1         &  895.6156 & 13        & 47        & 0         & ⋯         & 0         & 0         & 0         & 0         & 0         & 1         & 0         & 0         & 0         & 0        \\\\\n",
       "\t 2         & 18        & 0         & 2         & 0         & 1         &  828.3324 & 15        & 47        & 0         & ⋯         & 0         & 0         & 0         & 1         & 0         & 0         & 0         & 1         & 0         & 0        \\\\\n",
       "\t 3         &  4        & 0         & 2         & 0         & 0         & 1003.0617 & 10        & 30        & 0         & ⋯         & 0         & 1         & 0         & 0         & 0         & 0         & 0         & 1         & 0         & 0        \\\\\n",
       "\t 4         & 16        & 0         & 1         & 0         & 1         & 1092.4482 & 22        & 38        & 0         & ⋯         & 0         & 0         & 1         & 0         & 0         & 1         & 0         & 0         & 0         & 0        \\\\\n",
       "\t 5         & 14        & 0         & 3         & 3         & 1         &  885.4742 & 18        & 49        & 0         & ⋯         & 1         & 0         & 0         & 1         & 0         & 0         & 0         & 1         & 0         & 0        \\\\\n",
       "\t 6         & 14        & 0         & 3         & 0         & 0         &  897.3957 & 19        & 40        & 0         & ⋯         & 0         & 0         & 0         & 1         & 0         & 0         & 0         & 0         & 0         & 0        \\\\\n",
       "\\end{tabular}\n"
      ],
      "text/markdown": [
       "\n",
       "id | tenure | claim.ind | n.adults | n.children | ni.marital.status | premium | len.at.res | ni.age | cancel | ⋯ | creditlow | creditmedium | house.colorred | house.colorwhite | house.coloryellow | areaCO | areaDC | areaIA | areaPA | areawA | \n",
       "|---|---|---|---|---|---|\n",
       "| 1         | 12        | 0         | 4         | 2         | 1         |  895.6156 | 13        | 47        | 0         | ⋯         | 0         | 0         | 0         | 0         | 0         | 1         | 0         | 0         | 0         | 0         | \n",
       "| 2         | 18        | 0         | 2         | 0         | 1         |  828.3324 | 15        | 47        | 0         | ⋯         | 0         | 0         | 0         | 1         | 0         | 0         | 0         | 1         | 0         | 0         | \n",
       "| 3         |  4        | 0         | 2         | 0         | 0         | 1003.0617 | 10        | 30        | 0         | ⋯         | 0         | 1         | 0         | 0         | 0         | 0         | 0         | 1         | 0         | 0         | \n",
       "| 4         | 16        | 0         | 1         | 0         | 1         | 1092.4482 | 22        | 38        | 0         | ⋯         | 0         | 0         | 1         | 0         | 0         | 1         | 0         | 0         | 0         | 0         | \n",
       "| 5         | 14        | 0         | 3         | 3         | 1         |  885.4742 | 18        | 49        | 0         | ⋯         | 1         | 0         | 0         | 1         | 0         | 0         | 0         | 1         | 0         | 0         | \n",
       "| 6         | 14        | 0         | 3         | 0         | 0         |  897.3957 | 19        | 40        | 0         | ⋯         | 0         | 0         | 0         | 1         | 0         | 0         | 0         | 0         | 0         | 0         | \n",
       "\n",
       "\n"
      ],
      "text/plain": [
       "  id tenure claim.ind n.adults n.children ni.marital.status premium  \n",
       "1 1  12     0         4        2          1                  895.6156\n",
       "2 2  18     0         2        0          1                  828.3324\n",
       "3 3   4     0         2        0          0                 1003.0617\n",
       "4 4  16     0         1        0          1                 1092.4482\n",
       "5 5  14     0         3        3          1                  885.4742\n",
       "6 6  14     0         3        0          0                  897.3957\n",
       "  len.at.res ni.age cancel ⋯ creditlow creditmedium house.colorred\n",
       "1 13         47     0      ⋯ 0         0            0             \n",
       "2 15         47     0      ⋯ 0         0            0             \n",
       "3 10         30     0      ⋯ 0         1            0             \n",
       "4 22         38     0      ⋯ 0         0            1             \n",
       "5 18         49     0      ⋯ 1         0            0             \n",
       "6 19         40     0      ⋯ 0         0            0             \n",
       "  house.colorwhite house.coloryellow areaCO areaDC areaIA areaPA areawA\n",
       "1 0                0                 1      0      0      0      0     \n",
       "2 1                0                 0      0      1      0      0     \n",
       "3 0                0                 0      0      1      0      0     \n",
       "4 0                0                 1      0      0      0      0     \n",
       "5 1                0                 0      0      1      0      0     \n",
       "6 1                0                 0      0      0      0      0     "
      ]
     },
     "metadata": {},
     "output_type": "display_data"
    },
    {
     "data": {
      "text/html": [
       "<table>\n",
       "<thead><tr><th scope=col>id</th><th scope=col>tenure</th><th scope=col>claim.ind</th><th scope=col>n.adults</th><th scope=col>n.children</th><th scope=col>ni.marital.status</th><th scope=col>premium</th><th scope=col>len.at.res</th><th scope=col>ni.age</th><th scope=col>cancel</th><th scope=col>⋯</th><th scope=col>creditlow</th><th scope=col>creditmedium</th><th scope=col>house.colorred</th><th scope=col>house.colorwhite</th><th scope=col>house.coloryellow</th><th scope=col>areaCO</th><th scope=col>areaDC</th><th scope=col>areaIA</th><th scope=col>areaPA</th><th scope=col>areawA</th></tr></thead>\n",
       "<tbody>\n",
       "\t<tr><td>1        </td><td>0.4000000</td><td>0        </td><td>0.6      </td><td>0.1666667</td><td>1        </td><td>0.4813322</td><td>0.44     </td><td>0.3943662</td><td>0        </td><td>⋯        </td><td>0        </td><td>0        </td><td>0        </td><td>0        </td><td>0        </td><td>1        </td><td>0        </td><td>0        </td><td>0        </td><td>0        </td></tr>\n",
       "\t<tr><td>2        </td><td>0.6000000</td><td>0        </td><td>0.2      </td><td>0.0000000</td><td>1        </td><td>0.3516855</td><td>0.52     </td><td>0.3943662</td><td>0        </td><td>⋯        </td><td>0        </td><td>0        </td><td>0        </td><td>1        </td><td>0        </td><td>0        </td><td>0        </td><td>1        </td><td>0        </td><td>0        </td></tr>\n",
       "\t<tr><td>3        </td><td>0.1333333</td><td>0        </td><td>0.2      </td><td>0.0000000</td><td>0        </td><td>0.6883676</td><td>0.32     </td><td>0.1549296</td><td>0        </td><td>⋯        </td><td>0        </td><td>1        </td><td>0        </td><td>0        </td><td>0        </td><td>0        </td><td>0        </td><td>1        </td><td>0        </td><td>0        </td></tr>\n",
       "\t<tr><td>4        </td><td>0.5333333</td><td>0        </td><td>0.0      </td><td>0.0000000</td><td>1        </td><td>0.8606046</td><td>0.80     </td><td>0.2676056</td><td>0        </td><td>⋯        </td><td>0        </td><td>0        </td><td>1        </td><td>0        </td><td>0        </td><td>1        </td><td>0        </td><td>0        </td><td>0        </td><td>0        </td></tr>\n",
       "\t<tr><td>5        </td><td>0.4666667</td><td>0        </td><td>0.4      </td><td>0.2500000</td><td>1        </td><td>0.4617910</td><td>0.64     </td><td>0.4225352</td><td>0        </td><td>⋯        </td><td>1        </td><td>0        </td><td>0        </td><td>1        </td><td>0        </td><td>0        </td><td>0        </td><td>1        </td><td>0        </td><td>0        </td></tr>\n",
       "\t<tr><td>6        </td><td>0.4666667</td><td>0        </td><td>0.4      </td><td>0.0000000</td><td>0        </td><td>0.4847622</td><td>0.68     </td><td>0.2957746</td><td>0        </td><td>⋯        </td><td>0        </td><td>0        </td><td>0        </td><td>1        </td><td>0        </td><td>0        </td><td>0        </td><td>0        </td><td>0        </td><td>0        </td></tr>\n",
       "</tbody>\n",
       "</table>\n"
      ],
      "text/latex": [
       "\\begin{tabular}{r|lllllllllllllllllllllllllll}\n",
       " id & tenure & claim.ind & n.adults & n.children & ni.marital.status & premium & len.at.res & ni.age & cancel & ⋯ & creditlow & creditmedium & house.colorred & house.colorwhite & house.coloryellow & areaCO & areaDC & areaIA & areaPA & areawA\\\\\n",
       "\\hline\n",
       "\t 1         & 0.4000000 & 0         & 0.6       & 0.1666667 & 1         & 0.4813322 & 0.44      & 0.3943662 & 0         & ⋯         & 0         & 0         & 0         & 0         & 0         & 1         & 0         & 0         & 0         & 0        \\\\\n",
       "\t 2         & 0.6000000 & 0         & 0.2       & 0.0000000 & 1         & 0.3516855 & 0.52      & 0.3943662 & 0         & ⋯         & 0         & 0         & 0         & 1         & 0         & 0         & 0         & 1         & 0         & 0        \\\\\n",
       "\t 3         & 0.1333333 & 0         & 0.2       & 0.0000000 & 0         & 0.6883676 & 0.32      & 0.1549296 & 0         & ⋯         & 0         & 1         & 0         & 0         & 0         & 0         & 0         & 1         & 0         & 0        \\\\\n",
       "\t 4         & 0.5333333 & 0         & 0.0       & 0.0000000 & 1         & 0.8606046 & 0.80      & 0.2676056 & 0         & ⋯         & 0         & 0         & 1         & 0         & 0         & 1         & 0         & 0         & 0         & 0        \\\\\n",
       "\t 5         & 0.4666667 & 0         & 0.4       & 0.2500000 & 1         & 0.4617910 & 0.64      & 0.4225352 & 0         & ⋯         & 1         & 0         & 0         & 1         & 0         & 0         & 0         & 1         & 0         & 0        \\\\\n",
       "\t 6         & 0.4666667 & 0         & 0.4       & 0.0000000 & 0         & 0.4847622 & 0.68      & 0.2957746 & 0         & ⋯         & 0         & 0         & 0         & 1         & 0         & 0         & 0         & 0         & 0         & 0        \\\\\n",
       "\\end{tabular}\n"
      ],
      "text/markdown": [
       "\n",
       "id | tenure | claim.ind | n.adults | n.children | ni.marital.status | premium | len.at.res | ni.age | cancel | ⋯ | creditlow | creditmedium | house.colorred | house.colorwhite | house.coloryellow | areaCO | areaDC | areaIA | areaPA | areawA | \n",
       "|---|---|---|---|---|---|\n",
       "| 1         | 0.4000000 | 0         | 0.6       | 0.1666667 | 1         | 0.4813322 | 0.44      | 0.3943662 | 0         | ⋯         | 0         | 0         | 0         | 0         | 0         | 1         | 0         | 0         | 0         | 0         | \n",
       "| 2         | 0.6000000 | 0         | 0.2       | 0.0000000 | 1         | 0.3516855 | 0.52      | 0.3943662 | 0         | ⋯         | 0         | 0         | 0         | 1         | 0         | 0         | 0         | 1         | 0         | 0         | \n",
       "| 3         | 0.1333333 | 0         | 0.2       | 0.0000000 | 0         | 0.6883676 | 0.32      | 0.1549296 | 0         | ⋯         | 0         | 1         | 0         | 0         | 0         | 0         | 0         | 1         | 0         | 0         | \n",
       "| 4         | 0.5333333 | 0         | 0.0       | 0.0000000 | 1         | 0.8606046 | 0.80      | 0.2676056 | 0         | ⋯         | 0         | 0         | 1         | 0         | 0         | 1         | 0         | 0         | 0         | 0         | \n",
       "| 5         | 0.4666667 | 0         | 0.4       | 0.2500000 | 1         | 0.4617910 | 0.64      | 0.4225352 | 0         | ⋯         | 1         | 0         | 0         | 1         | 0         | 0         | 0         | 1         | 0         | 0         | \n",
       "| 6         | 0.4666667 | 0         | 0.4       | 0.0000000 | 0         | 0.4847622 | 0.68      | 0.2957746 | 0         | ⋯         | 0         | 0         | 0         | 1         | 0         | 0         | 0         | 0         | 0         | 0         | \n",
       "\n",
       "\n"
      ],
      "text/plain": [
       "  id tenure    claim.ind n.adults n.children ni.marital.status premium  \n",
       "1 1  0.4000000 0         0.6      0.1666667  1                 0.4813322\n",
       "2 2  0.6000000 0         0.2      0.0000000  1                 0.3516855\n",
       "3 3  0.1333333 0         0.2      0.0000000  0                 0.6883676\n",
       "4 4  0.5333333 0         0.0      0.0000000  1                 0.8606046\n",
       "5 5  0.4666667 0         0.4      0.2500000  1                 0.4617910\n",
       "6 6  0.4666667 0         0.4      0.0000000  0                 0.4847622\n",
       "  len.at.res ni.age    cancel ⋯ creditlow creditmedium house.colorred\n",
       "1 0.44       0.3943662 0      ⋯ 0         0            0             \n",
       "2 0.52       0.3943662 0      ⋯ 0         0            0             \n",
       "3 0.32       0.1549296 0      ⋯ 0         1            0             \n",
       "4 0.80       0.2676056 0      ⋯ 0         0            1             \n",
       "5 0.64       0.4225352 0      ⋯ 1         0            0             \n",
       "6 0.68       0.2957746 0      ⋯ 0         0            0             \n",
       "  house.colorwhite house.coloryellow areaCO areaDC areaIA areaPA areawA\n",
       "1 0                0                 1      0      0      0      0     \n",
       "2 1                0                 0      0      1      0      0     \n",
       "3 0                0                 0      0      1      0      0     \n",
       "4 0                0                 1      0      0      0      0     \n",
       "5 1                0                 0      0      1      0      0     \n",
       "6 1                0                 0      0      0      0      0     "
      ]
     },
     "metadata": {},
     "output_type": "display_data"
    }
   ],
   "source": [
    "#############standardization\n",
    "head(train6)\n",
    "range01 = function(x){\n",
    "  (x-min(x))/(max(x)-min(x))\n",
    "}\n",
    "train6$tenure = range01(train6$tenure)\n",
    "train6$n.adults=range01(train6$n.adults)\n",
    "train6$n.children=range01(train6$n.children)\n",
    "train6$premium=range01(train6$premium)\n",
    "train6$len.at.res=range01(train6$len.at.res)\n",
    "train6$ni.age=range01(train6$ni.age)\n",
    "head(train6)"
   ]
  },
  {
   "cell_type": "code",
   "execution_count": 19,
   "metadata": {
    "collapsed": false
   },
   "outputs": [
    {
     "data": {
      "text/plain": [
       "\n",
       "        0         1 \n",
       "0.7546605 0.2453395 "
      ]
     },
     "metadata": {},
     "output_type": "display_data"
    }
   ],
   "source": [
    "# proportion of our outcome variable\n",
    "prop.table(table(train6$cancel))\n"
   ]
  },
  {
   "cell_type": "code",
   "execution_count": null,
   "metadata": {
    "collapsed": false
   },
   "outputs": [],
   "source": []
  },
  {
   "cell_type": "code",
   "execution_count": 20,
   "metadata": {
    "collapsed": true
   },
   "outputs": [],
   "source": [
    "library(caTools)"
   ]
  },
  {
   "cell_type": "code",
   "execution_count": 21,
   "metadata": {
    "collapsed": false
   },
   "outputs": [
    {
     "data": {
      "text/html": [
       "<pre class=language-r><code>.Primitive(\"c\")</code></pre>"
      ],
      "text/latex": [
       "\\begin{minted}{r}\n",
       ".Primitive(\"c\")\n",
       "\\end{minted}"
      ],
      "text/markdown": [
       "```r\n",
       ".Primitive(\"c\")\n",
       "```"
      ],
      "text/plain": [
       "function (...)  .Primitive(\"c\")"
      ]
     },
     "metadata": {},
     "output_type": "display_data"
    }
   ],
   "source": [
    "c"
   ]
  },
  {
   "cell_type": "code",
   "execution_count": 30,
   "metadata": {
    "collapsed": true
   },
   "outputs": [],
   "source": [
    "\n",
    "############split train,validation and test \n",
    "model =train6\n",
    "set.seed(123)\n",
    "split_train = sample.split(model,SplitRatio = .6)\n",
    "training_set = subset(model,split_train==TRUE)\n",
    "validation_set = subset(model,split_train==FALSE)\n",
    "testing_set = subset(model,split_train==FALSE)\n",
    "#split_train2 = sample.split(validation,SplitRatio = .5)\n",
    "#validation_set = subset(validation,split_train2==TRUE)\n",
    "#testing_set = subset(validation,split_train2==FALSE)"
   ]
  },
  {
   "cell_type": "code",
   "execution_count": null,
   "metadata": {
    "collapsed": true
   },
   "outputs": [],
   "source": []
  },
  {
   "cell_type": "code",
   "execution_count": 31,
   "metadata": {
    "collapsed": false
   },
   "outputs": [],
   "source": [
    "library(ROCR)\n",
    "library(gplots)"
   ]
  },
  {
   "cell_type": "code",
   "execution_count": 32,
   "metadata": {
    "collapsed": false
   },
   "outputs": [
    {
     "data": {
      "text/plain": [
       "\n",
       "Call:\n",
       "glm(formula = formula, family = \"binomial\", data = training_set)\n",
       "\n",
       "Deviance Residuals: \n",
       "    Min       1Q   Median       3Q      Max  \n",
       "-1.9749  -0.7307  -0.5321  -0.3053   2.5567  \n",
       "\n",
       "Coefficients:\n",
       "                      Estimate Std. Error z value Pr(>|z|)    \n",
       "(Intercept)         -1.6361964  0.2582171  -6.337 2.35e-10 ***\n",
       "tenure               0.5178012  0.2520053   2.055  0.03991 *  \n",
       "claim.ind            0.4377445  0.0910560   4.807 1.53e-06 ***\n",
       "n.adults             0.4381422  0.1552603   2.822  0.00477 ** \n",
       "n.children           1.6550077  0.1999118   8.279  < 2e-16 ***\n",
       "ni.marital.status   -0.2926698  0.0928371  -3.153  0.00162 ** \n",
       "premium             -0.0737977  0.2564199  -0.288  0.77350    \n",
       "len.at.res          -0.6195071  0.2463785  -2.514  0.01192 *  \n",
       "ni.age              -1.2751887  0.3261570  -3.910 9.24e-05 ***\n",
       "ni.genderM          -0.0444433  0.0764677  -0.581  0.56110    \n",
       "sales.channelOnline  0.6704689  0.1352148   4.959 7.10e-07 ***\n",
       "sales.channelPhone   0.9231974  0.0811300  11.379  < 2e-16 ***\n",
       "coverage.typeB       0.0886890  0.1025233   0.865  0.38700    \n",
       "coverage.typeC       0.1579594  0.0887741   1.779  0.07518 .  \n",
       "dwelling.typeHouse   0.0360621  0.0964112   0.374  0.70837    \n",
       "dwelling.typeTenant  0.0629889  0.1148086   0.549  0.58325    \n",
       "creditlow            1.3598086  0.0969825  14.021  < 2e-16 ***\n",
       "creditmedium         0.6871579  0.0922825   7.446 9.60e-14 ***\n",
       "house.colorred       0.0003393  0.1070488   0.003  0.99747    \n",
       "house.colorwhite     0.0751020  0.0949738   0.791  0.42908    \n",
       "house.coloryellow   -0.1038866  0.1447636  -0.718  0.47299    \n",
       "areaCO              -0.3648646  0.1193478  -3.057  0.00223 ** \n",
       "areaDC               0.9361933  0.1727937   5.418 6.03e-08 ***\n",
       "areaIA              -0.2150695  0.1054048  -2.040  0.04131 *  \n",
       "areaPA              -0.6937206  0.1323993  -5.240 1.61e-07 ***\n",
       "areawA               0.0659921  0.1338690   0.493  0.62204    \n",
       "---\n",
       "Signif. codes:  0 ‘***’ 0.001 ‘**’ 0.01 ‘*’ 0.05 ‘.’ 0.1 ‘ ’ 1\n",
       "\n",
       "(Dispersion parameter for binomial family taken to be 1)\n",
       "\n",
       "    Null deviance: 4801.2  on 4353  degrees of freedom\n",
       "Residual deviance: 4246.9  on 4328  degrees of freedom\n",
       "AIC: 4298.9\n",
       "\n",
       "Number of Fisher Scoring iterations: 4\n"
      ]
     },
     "metadata": {},
     "output_type": "display_data"
    }
   ],
   "source": [
    "############model part\n",
    "### 1. glm \n",
    "formula = as.formula(paste(\"cancel~\",paste(colnames(model)[-c(1,10)],collapse = \"+\"),sep = \"\"))\n",
    "fit = glm(formula,training_set,family = \"binomial\")\n",
    "summary(fit)\n",
    "\n",
    "predicted.value.train = predict(fit,training_set,type = \"response\")\n",
    "predicted.value.validation = predict(fit,validation_set,type = \"response\")\n",
    "predicted.value.test = predict(fit,testing_set,type = \"response\")\n",
    "\n",
    "pred = prediction(predicted.value.test,testing_set$cancel)"
   ]
  },
  {
   "cell_type": "code",
   "execution_count": 33,
   "metadata": {
    "collapsed": false
   },
   "outputs": [],
   "source": [
    "result = function(pred, y){\n",
    "    pred[pred<0.5]=0\n",
    "    pred[pred>0.5]=1\n",
    "    head(pred)\n",
    "    result = data.frame(pred,y)\n",
    "    print(prop.table(table(result)))\n",
    "    print(prop.table(table(result))[1]+prop.table(table(result))[4])\n",
    "}"
   ]
  },
  {
   "cell_type": "code",
   "execution_count": 34,
   "metadata": {
    "collapsed": false
   },
   "outputs": [
    {
     "name": "stdout",
     "output_type": "stream",
     "text": [
      "    y\n",
      "pred          0          1\n",
      "   0 0.72990354 0.19269637\n",
      "   1 0.02985760 0.04754249\n",
      "[1] 0.777446\n",
      "    y\n",
      "pred          0          1\n",
      "   0 0.71585977 0.20767947\n",
      "   1 0.03138564 0.04507513\n",
      "[1] 0.7609349\n"
     ]
    }
   ],
   "source": [
    "result(predicted.value.train, training_set$cancel)\n",
    "result(predicted.value.validation, validation_set$cancel)"
   ]
  },
  {
   "cell_type": "code",
   "execution_count": 35,
   "metadata": {
    "collapsed": false
   },
   "outputs": [
    {
     "name": "stdout",
     "output_type": "stream",
     "text": [
      "[[1]]\n",
      "[1] 0.7250795\n",
      "\n"
     ]
    }
   ],
   "source": [
    "AUC =performance(pred,\"auc\")\n",
    "print(AUC@y.values)"
   ]
  },
  {
   "cell_type": "code",
   "execution_count": 36,
   "metadata": {
    "collapsed": false
   },
   "outputs": [
    {
     "name": "stderr",
     "output_type": "stream",
     "text": [
      "Loading required package: lattice\n",
      "Loading required package: ggplot2\n",
      "Loading required package: Matrix\n",
      "Loading required package: foreach\n",
      "Loaded glmnet 2.0-13\n",
      "\n"
     ]
    }
   ],
   "source": [
    "library(caret)\n",
    "library(glmnet)"
   ]
  },
  {
   "cell_type": "code",
   "execution_count": 37,
   "metadata": {
    "collapsed": false,
    "deletable": true,
    "editable": true
   },
   "outputs": [
    {
     "name": "stderr",
     "output_type": "stream",
     "text": [
      "Warning message in train.default(predictname, training_set$cancel, method = \"glmnet\", :\n",
      "“You are trying to do regression and your outcome only has two possible values Are you trying to do classification? If so, use a 2 level factor as your outcome column.”"
     ]
    }
   ],
   "source": [
    "predictname = as.matrix(training_set[-c(1,10)])\n",
    "fit2 = train(predictname,training_set$cancel, method='glmnet',  metric = \"RMSE\") \n",
    "#summary(fit2)\n",
    "predicted2.value.train = predict(fit2, training_set)\n",
    "predicted2.value.validation = predict(fit2, validation_set)\n",
    "predicted2.value.test = predict(fit2, testing_set)\n",
    "\n",
    "##########c-statistic\n",
    "pred = prediction(predicted2.value.test,testing_set$cancel)\n",
    "\n",
    "\n"
   ]
  },
  {
   "cell_type": "code",
   "execution_count": 38,
   "metadata": {
    "collapsed": false
   },
   "outputs": [
    {
     "name": "stdout",
     "output_type": "stream",
     "text": [
      "    y\n",
      "pred          0          1\n",
      "   0 0.74368397 0.20923289\n",
      "   1 0.01607717 0.03100597\n",
      "[1] 0.7746899\n",
      "    y\n",
      "pred          0          1\n",
      "   0 0.72721202 0.22404007\n",
      "   1 0.02003339 0.02871452\n",
      "[1] 0.7559265\n"
     ]
    }
   ],
   "source": [
    "result(predicted2.value.train, training_set$cancel)\n",
    "result(predicted2.value.validation, validation_set$cancel)"
   ]
  },
  {
   "cell_type": "code",
   "execution_count": 39,
   "metadata": {
    "collapsed": false,
    "deletable": true,
    "editable": true
   },
   "outputs": [
    {
     "name": "stdout",
     "output_type": "stream",
     "text": [
      "[[1]]\n",
      "[1] 0.7242401\n",
      "\n"
     ]
    }
   ],
   "source": [
    "AUC =performance(pred,\"auc\")\n",
    "print(AUC@y.values)"
   ]
  },
  {
   "cell_type": "code",
   "execution_count": 40,
   "metadata": {
    "collapsed": true,
    "deletable": true,
    "editable": true
   },
   "outputs": [],
   "source": [
    "library(e1071)"
   ]
  },
  {
   "cell_type": "code",
   "execution_count": 41,
   "metadata": {
    "collapsed": false
   },
   "outputs": [],
   "source": [
    "formula = as.formula(paste(\"cancel~\",paste(colnames(model)[-c(1,10)],collapse = \"+\"),sep = \"\"))\n",
    "model.svm <- svm(formula, training_set, cost = 1)"
   ]
  },
  {
   "cell_type": "code",
   "execution_count": 42,
   "metadata": {
    "collapsed": false
   },
   "outputs": [],
   "source": [
    "predicted3.value.train = predict(model.svm, training_set, type = \"response\")\n",
    "predicted3.value.validation = predict(model.svm, validation_set, type = \"response\")\n",
    "predicted3.value.test = predict(model.svm, testing_set, type = \"response\")\n",
    "\n",
    "pred = prediction(predicted3.value.test,testing_set$cancel)"
   ]
  },
  {
   "cell_type": "code",
   "execution_count": 43,
   "metadata": {
    "collapsed": false
   },
   "outputs": [
    {
     "name": "stdout",
     "output_type": "stream",
     "text": [
      "    y\n",
      "pred           0           1\n",
      "   0 0.753559945 0.201653652\n",
      "   1 0.006201194 0.038585209\n",
      "[1] 0.7921452\n",
      "    y\n",
      "pred          0          1\n",
      "   0 0.73489149 0.23305509\n",
      "   1 0.01235392 0.01969950\n",
      "[1] 0.754591\n"
     ]
    }
   ],
   "source": [
    "result(predicted3.value.train, training_set$cancel)\n",
    "result(predicted3.value.validation, validation_set$cancel)"
   ]
  },
  {
   "cell_type": "code",
   "execution_count": null,
   "metadata": {
    "collapsed": false
   },
   "outputs": [],
   "source": []
  },
  {
   "cell_type": "code",
   "execution_count": null,
   "metadata": {
    "collapsed": false
   },
   "outputs": [],
   "source": []
  },
  {
   "cell_type": "code",
   "execution_count": null,
   "metadata": {
    "collapsed": false
   },
   "outputs": [],
   "source": []
  },
  {
   "cell_type": "code",
   "execution_count": null,
   "metadata": {
    "collapsed": false
   },
   "outputs": [],
   "source": []
  },
  {
   "cell_type": "code",
   "execution_count": null,
   "metadata": {
    "collapsed": true
   },
   "outputs": [],
   "source": []
  },
  {
   "cell_type": "code",
   "execution_count": null,
   "metadata": {
    "collapsed": false
   },
   "outputs": [],
   "source": []
  },
  {
   "cell_type": "code",
   "execution_count": null,
   "metadata": {
    "collapsed": true
   },
   "outputs": [],
   "source": []
  }
 ],
 "metadata": {
  "kernelspec": {
   "display_name": "R",
   "language": "R",
   "name": "ir"
  },
  "language_info": {
   "codemirror_mode": "r",
   "file_extension": ".r",
   "mimetype": "text/x-r-source",
   "name": "R",
   "pygments_lexer": "r",
   "version": "3.4.2"
  }
 },
 "nbformat": 4,
 "nbformat_minor": 2
}
