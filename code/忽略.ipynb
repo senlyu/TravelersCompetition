{
 "cells": [
  {
   "cell_type": "code",
   "execution_count": null,
   "metadata": {
    "collapsed": true
   },
   "outputs": [],
   "source": []
  },
  {
   "cell_type": "code",
   "execution_count": 1,
   "metadata": {
    "collapsed": false
   },
   "outputs": [
    {
     "data": {
      "text/html": [
       "'/home/senlyu/git/TravelersCompetition'"
      ],
      "text/latex": [
       "'/home/senlyu/git/TravelersCompetition'"
      ],
      "text/markdown": [
       "'/home/senlyu/git/TravelersCompetition'"
      ],
      "text/plain": [
       "[1] \"/home/senlyu/git/TravelersCompetition\""
      ]
     },
     "metadata": {},
     "output_type": "display_data"
    }
   ],
   "source": [
    "getwd()"
   ]
  },
  {
   "cell_type": "code",
   "execution_count": 8,
   "metadata": {
    "collapsed": true
   },
   "outputs": [],
   "source": [
    "setwd('/home/senlyu/git/TravelersCompetition/data')\n",
    "train = read.csv('Train.csv')\n",
    "train$year =as.factor(train$year)"
   ]
  },
  {
   "cell_type": "code",
   "execution_count": 3,
   "metadata": {
    "collapsed": false
   },
   "outputs": [
    {
     "data": {
      "text/plain": [
       "\n",
       " 150  201  500  800  801  850  980 \n",
       "1171  359 2011 1328  104 1791  810 "
      ]
     },
     "metadata": {},
     "output_type": "display_data"
    },
    {
     "data": {
      "image/png": "[encoded data removed]",
      "text/plain": [
       "Plot with title “Histogram of train$zip.code”"
      ]
     },
     "metadata": {},
     "output_type": "display_data"
    }
   ],
   "source": [
    "train$area = NA\n",
    "hist(train$zip.code)\n",
    "table(train$zip.code %/% 100)\n",
    "train$area[train$zip.code %/% 100 ==150]=\"PA\"\n",
    "train$area[train$zip.code %/% 100 ==201]=\"DC\"\n",
    "train$area[train$zip.code %/% 100 ==500]=\"IA\"\n",
    "train$area[train$zip.code %/% 100 ==800]=\"CO\"\n",
    "train$area[train$zip.code %/% 100 ==801]=\"CO\"\n",
    "train$area[train$zip.code %/% 100 ==850]=\"AZ\"\n",
    "train$area[train$zip.code %/% 100 ==980]=\"wA\""
   ]
  },
  {
   "cell_type": "code",
   "execution_count": 7,
   "metadata": {
    "collapsed": false
   },
   "outputs": [
    {
     "data": {
      "text/html": [
       "<ol class=list-inline>\n",
       "\t<li>'CO'</li>\n",
       "\t<li>'IA'</li>\n",
       "\t<li>'IA'</li>\n",
       "\t<li>'CO'</li>\n",
       "\t<li>'IA'</li>\n",
       "\t<li>'AZ'</li>\n",
       "\t<li>'PA'</li>\n",
       "\t<li>'AZ'</li>\n",
       "\t<li>'IA'</li>\n",
       "\t<li>'IA'</li>\n",
       "\t<li>'IA'</li>\n",
       "\t<li>'AZ'</li>\n",
       "\t<li>'IA'</li>\n",
       "\t<li>'IA'</li>\n",
       "\t<li>'IA'</li>\n",
       "\t<li>'PA'</li>\n",
       "\t<li>'AZ'</li>\n",
       "\t<li>'AZ'</li>\n",
       "\t<li>'AZ'</li>\n",
       "\t<li>'IA'</li>\n",
       "\t<li>'AZ'</li>\n",
       "\t<li>'CO'</li>\n",
       "\t<li>'IA'</li>\n",
       "\t<li>'IA'</li>\n",
       "\t<li>'wA'</li>\n",
       "\t<li>'IA'</li>\n",
       "\t<li>'PA'</li>\n",
       "\t<li>'CO'</li>\n",
       "\t<li>'IA'</li>\n",
       "\t<li>'CO'</li>\n",
       "\t<li>'AZ'</li>\n",
       "\t<li>'CO'</li>\n",
       "\t<li>'IA'</li>\n",
       "\t<li>'CO'</li>\n",
       "\t<li>'AZ'</li>\n",
       "\t<li>'CO'</li>\n",
       "\t<li>'AZ'</li>\n",
       "\t<li>'IA'</li>\n",
       "\t<li>'DC'</li>\n",
       "\t<li>'AZ'</li>\n",
       "\t<li>'AZ'</li>\n",
       "\t<li>'DC'</li>\n",
       "\t<li>'AZ'</li>\n",
       "\t<li>'AZ'</li>\n",
       "\t<li>'AZ'</li>\n",
       "\t<li>'AZ'</li>\n",
       "\t<li>'wA'</li>\n",
       "\t<li>'wA'</li>\n",
       "\t<li>'IA'</li>\n",
       "\t<li>'AZ'</li>\n",
       "\t<li>'IA'</li>\n",
       "\t<li>'PA'</li>\n",
       "\t<li>'CO'</li>\n",
       "\t<li>'AZ'</li>\n",
       "\t<li>'AZ'</li>\n",
       "\t<li>'CO'</li>\n",
       "\t<li>'IA'</li>\n",
       "\t<li>'AZ'</li>\n",
       "\t<li>'CO'</li>\n",
       "\t<li>'CO'</li>\n",
       "\t<li>'wA'</li>\n",
       "\t<li>'PA'</li>\n",
       "\t<li>'CO'</li>\n",
       "\t<li>'PA'</li>\n",
       "\t<li>'IA'</li>\n",
       "\t<li>'AZ'</li>\n",
       "\t<li>'wA'</li>\n",
       "\t<li>'IA'</li>\n",
       "\t<li>'AZ'</li>\n",
       "\t<li>'wA'</li>\n",
       "\t<li>'CO'</li>\n",
       "\t<li>'wA'</li>\n",
       "\t<li>'PA'</li>\n",
       "\t<li>'IA'</li>\n",
       "\t<li>'IA'</li>\n",
       "\t<li>'IA'</li>\n",
       "\t<li>'AZ'</li>\n",
       "\t<li>'PA'</li>\n",
       "\t<li>'IA'</li>\n",
       "\t<li>'IA'</li>\n",
       "\t<li>'AZ'</li>\n",
       "\t<li>'AZ'</li>\n",
       "\t<li>'AZ'</li>\n",
       "\t<li>'PA'</li>\n",
       "\t<li>'wA'</li>\n",
       "\t<li>'IA'</li>\n",
       "\t<li>'IA'</li>\n",
       "\t<li>'AZ'</li>\n",
       "\t<li>'wA'</li>\n",
       "\t<li>'PA'</li>\n",
       "\t<li>'CO'</li>\n",
       "\t<li>'CO'</li>\n",
       "\t<li>'PA'</li>\n",
       "\t<li>'IA'</li>\n",
       "\t<li>'CO'</li>\n",
       "\t<li>'AZ'</li>\n",
       "\t<li>'CO'</li>\n",
       "\t<li>'IA'</li>\n",
       "\t<li>'AZ'</li>\n",
       "\t<li>'PA'</li>\n",
       "</ol>\n"
      ],
      "text/latex": [
       "\\begin{enumerate*}\n",
       "\\item 'CO'\n",
       "\\item 'IA'\n",
       "\\item 'IA'\n",
       "\\item 'CO'\n",
       "\\item 'IA'\n",
       "\\item 'AZ'\n",
       "\\item 'PA'\n",
       "\\item 'AZ'\n",
       "\\item 'IA'\n",
       "\\item 'IA'\n",
       "\\item 'IA'\n",
       "\\item 'AZ'\n",
       "\\item 'IA'\n",
       "\\item 'IA'\n",
       "\\item 'IA'\n",
       "\\item 'PA'\n",
       "\\item 'AZ'\n",
       "\\item 'AZ'\n",
       "\\item 'AZ'\n",
       "\\item 'IA'\n",
       "\\item 'AZ'\n",
       "\\item 'CO'\n",
       "\\item 'IA'\n",
       "\\item 'IA'\n",
       "\\item 'wA'\n",
       "\\item 'IA'\n",
       "\\item 'PA'\n",
       "\\item 'CO'\n",
       "\\item 'IA'\n",
       "\\item 'CO'\n",
       "\\item 'AZ'\n",
       "\\item 'CO'\n",
       "\\item 'IA'\n",
       "\\item 'CO'\n",
       "\\item 'AZ'\n",
       "\\item 'CO'\n",
       "\\item 'AZ'\n",
       "\\item 'IA'\n",
       "\\item 'DC'\n",
       "\\item 'AZ'\n",
       "\\item 'AZ'\n",
       "\\item 'DC'\n",
       "\\item 'AZ'\n",
       "\\item 'AZ'\n",
       "\\item 'AZ'\n",
       "\\item 'AZ'\n",
       "\\item 'wA'\n",
       "\\item 'wA'\n",
       "\\item 'IA'\n",
       "\\item 'AZ'\n",
       "\\item 'IA'\n",
       "\\item 'PA'\n",
       "\\item 'CO'\n",
       "\\item 'AZ'\n",
       "\\item 'AZ'\n",
       "\\item 'CO'\n",
       "\\item 'IA'\n",
       "\\item 'AZ'\n",
       "\\item 'CO'\n",
       "\\item 'CO'\n",
       "\\item 'wA'\n",
       "\\item 'PA'\n",
       "\\item 'CO'\n",
       "\\item 'PA'\n",
       "\\item 'IA'\n",
       "\\item 'AZ'\n",
       "\\item 'wA'\n",
       "\\item 'IA'\n",
       "\\item 'AZ'\n",
       "\\item 'wA'\n",
       "\\item 'CO'\n",
       "\\item 'wA'\n",
       "\\item 'PA'\n",
       "\\item 'IA'\n",
       "\\item 'IA'\n",
       "\\item 'IA'\n",
       "\\item 'AZ'\n",
       "\\item 'PA'\n",
       "\\item 'IA'\n",
       "\\item 'IA'\n",
       "\\item 'AZ'\n",
       "\\item 'AZ'\n",
       "\\item 'AZ'\n",
       "\\item 'PA'\n",
       "\\item 'wA'\n",
       "\\item 'IA'\n",
       "\\item 'IA'\n",
       "\\item 'AZ'\n",
       "\\item 'wA'\n",
       "\\item 'PA'\n",
       "\\item 'CO'\n",
       "\\item 'CO'\n",
       "\\item 'PA'\n",
       "\\item 'IA'\n",
       "\\item 'CO'\n",
       "\\item 'AZ'\n",
       "\\item 'CO'\n",
       "\\item 'IA'\n",
       "\\item 'AZ'\n",
       "\\item 'PA'\n",
       "\\end{enumerate*}\n"
      ],
      "text/markdown": [
       "1. 'CO'\n",
       "2. 'IA'\n",
       "3. 'IA'\n",
       "4. 'CO'\n",
       "5. 'IA'\n",
       "6. 'AZ'\n",
       "7. 'PA'\n",
       "8. 'AZ'\n",
       "9. 'IA'\n",
       "10. 'IA'\n",
       "11. 'IA'\n",
       "12. 'AZ'\n",
       "13. 'IA'\n",
       "14. 'IA'\n",
       "15. 'IA'\n",
       "16. 'PA'\n",
       "17. 'AZ'\n",
       "18. 'AZ'\n",
       "19. 'AZ'\n",
       "20. 'IA'\n",
       "21. 'AZ'\n",
       "22. 'CO'\n",
       "23. 'IA'\n",
       "24. 'IA'\n",
       "25. 'wA'\n",
       "26. 'IA'\n",
       "27. 'PA'\n",
       "28. 'CO'\n",
       "29. 'IA'\n",
       "30. 'CO'\n",
       "31. 'AZ'\n",
       "32. 'CO'\n",
       "33. 'IA'\n",
       "34. 'CO'\n",
       "35. 'AZ'\n",
       "36. 'CO'\n",
       "37. 'AZ'\n",
       "38. 'IA'\n",
       "39. 'DC'\n",
       "40. 'AZ'\n",
       "41. 'AZ'\n",
       "42. 'DC'\n",
       "43. 'AZ'\n",
       "44. 'AZ'\n",
       "45. 'AZ'\n",
       "46. 'AZ'\n",
       "47. 'wA'\n",
       "48. 'wA'\n",
       "49. 'IA'\n",
       "50. 'AZ'\n",
       "51. 'IA'\n",
       "52. 'PA'\n",
       "53. 'CO'\n",
       "54. 'AZ'\n",
       "55. 'AZ'\n",
       "56. 'CO'\n",
       "57. 'IA'\n",
       "58. 'AZ'\n",
       "59. 'CO'\n",
       "60. 'CO'\n",
       "61. 'wA'\n",
       "62. 'PA'\n",
       "63. 'CO'\n",
       "64. 'PA'\n",
       "65. 'IA'\n",
       "66. 'AZ'\n",
       "67. 'wA'\n",
       "68. 'IA'\n",
       "69. 'AZ'\n",
       "70. 'wA'\n",
       "71. 'CO'\n",
       "72. 'wA'\n",
       "73. 'PA'\n",
       "74. 'IA'\n",
       "75. 'IA'\n",
       "76. 'IA'\n",
       "77. 'AZ'\n",
       "78. 'PA'\n",
       "79. 'IA'\n",
       "80. 'IA'\n",
       "81. 'AZ'\n",
       "82. 'AZ'\n",
       "83. 'AZ'\n",
       "84. 'PA'\n",
       "85. 'wA'\n",
       "86. 'IA'\n",
       "87. 'IA'\n",
       "88. 'AZ'\n",
       "89. 'wA'\n",
       "90. 'PA'\n",
       "91. 'CO'\n",
       "92. 'CO'\n",
       "93. 'PA'\n",
       "94. 'IA'\n",
       "95. 'CO'\n",
       "96. 'AZ'\n",
       "97. 'CO'\n",
       "98. 'IA'\n",
       "99. 'AZ'\n",
       "100. 'PA'\n",
       "\n",
       "\n"
      ],
      "text/plain": [
       "  [1] \"CO\" \"IA\" \"IA\" \"CO\" \"IA\" \"AZ\" \"PA\" \"AZ\" \"IA\" \"IA\" \"IA\" \"AZ\" \"IA\" \"IA\" \"IA\"\n",
       " [16] \"PA\" \"AZ\" \"AZ\" \"AZ\" \"IA\" \"AZ\" \"CO\" \"IA\" \"IA\" \"wA\" \"IA\" \"PA\" \"CO\" \"IA\" \"CO\"\n",
       " [31] \"AZ\" \"CO\" \"IA\" \"CO\" \"AZ\" \"CO\" \"AZ\" \"IA\" \"DC\" \"AZ\" \"AZ\" \"DC\" \"AZ\" \"AZ\" \"AZ\"\n",
       " [46] \"AZ\" \"wA\" \"wA\" \"IA\" \"AZ\" \"IA\" \"PA\" \"CO\" \"AZ\" \"AZ\" \"CO\" \"IA\" \"AZ\" \"CO\" \"CO\"\n",
       " [61] \"wA\" \"PA\" \"CO\" \"PA\" \"IA\" \"AZ\" \"wA\" \"IA\" \"AZ\" \"wA\" \"CO\" \"wA\" \"PA\" \"IA\" \"IA\"\n",
       " [76] \"IA\" \"AZ\" \"PA\" \"IA\" \"IA\" \"AZ\" \"AZ\" \"AZ\" \"PA\" \"wA\" \"IA\" \"IA\" \"AZ\" \"wA\" \"PA\"\n",
       " [91] \"CO\" \"CO\" \"PA\" \"IA\" \"CO\" \"AZ\" \"CO\" \"IA\" \"AZ\" \"PA\""
      ]
     },
     "metadata": {},
     "output_type": "display_data"
    }
   ],
   "source": []
  },
  {
   "cell_type": "code",
   "execution_count": 9,
   "metadata": {
    "collapsed": false
   },
   "outputs": [
    {
     "data": {
      "text/plain": [
       "\n",
       " 150  201  500  800  801  850  980 \n",
       "1171  359 2011 1328  104 1791  810 "
      ]
     },
     "metadata": {},
     "output_type": "display_data"
    },
    {
     "data": {
      "text/plain": [
       "       id           tenure        claim.ind         n.adults    \n",
       " Min.   :   1   Min.   : 0.00   Min.   :0.0000   Min.   :1.000  \n",
       " 1st Qu.:1895   1st Qu.: 6.00   1st Qu.:0.0000   1st Qu.:1.000  \n",
       " Median :3790   Median :13.00   Median :0.0000   Median :2.000  \n",
       " Mean   :3790   Mean   :11.71   Mean   :0.2034   Mean   :2.134  \n",
       " 3rd Qu.:5685   3rd Qu.:16.00   3rd Qu.:0.0000   3rd Qu.:3.000  \n",
       " Max.   :7582   Max.   :30.00   Max.   :1.0000   Max.   :9.000  \n",
       "                NA's   :2       NA's   :10       NA's   :5      \n",
       "   n.children     ni.gender   ni.marital.status    premium       sales.channel\n",
       " Min.   : 0.000   F   :3610   Min.   :0.0000    Min.   : 645.8   Broker:4358  \n",
       " 1st Qu.: 0.000   M   :3956   1st Qu.:0.0000    1st Qu.: 845.8   Online: 646  \n",
       " Median : 1.000   NA's:  12   Median :1.0000    Median : 901.4   Phone :2562  \n",
       " Mean   : 1.781               Mean   :0.7168    Mean   : 901.4   NA's  :  12  \n",
       " 3rd Qu.: 3.000               3rd Qu.:1.0000    3rd Qu.: 956.2                \n",
       " Max.   :12.000               Max.   :1.0000    Max.   :1164.8                \n",
       " NA's   :1                    NA's   :7         NA's   :6                     \n",
       " coverage.type dwelling.type   len.at.res       credit     house.color  \n",
       " A   :2583     Condo :1770   Min.   : 2.00   high  :4678   blue  :2039  \n",
       " B   :1816     House :4239   1st Qu.:12.00   low   :1245   red   :1854  \n",
       " C   :3175     Tenant:1558   Median :15.00   medium:1644   white :2937  \n",
       " NA's:   4     NA's  :  11   Mean   :15.20   NA's  :  11   yellow: 740  \n",
       "                             3rd Qu.:18.00                 NA's  :   8  \n",
       "                             Max.   :49.41                              \n",
       "                             NA's   :5                                  \n",
       "     ni.age         year         zip.code      area          cancel       \n",
       " Min.   : 19.00   2013:1579   50021  : 198   AZ  :1791   Min.   :-1.0000  \n",
       " 1st Qu.: 35.00   2014:1828   80016  : 136   CO  :1432   1st Qu.: 0.0000  \n",
       " Median : 43.00   2015:1993   15025  : 129   DC  : 359   Median : 0.0000  \n",
       " Mean   : 43.63   2016:2178   50025  : 117   IA  :2011   Mean   : 0.2399  \n",
       " 3rd Qu.: 51.00               80028  : 104   PA  :1171   3rd Qu.: 0.0000  \n",
       " Max.   :216.50               (Other):6890   wA  : 810   Max.   : 1.0000  \n",
       " NA's   :7                    NA's   :   4   NA's:   4                    "
      ]
     },
     "metadata": {},
     "output_type": "display_data"
    },
    {
     "name": "stdout",
     "output_type": "stream",
     "text": [
      "'data.frame':\t7578 obs. of  19 variables:\n",
      " $ id               : int  1 2 3 4 5 6 7 8 9 10 ...\n",
      " $ tenure           : int  12 18 4 16 14 14 19 13 11 14 ...\n",
      " $ claim.ind        : int  0 0 0 0 0 0 0 1 1 0 ...\n",
      " $ n.adults         : int  4 2 2 1 3 3 1 1 1 4 ...\n",
      " $ n.children       : int  2 0 0 0 3 0 1 0 3 1 ...\n",
      " $ ni.gender        : Factor w/ 2 levels \"F\",\"M\": 1 2 2 1 2 1 1 2 1 2 ...\n",
      " $ ni.marital.status: int  1 1 0 1 1 0 0 0 1 1 ...\n",
      " $ premium          : num  896 828 1003 1092 885 ...\n",
      " $ sales.channel    : Factor w/ 3 levels \"Broker\",\"Online\",..: 1 1 3 1 3 1 3 1 1 1 ...\n",
      " $ coverage.type    : Factor w/ 3 levels \"A\",\"B\",\"C\": 2 3 2 3 1 3 1 3 3 3 ...\n",
      " $ dwelling.type    : Factor w/ 3 levels \"Condo\",\"House\",..: 1 3 2 1 3 2 3 1 3 2 ...\n",
      " $ len.at.res       : num  13 15 10 22 18 19 21 10 18 16 ...\n",
      " $ credit           : Factor w/ 3 levels \"high\",\"low\",\"medium\": 1 1 3 1 2 1 1 1 3 1 ...\n",
      " $ house.color      : Factor w/ 4 levels \"blue\",\"red\",\"white\",..: 1 3 1 2 3 3 3 1 2 3 ...\n",
      " $ ni.age           : num  47 47 30 38 49 40 51 47 42 50 ...\n",
      " $ year             : Factor w/ 4 levels \"2013\",\"2014\",..: 1 1 1 1 1 1 1 1 1 1 ...\n",
      " $ zip.code         : Factor w/ 221 levels \"15001\",\"15003\",..: 122 86 86 128 107 186 33 161 82 77 ...\n",
      " $ area             : Factor w/ 6 levels \"AZ\",\"CO\",\"DC\",..: 2 4 4 2 4 1 5 1 4 4 ...\n",
      " $ cancel           : int  0 0 0 0 0 0 0 0 0 0 ...\n"
     ]
    },
    {
     "data": {
      "image/png": "[encoded data removed]",
      "text/plain": [
       "Plot with title “Histogram of train$zip.code”"
      ]
     },
     "metadata": {},
     "output_type": "display_data"
    },
    {
     "data": {
      "image/png": "[encoded data removed]",
      "text/plain": [
       "Plot with title “n.children”"
      ]
     },
     "metadata": {},
     "output_type": "display_data"
    },
    {
     "data": {
      "image/png": "[encoded data removed]",
      "text/plain": [
       "Plot with title “ni.age”"
      ]
     },
     "metadata": {},
     "output_type": "display_data"
    },
    {
     "data": {
      "text/plain": [
       "       id           tenure        claim.ind         n.adults    \n",
       " Min.   :   1   Min.   : 0.00   Min.   :0.0000   Min.   :1.000  \n",
       " 1st Qu.:1905   1st Qu.: 6.00   1st Qu.:0.0000   1st Qu.:1.000  \n",
       " Median :3794   Median :13.00   Median :0.0000   Median :2.000  \n",
       " Mean   :3796   Mean   :11.71   Mean   :0.2039   Mean   :2.113  \n",
       " 3rd Qu.:5686   3rd Qu.:16.00   3rd Qu.:0.0000   3rd Qu.:3.000  \n",
       " Max.   :7582   Max.   :30.00   Max.   :1.0000   Max.   :6.000  \n",
       "   n.children     ni.marital.status    premium         len.at.res   \n",
       " Min.   : 0.000   Min.   :0.0000    Min.   : 645.8   Min.   : 2.00  \n",
       " 1st Qu.: 0.000   1st Qu.:0.0000    1st Qu.: 845.9   1st Qu.:12.00  \n",
       " Median : 1.000   Median :1.0000    Median : 901.4   Median :15.00  \n",
       " Mean   : 1.775   Mean   :0.7167    Mean   : 901.4   Mean   :14.96  \n",
       " 3rd Qu.: 3.000   3rd Qu.:1.0000    3rd Qu.: 955.9   3rd Qu.:18.00  \n",
       " Max.   :12.000   Max.   :1.0000    Max.   :1164.8   Max.   :27.00  \n",
       "     ni.age          cancel       \n",
       " Min.   :19.00   Min.   :-1.0000  \n",
       " 1st Qu.:35.00   1st Qu.: 0.0000  \n",
       " Median :43.00   Median : 0.0000  \n",
       " Mean   :43.46   Mean   : 0.2408  \n",
       " 3rd Qu.:51.00   3rd Qu.: 0.0000  \n",
       " Max.   :90.00   Max.   : 1.0000  "
      ]
     },
     "metadata": {},
     "output_type": "display_data"
    },
    {
     "name": "stdout",
     "output_type": "stream",
     "text": [
      "'data.frame':\t7578 obs. of  19 variables:\n",
      " $ id               : int  1 2 3 4 5 6 7 8 9 10 ...\n",
      " $ tenure           : int  12 18 4 16 14 14 19 13 11 14 ...\n",
      " $ claim.ind        : int  0 0 0 0 0 0 0 1 1 0 ...\n",
      " $ n.adults         : int  4 2 2 1 3 3 1 1 1 4 ...\n",
      " $ n.children       : int  2 0 0 0 3 0 1 0 3 1 ...\n",
      " $ ni.gender        : Factor w/ 2 levels \"F\",\"M\": 1 2 2 1 2 1 1 2 1 2 ...\n",
      " $ ni.marital.status: int  1 1 0 1 1 0 0 0 1 1 ...\n",
      " $ premium          : num  896 828 1003 1092 885 ...\n",
      " $ sales.channel    : Factor w/ 3 levels \"Broker\",\"Online\",..: 1 1 3 1 3 1 3 1 1 1 ...\n",
      " $ coverage.type    : Factor w/ 3 levels \"A\",\"B\",\"C\": 2 3 2 3 1 3 1 3 3 3 ...\n",
      " $ dwelling.type    : Factor w/ 3 levels \"Condo\",\"House\",..: 1 3 2 1 3 2 3 1 3 2 ...\n",
      " $ len.at.res       : num  13 15 10 22 18 19 21 10 18 16 ...\n",
      " $ credit           : Factor w/ 3 levels \"high\",\"low\",\"medium\": 1 1 3 1 2 1 1 1 3 1 ...\n",
      " $ house.color      : Factor w/ 4 levels \"blue\",\"red\",\"white\",..: 1 3 1 2 3 3 3 1 2 3 ...\n",
      " $ ni.age           : num  47 47 30 38 49 40 51 47 42 50 ...\n",
      " $ year             : Factor w/ 4 levels \"2013\",\"2014\",..: 1 1 1 1 1 1 1 1 1 1 ...\n",
      " $ zip.code         : Factor w/ 221 levels \"15001\",\"15003\",..: 122 86 86 128 107 186 33 161 82 77 ...\n",
      " $ area             : Factor w/ 6 levels \"AZ\",\"CO\",\"DC\",..: 2 4 4 2 4 1 5 1 4 4 ...\n",
      " $ cancel           : int  0 0 0 0 0 0 0 0 0 0 ...\n"
     ]
    },
    {
     "data": {
      "text/plain": [
       " ni.gender   sales.channel coverage.type dwelling.type    credit    \n",
       " F   :3528   Broker:4276   A   :2532     Condo :1740   high  :4591  \n",
       " M   :3894   Online: 636   B   :1780     House :4152   low   :1222  \n",
       " NA's:  12   Phone :2510   C   :3118     Tenant:1531   medium:1610  \n",
       "             NA's  :  12   NA's:   4     NA's  :  11   NA's  :  11  \n",
       "                                                                    \n",
       "                                                                    \n",
       "                                                                    \n",
       " house.color     year         zip.code      area     \n",
       " blue  :1998   2013:1540   50021  : 194   AZ  :1759  \n",
       " red   :1820   2014:1794   80016  : 134   CO  :1403  \n",
       " white :2884   2015:1961   15025  : 128   DC  : 350  \n",
       " yellow: 726   2016:2139   50025  : 116   IA  :1971  \n",
       " NA's  :   6               80028  : 103   PA  :1152  \n",
       "                           (Other):6755   wA  : 795  \n",
       "                           NA's   :   4   NA's:   4  "
      ]
     },
     "metadata": {},
     "output_type": "display_data"
    },
    {
     "data": {
      "text/plain": [
       "       id           tenure        claim.ind         n.adults    \n",
       " Min.   :   1   Min.   : 0.00   Min.   :0.0000   Min.   :1.000  \n",
       " 1st Qu.:1906   1st Qu.: 6.00   1st Qu.:0.0000   1st Qu.:1.000  \n",
       " Median :3796   Median :13.00   Median :0.0000   Median :2.000  \n",
       " Mean   :3798   Mean   :11.71   Mean   :0.2043   Mean   :2.116  \n",
       " 3rd Qu.:5689   3rd Qu.:16.00   3rd Qu.:0.0000   3rd Qu.:3.000  \n",
       " Max.   :7582   Max.   :30.00   Max.   :1.0000   Max.   :6.000  \n",
       "                                                                \n",
       "   n.children     ni.gender ni.marital.status    premium       sales.channel\n",
       " Min.   : 0.000   F:3505    Min.   :0.0000    Min.   : 645.8   Broker:4244  \n",
       " 1st Qu.: 0.000   M:3869    1st Qu.:0.0000    1st Qu.: 846.1   Online: 631  \n",
       " Median : 1.000             Median :1.0000    Median : 901.6   Phone :2499  \n",
       " Mean   : 1.776             Mean   :0.7164    Mean   : 901.5                \n",
       " 3rd Qu.: 3.000             3rd Qu.:1.0000    3rd Qu.: 956.1                \n",
       " Max.   :12.000             Max.   :1.0000    Max.   :1164.8                \n",
       "                                                                            \n",
       " coverage.type dwelling.type   len.at.res       credit     house.color  \n",
       " A:2509        Condo :1735   Min.   : 2.00   high  :4555   blue  :1977  \n",
       " B:1767        House :4122   1st Qu.:12.00   low   :1217   red   :1810  \n",
       " C:3098        Tenant:1517   Median :15.00   medium:1602   white :2865  \n",
       "                             Mean   :14.95                 yellow: 722  \n",
       "                             3rd Qu.:18.00                              \n",
       "                             Max.   :27.00                              \n",
       "                                                                        \n",
       "     ni.age        year         zip.code    area          cancel       \n",
       " Min.   :19.00   2013:1526   50021  : 194   AZ:1749   Min.   :-1.0000  \n",
       " 1st Qu.:35.00   2014:1779   80016  : 132   CO:1390   1st Qu.: 0.0000  \n",
       " Median :43.00   2015:1945   15025  : 125   DC: 344   Median : 0.0000  \n",
       " Mean   :43.45   2016:2124   50025  : 116   IA:1957   Mean   : 0.2411  \n",
       " 3rd Qu.:51.00               80028  : 102   PA:1146   3rd Qu.: 0.0000  \n",
       " Max.   :90.00               50028  :  96   wA: 788   Max.   : 1.0000  \n",
       "                             (Other):6609                              "
      ]
     },
     "metadata": {},
     "output_type": "display_data"
    },
    {
     "data": {
      "text/html": [
       "<ol class=list-inline>\n",
       "\t<li>'ni.gender'</li>\n",
       "\t<li>'sales.channel'</li>\n",
       "\t<li>'coverage.type'</li>\n",
       "\t<li>'dwelling.type'</li>\n",
       "\t<li>'credit'</li>\n",
       "\t<li>'house.color'</li>\n",
       "\t<li>'area'</li>\n",
       "</ol>\n"
      ],
      "text/latex": [
       "\\begin{enumerate*}\n",
       "\\item 'ni.gender'\n",
       "\\item 'sales.channel'\n",
       "\\item 'coverage.type'\n",
       "\\item 'dwelling.type'\n",
       "\\item 'credit'\n",
       "\\item 'house.color'\n",
       "\\item 'area'\n",
       "\\end{enumerate*}\n"
      ],
      "text/markdown": [
       "1. 'ni.gender'\n",
       "2. 'sales.channel'\n",
       "3. 'coverage.type'\n",
       "4. 'dwelling.type'\n",
       "5. 'credit'\n",
       "6. 'house.color'\n",
       "7. 'area'\n",
       "\n",
       "\n"
      ],
      "text/plain": [
       "[1] \"ni.gender\"     \"sales.channel\" \"coverage.type\" \"dwelling.type\"\n",
       "[5] \"credit\"        \"house.color\"   \"area\"         "
      ]
     },
     "metadata": {},
     "output_type": "display_data"
    },
    {
     "data": {
      "text/plain": [
       "   ni.genderM     sales.channelOnline sales.channelPhone coverage.typeB  \n",
       " Min.   :0.0000   Min.   :0.00000     Min.   :0.0000     Min.   :0.0000  \n",
       " 1st Qu.:0.0000   1st Qu.:0.00000     1st Qu.:0.0000     1st Qu.:0.0000  \n",
       " Median :1.0000   Median :0.00000     Median :0.0000     Median :0.0000  \n",
       " Mean   :0.5247   Mean   :0.08557     Mean   :0.3389     Mean   :0.2396  \n",
       " 3rd Qu.:1.0000   3rd Qu.:0.00000     3rd Qu.:1.0000     3rd Qu.:0.0000  \n",
       " Max.   :1.0000   Max.   :1.00000     Max.   :1.0000     Max.   :1.0000  \n",
       " coverage.typeC   dwelling.typeHouse dwelling.typeTenant   creditlow    \n",
       " Min.   :0.0000   Min.   :0.000      Min.   :0.0000      Min.   :0.000  \n",
       " 1st Qu.:0.0000   1st Qu.:0.000      1st Qu.:0.0000      1st Qu.:0.000  \n",
       " Median :0.0000   Median :1.000      Median :0.0000      Median :0.000  \n",
       " Mean   :0.4201   Mean   :0.559      Mean   :0.2057      Mean   :0.165  \n",
       " 3rd Qu.:1.0000   3rd Qu.:1.000      3rd Qu.:0.0000      3rd Qu.:0.000  \n",
       " Max.   :1.0000   Max.   :1.000      Max.   :1.0000      Max.   :1.000  \n",
       "  creditmedium    house.colorred   house.colorwhite house.coloryellow\n",
       " Min.   :0.0000   Min.   :0.0000   Min.   :0.0000   Min.   :0.00000  \n",
       " 1st Qu.:0.0000   1st Qu.:0.0000   1st Qu.:0.0000   1st Qu.:0.00000  \n",
       " Median :0.0000   Median :0.0000   Median :0.0000   Median :0.00000  \n",
       " Mean   :0.2172   Mean   :0.2455   Mean   :0.3885   Mean   :0.09791  \n",
       " 3rd Qu.:0.0000   3rd Qu.:0.0000   3rd Qu.:1.0000   3rd Qu.:0.00000  \n",
       " Max.   :1.0000   Max.   :1.0000   Max.   :1.0000   Max.   :1.00000  \n",
       "     areaCO           areaDC            areaIA           areaPA      \n",
       " Min.   :0.0000   Min.   :0.00000   Min.   :0.0000   Min.   :0.0000  \n",
       " 1st Qu.:0.0000   1st Qu.:0.00000   1st Qu.:0.0000   1st Qu.:0.0000  \n",
       " Median :0.0000   Median :0.00000   Median :0.0000   Median :0.0000  \n",
       " Mean   :0.1885   Mean   :0.04665   Mean   :0.2654   Mean   :0.1554  \n",
       " 3rd Qu.:0.0000   3rd Qu.:0.00000   3rd Qu.:1.0000   3rd Qu.:0.0000  \n",
       " Max.   :1.0000   Max.   :1.00000   Max.   :1.0000   Max.   :1.0000  \n",
       "     areawA             id           tenure        claim.ind     \n",
       " Min.   :0.0000   Min.   :   1   Min.   : 0.00   Min.   :0.0000  \n",
       " 1st Qu.:0.0000   1st Qu.:1906   1st Qu.: 6.00   1st Qu.:0.0000  \n",
       " Median :0.0000   Median :3796   Median :13.00   Median :0.0000  \n",
       " Mean   :0.1069   Mean   :3798   Mean   :11.71   Mean   :0.2043  \n",
       " 3rd Qu.:0.0000   3rd Qu.:5689   3rd Qu.:16.00   3rd Qu.:0.0000  \n",
       " Max.   :1.0000   Max.   :7582   Max.   :30.00   Max.   :1.0000  \n",
       "    n.adults       n.children     ni.marital.status    premium      \n",
       " Min.   :1.000   Min.   : 0.000   Min.   :0.0000    Min.   : 645.8  \n",
       " 1st Qu.:1.000   1st Qu.: 0.000   1st Qu.:0.0000    1st Qu.: 846.1  \n",
       " Median :2.000   Median : 1.000   Median :1.0000    Median : 901.6  \n",
       " Mean   :2.116   Mean   : 1.776   Mean   :0.7164    Mean   : 901.5  \n",
       " 3rd Qu.:3.000   3rd Qu.: 3.000   3rd Qu.:1.0000    3rd Qu.: 956.1  \n",
       " Max.   :6.000   Max.   :12.000   Max.   :1.0000    Max.   :1164.8  \n",
       "   len.at.res        ni.age          cancel       \n",
       " Min.   : 2.00   Min.   :19.00   Min.   :-1.0000  \n",
       " 1st Qu.:12.00   1st Qu.:35.00   1st Qu.: 0.0000  \n",
       " Median :15.00   Median :43.00   Median : 0.0000  \n",
       " Mean   :14.95   Mean   :43.45   Mean   : 0.2411  \n",
       " 3rd Qu.:18.00   3rd Qu.:51.00   3rd Qu.: 0.0000  \n",
       " Max.   :27.00   Max.   :90.00   Max.   : 1.0000  "
      ]
     },
     "metadata": {},
     "output_type": "display_data"
    },
    {
     "data": {
      "text/plain": [
       "\n",
       "  -1    0    1 \n",
       "  25 5710 1843 "
      ]
     },
     "metadata": {},
     "output_type": "display_data"
    },
    {
     "data": {
      "text/plain": [
       "   ni.genderM    sales.channelOnline sales.channelPhone coverage.typeB  \n",
       " Min.   :0.000   Min.   :0.00000     Min.   :0.0000     Min.   :0.0000  \n",
       " 1st Qu.:0.000   1st Qu.:0.00000     1st Qu.:0.0000     1st Qu.:0.0000  \n",
       " Median :1.000   Median :0.00000     Median :0.0000     Median :0.0000  \n",
       " Mean   :0.525   Mean   :0.08545     Mean   :0.3391     Mean   :0.2396  \n",
       " 3rd Qu.:1.000   3rd Qu.:0.00000     3rd Qu.:1.0000     3rd Qu.:0.0000  \n",
       " Max.   :1.000   Max.   :1.00000     Max.   :1.0000     Max.   :1.0000  \n",
       " coverage.typeC   dwelling.typeHouse dwelling.typeTenant   creditlow     \n",
       " Min.   :0.0000   Min.   :0.0000     Min.   :0.0000      Min.   :0.0000  \n",
       " 1st Qu.:0.0000   1st Qu.:0.0000     1st Qu.:0.0000      1st Qu.:0.0000  \n",
       " Median :0.0000   Median :1.0000     Median :0.0000      Median :0.0000  \n",
       " Mean   :0.4201   Mean   :0.5584     Mean   :0.2059      Mean   :0.1649  \n",
       " 3rd Qu.:1.0000   3rd Qu.:1.0000     3rd Qu.:0.0000      3rd Qu.:0.0000  \n",
       " Max.   :1.0000   Max.   :1.0000     Max.   :1.0000      Max.   :1.0000  \n",
       "  creditmedium    house.colorred   house.colorwhite house.coloryellow\n",
       " Min.   :0.0000   Min.   :0.0000   Min.   :0.0000   Min.   :0.00000  \n",
       " 1st Qu.:0.0000   1st Qu.:0.0000   1st Qu.:0.0000   1st Qu.:0.00000  \n",
       " Median :0.0000   Median :0.0000   Median :0.0000   Median :0.00000  \n",
       " Mean   :0.2169   Mean   :0.2452   Mean   :0.3892   Mean   :0.09811  \n",
       " 3rd Qu.:0.0000   3rd Qu.:0.0000   3rd Qu.:1.0000   3rd Qu.:0.00000  \n",
       " Max.   :1.0000   Max.   :1.0000   Max.   :1.0000   Max.   :1.00000  \n",
       "     areaCO           areaDC            areaIA           areaPA      \n",
       " Min.   :0.0000   Min.   :0.00000   Min.   :0.0000   Min.   :0.0000  \n",
       " 1st Qu.:0.0000   1st Qu.:0.00000   1st Qu.:0.0000   1st Qu.:0.0000  \n",
       " Median :0.0000   Median :0.00000   Median :0.0000   Median :0.0000  \n",
       " Mean   :0.1886   Mean   :0.04681   Mean   :0.2652   Mean   :0.1555  \n",
       " 3rd Qu.:0.0000   3rd Qu.:0.00000   3rd Qu.:1.0000   3rd Qu.:0.0000  \n",
       " Max.   :1.0000   Max.   :1.00000   Max.   :1.0000   Max.   :1.0000  \n",
       "     areawA            id           tenure       claim.ind         n.adults    \n",
       " Min.   :0.000   Min.   :   1   Min.   : 0.0   Min.   :0.0000   Min.   :1.000  \n",
       " 1st Qu.:0.000   1st Qu.:1910   1st Qu.: 6.0   1st Qu.:0.0000   1st Qu.:1.000  \n",
       " Median :0.000   Median :3798   Median :13.0   Median :0.0000   Median :2.000  \n",
       " Mean   :0.107   Mean   :3798   Mean   :11.7   Mean   :0.2041   Mean   :2.116  \n",
       " 3rd Qu.:0.000   3rd Qu.:5688   3rd Qu.:16.0   3rd Qu.:0.0000   3rd Qu.:3.000  \n",
       " Max.   :1.000   Max.   :7582   Max.   :30.0   Max.   :1.0000   Max.   :6.000  \n",
       "   n.children     ni.marital.status    premium         len.at.res   \n",
       " Min.   : 0.000   Min.   :0.0000    Min.   : 645.8   Min.   : 2.00  \n",
       " 1st Qu.: 0.000   1st Qu.:0.0000    1st Qu.: 846.0   1st Qu.:12.00  \n",
       " Median : 1.000   Median :1.0000    Median : 901.7   Median :15.00  \n",
       " Mean   : 1.774   Mean   :0.7162    Mean   : 901.5   Mean   :14.95  \n",
       " 3rd Qu.: 3.000   3rd Qu.:1.0000    3rd Qu.: 956.2   3rd Qu.:18.00  \n",
       " Max.   :12.000   Max.   :1.0000    Max.   :1164.8   Max.   :27.00  \n",
       "     ni.age          cancel      \n",
       " Min.   :19.00   Min.   :0.0000  \n",
       " 1st Qu.:35.00   1st Qu.:0.0000  \n",
       " Median :43.00   Median :0.0000  \n",
       " Mean   :43.44   Mean   :0.2453  \n",
       " 3rd Qu.:51.00   3rd Qu.:0.0000  \n",
       " Max.   :90.00   Max.   :1.0000  "
      ]
     },
     "metadata": {},
     "output_type": "display_data"
    },
    {
     "data": {
      "text/html": [
       "<ol class=list-inline>\n",
       "\t<li>'ni.genderM'</li>\n",
       "\t<li>'sales.channelOnline'</li>\n",
       "\t<li>'sales.channelPhone'</li>\n",
       "\t<li>'coverage.typeB'</li>\n",
       "\t<li>'coverage.typeC'</li>\n",
       "\t<li>'dwelling.typeHouse'</li>\n",
       "\t<li>'dwelling.typeTenant'</li>\n",
       "\t<li>'creditlow'</li>\n",
       "\t<li>'creditmedium'</li>\n",
       "\t<li>'house.colorred'</li>\n",
       "\t<li>'house.colorwhite'</li>\n",
       "\t<li>'house.coloryellow'</li>\n",
       "\t<li>'areaCO'</li>\n",
       "\t<li>'areaDC'</li>\n",
       "\t<li>'areaIA'</li>\n",
       "\t<li>'areaPA'</li>\n",
       "\t<li>'areawA'</li>\n",
       "\t<li>'id'</li>\n",
       "\t<li>'tenure'</li>\n",
       "\t<li>'claim.ind'</li>\n",
       "\t<li>'n.adults'</li>\n",
       "\t<li>'n.children'</li>\n",
       "\t<li>'ni.marital.status'</li>\n",
       "\t<li>'premium'</li>\n",
       "\t<li>'len.at.res'</li>\n",
       "\t<li>'ni.age'</li>\n",
       "\t<li>'cancel'</li>\n",
       "</ol>\n"
      ],
      "text/latex": [
       "\\begin{enumerate*}\n",
       "\\item 'ni.genderM'\n",
       "\\item 'sales.channelOnline'\n",
       "\\item 'sales.channelPhone'\n",
       "\\item 'coverage.typeB'\n",
       "\\item 'coverage.typeC'\n",
       "\\item 'dwelling.typeHouse'\n",
       "\\item 'dwelling.typeTenant'\n",
       "\\item 'creditlow'\n",
       "\\item 'creditmedium'\n",
       "\\item 'house.colorred'\n",
       "\\item 'house.colorwhite'\n",
       "\\item 'house.coloryellow'\n",
       "\\item 'areaCO'\n",
       "\\item 'areaDC'\n",
       "\\item 'areaIA'\n",
       "\\item 'areaPA'\n",
       "\\item 'areawA'\n",
       "\\item 'id'\n",
       "\\item 'tenure'\n",
       "\\item 'claim.ind'\n",
       "\\item 'n.adults'\n",
       "\\item 'n.children'\n",
       "\\item 'ni.marital.status'\n",
       "\\item 'premium'\n",
       "\\item 'len.at.res'\n",
       "\\item 'ni.age'\n",
       "\\item 'cancel'\n",
       "\\end{enumerate*}\n"
      ],
      "text/markdown": [
       "1. 'ni.genderM'\n",
       "2. 'sales.channelOnline'\n",
       "3. 'sales.channelPhone'\n",
       "4. 'coverage.typeB'\n",
       "5. 'coverage.typeC'\n",
       "6. 'dwelling.typeHouse'\n",
       "7. 'dwelling.typeTenant'\n",
       "8. 'creditlow'\n",
       "9. 'creditmedium'\n",
       "10. 'house.colorred'\n",
       "11. 'house.colorwhite'\n",
       "12. 'house.coloryellow'\n",
       "13. 'areaCO'\n",
       "14. 'areaDC'\n",
       "15. 'areaIA'\n",
       "16. 'areaPA'\n",
       "17. 'areawA'\n",
       "18. 'id'\n",
       "19. 'tenure'\n",
       "20. 'claim.ind'\n",
       "21. 'n.adults'\n",
       "22. 'n.children'\n",
       "23. 'ni.marital.status'\n",
       "24. 'premium'\n",
       "25. 'len.at.res'\n",
       "26. 'ni.age'\n",
       "27. 'cancel'\n",
       "\n",
       "\n"
      ],
      "text/plain": [
       " [1] \"ni.genderM\"          \"sales.channelOnline\" \"sales.channelPhone\" \n",
       " [4] \"coverage.typeB\"      \"coverage.typeC\"      \"dwelling.typeHouse\" \n",
       " [7] \"dwelling.typeTenant\" \"creditlow\"           \"creditmedium\"       \n",
       "[10] \"house.colorred\"      \"house.colorwhite\"    \"house.coloryellow\"  \n",
       "[13] \"areaCO\"              \"areaDC\"              \"areaIA\"             \n",
       "[16] \"areaPA\"              \"areawA\"              \"id\"                 \n",
       "[19] \"tenure\"              \"claim.ind\"           \"n.adults\"           \n",
       "[22] \"n.children\"          \"ni.marital.status\"   \"premium\"            \n",
       "[25] \"len.at.res\"          \"ni.age\"              \"cancel\"             "
      ]
     },
     "metadata": {},
     "output_type": "display_data"
    },
    {
     "name": "stderr",
     "output_type": "stream",
     "text": [
      "Installing package into ‘/home/senlyu/R/x86_64-pc-linux-gnu-library/3.4’\n",
      "(as ‘lib’ is unspecified)\n",
      "also installing the dependency ‘bitops’\n",
      "\n"
     ]
    },
    {
     "data": {
      "text/plain": [
       "\n",
       "Call:\n",
       "glm(formula = formula, family = binomial(), data = training_set)\n",
       "\n",
       "Deviance Residuals: \n",
       "    Min       1Q   Median       3Q      Max  \n",
       "-1.9667  -0.7294  -0.5304  -0.3132   2.5306  \n",
       "\n",
       "Coefficients:\n",
       "                    Estimate Std. Error z value Pr(>|z|)    \n",
       "(Intercept)         -1.63948    0.22563  -7.266 3.69e-13 ***\n",
       "ni.genderM          -0.04071    0.06673  -0.610 0.541820    \n",
       "sales.channelOnline  0.70167    0.11794   5.949 2.70e-09 ***\n",
       "sales.channelPhone   0.86055    0.07092  12.135  < 2e-16 ***\n",
       "coverage.typeB      -0.03489    0.08980  -0.388 0.697664    \n",
       "coverage.typeC       0.09573    0.07677   1.247 0.212405    \n",
       "dwelling.typeHouse   0.01752    0.08368   0.209 0.834201    \n",
       "dwelling.typeTenant  0.01667    0.10023   0.166 0.867911    \n",
       "creditlow            1.42115    0.08430  16.858  < 2e-16 ***\n",
       "creditmedium         0.70297    0.08087   8.692  < 2e-16 ***\n",
       "house.colorred       0.03526    0.09369   0.376 0.706637    \n",
       "house.colorwhite     0.09687    0.08338   1.162 0.245316    \n",
       "house.coloryellow   -0.05320    0.12718  -0.418 0.675707    \n",
       "areaCO              -0.27846    0.10347  -2.691 0.007121 ** \n",
       "areaDC               0.97635    0.15042   6.491 8.53e-11 ***\n",
       "areaIA              -0.14110    0.09213  -1.532 0.125639    \n",
       "areaPA              -0.70086    0.11748  -5.966 2.44e-09 ***\n",
       "areawA               0.09003    0.11716   0.768 0.442195    \n",
       "tenure               0.55354    0.21888   2.529 0.011442 *  \n",
       "claim.ind            0.37674    0.07983   4.719 2.37e-06 ***\n",
       "n.adults             0.37798    0.13472   2.806 0.005022 ** \n",
       "n.children           1.61421    0.17560   9.193  < 2e-16 ***\n",
       "ni.marital.status   -0.30901    0.08110  -3.810 0.000139 ***\n",
       "premium              0.07798    0.22339   0.349 0.727019    \n",
       "len.at.res          -0.61387    0.21557  -2.848 0.004404 ** \n",
       "ni.age              -1.35080    0.28407  -4.755 1.98e-06 ***\n",
       "---\n",
       "Signif. codes:  0 ‘***’ 0.001 ‘**’ 0.01 ‘*’ 0.05 ‘.’ 0.1 ‘ ’ 1\n",
       "\n",
       "(Dispersion parameter for binomial family taken to be 1)\n",
       "\n",
       "    Null deviance: 6284.1  on 5715  degrees of freedom\n",
       "Residual deviance: 5569.6  on 5690  degrees of freedom\n",
       "AIC: 5621.6\n",
       "\n",
       "Number of Fisher Scoring iterations: 4\n"
      ]
     },
     "metadata": {},
     "output_type": "display_data"
    },
    {
     "name": "stderr",
     "output_type": "stream",
     "text": [
      "Installing package into ‘/home/senlyu/R/x86_64-pc-linux-gnu-library/3.4’\n",
      "(as ‘lib’ is unspecified)\n",
      "also installing the dependencies ‘gtools’, ‘gdata’, ‘gplots’\n",
      "\n",
      "Loading required package: gplots\n",
      "\n",
      "Attaching package: ‘gplots’\n",
      "\n",
      "The following object is masked from ‘package:stats’:\n",
      "\n",
      "    lowess\n",
      "\n"
     ]
    },
    {
     "name": "stdout",
     "output_type": "stream",
     "text": [
      "[[1]]\n",
      "[1] 0.7294893\n",
      "\n"
     ]
    },
    {
     "data": {
      "image/png": "[encoded data removed]",
      "text/plain": [
       "Plot with title “Histogram of train$len.at.res”"
      ]
     },
     "metadata": {},
     "output_type": "display_data"
    },
    {
     "data": {
      "image/png": "[encoded data removed]",
      "text/plain": [
       "Plot with title “Histogram of train$ni.age”"
      ]
     },
     "metadata": {},
     "output_type": "display_data"
    }
   ],
   "source": [
    "\n",
    "##################zip code (assign based on first three digits)\n",
    "train$area = NA\n",
    "hist(train$zip.code)\n",
    "table(train$zip.code %/% 100)\n",
    "train$area[train$zip.code %/% 100 ==150]=\"PA\"\n",
    "train$area[train$zip.code %/% 100 ==201]=\"DC\"\n",
    "train$area[train$zip.code %/% 100 ==500]=\"IA\"\n",
    "train$area[train$zip.code %/% 100 ==800]=\"CO\"\n",
    "train$area[train$zip.code %/% 100 ==801]=\"CO\"\n",
    "train$area[train$zip.code %/% 100 ==850]=\"AZ\"\n",
    "train$area[train$zip.code %/% 100 ==980]=\"wA\"\n",
    "\n",
    "train$area =as.factor(train$area)\n",
    "train$zip.code=as.factor(train$zip.code)\n",
    "train =train[,c(1:17,19,18)]\n",
    "summary(train)\n",
    "str(train)\n",
    "\n",
    "par(mfrow=c(2,2))\n",
    "for (i in (2:18)) {\n",
    "  if(class(train[,i])!='factor') {\n",
    "  boxplot(train[,i],main = colnames(train)[i])}\n",
    "  else {next}\n",
    "}\n",
    "\n",
    "#n.adults\n",
    "hist(train$n.adults)\n",
    "#nrow(subset(train,train$n.adults>6))\n",
    "train1 = subset(train,train$n.adults<=6)\n",
    "\n",
    "#n.children\n",
    "hist(train$n.children)\n",
    "#nrow(subset(train,train$n.children<=7))\n",
    "train2 = subset(train1,train1$n.adults<=7)\n",
    "\n",
    "#len.at.res\n",
    "hist(train$len.at.res)\n",
    "boxplot(train$len.at.res)\n",
    "#nrow(subset(train,train$len.at.res>27))\n",
    "train3 = subset(train2,train2$len.at.res<=27)\n",
    "\n",
    "#ni.age\n",
    "hist(train$ni.age)\n",
    "#nrow(subset(train,train$ni.age>80))\n",
    "train4 = subset(train3,train3$ni.age<=90)\n",
    "\n",
    "\n",
    "#i=2\n",
    "for (i in (2:18)) {\n",
    "  if(class(train4[,i])!='factor') {\n",
    "    if (sum(is.na(train4[,i]))!=0) {\n",
    "      train4[which(is.na(train4[,i])),i]=mean(train4[,i],na.rm=T)\n",
    "    }\n",
    "  }\n",
    "  else {next}\n",
    "}\n",
    "\n",
    "summary(train4[,-c(6,9,10,11,13,14,16,17,18)])\n",
    "str(train)\n",
    "\n",
    "#deal with categorical variables containing NA\n",
    "summary(train4[,c(6,9,10,11,13,14,16,17,18)])\n",
    "#i=6\n",
    "for (i in (2:18)) {\n",
    "  if(class(train4[,i])=='factor') {\n",
    "    if (sum(is.na(train4[,i]))!=0) {\n",
    "      train4=subset(train4,!is.na(train4[,i]))\n",
    "    }\n",
    "  } \n",
    "  else {next}\n",
    "} \n",
    "\n",
    "summary(train4)\n",
    "\n",
    "#dummy variable\n",
    "colnames(train4)[c(6,9,10,11,13,14,18)]\n",
    "fmla = as.formula(paste(\"~\",paste(colnames(train4)[c(6,9,10,11,13,14,18)],collapse = \"+\"),sep = \"\"))\n",
    "dummies = model.matrix(fmla,train4)[,-1]\n",
    "dummies = as.data.frame(dummies)\n",
    "train5 = cbind(dummies,train4[,-c(6,9,10,11,13,14,16,17,18)])\n",
    "summary(train5)\n",
    "\n",
    "#remove cancel -1 value\n",
    "table(train$cancel)\n",
    "train6 = train5[train5$cancel!=-1,]\n",
    "summary(train6)\n",
    "\n",
    "\n",
    "#############standardization\n",
    "colnames(train6)\n",
    "range01 = function(x){\n",
    "  (x-min(x))/(max(x)-min(x))\n",
    "}\n",
    "train6$tenure = range01(train6$tenure)\n",
    "train6$n.adults=range01(train6$n.adults)\n",
    "train6$n.children=range01(train6$n.children)\n",
    "train6$premium=range01(train6$premium)\n",
    "train6$len.at.res=range01(train6$len.at.res)\n",
    "train6$ni.age=range01(train6$ni.age)\n",
    "\n",
    "############split train,validation\n",
    "model =train6\n",
    "install.packages(\"caTools\")\n",
    "library(caTools)\n",
    "set.seed(123)\n",
    "split_train = sample.split(model,SplitRatio = .8)\n",
    "training_set = subset(model,split_train==TRUE)\n",
    "validation_set = subset(model,split_train==FALSE)\n",
    "\n",
    "#####way 2:  model = as.data.frame(scale(model[,-c(18,27)]))\n",
    "#model = cbind(model,train6[,27])\n",
    "\n",
    "\n",
    "############model part\n",
    "formula = as.formula(paste(\"cancel~\",paste(colnames(model)[-c(18,27)],collapse = \"+\"),sep = \"\"))\n",
    "fit = glm(formula,training_set,family = binomial())\n",
    "summary(fit)\n",
    "\n",
    "predicted_value = predict(fit,validation_set,type = \"response\")\n",
    "\n",
    "\n",
    "##########c-statistic\n",
    "install.packages(\"ROCR\")\n",
    "library(ROCR)\n",
    "pred_input = prediction(predicted_value,validation_set$cancel)\n",
    "AUC =performance(pred_input,\"auc\")\n",
    "print(AUC@y.values)\n"
   ]
  },
  {
   "cell_type": "code",
   "execution_count": 16,
   "metadata": {
    "collapsed": false
   },
   "outputs": [
    {
     "data": {
      "text/plain": [
       "\n",
       "   0    1 \n",
       "3491 3858 "
      ]
     },
     "metadata": {},
     "output_type": "display_data"
    }
   ],
   "source": [
    "table(train6$ni.genderM)"
   ]
  },
  {
   "cell_type": "code",
   "execution_count": 24,
   "metadata": {
    "collapsed": false
   },
   "outputs": [
    {
     "data": {
      "text/plain": [
       "\n",
       "        0         1 \n",
       "0.7519335 0.2480665 "
      ]
     },
     "metadata": {},
     "output_type": "display_data"
    }
   ],
   "source": [
    "prop.table(table(train6$cancel[train6$ni.genderM==0]))"
   ]
  },
  {
   "cell_type": "code",
   "execution_count": 27,
   "metadata": {
    "collapsed": false
   },
   "outputs": [
    {
     "data": {
      "image/png": "[encoded data removed]",
      "text/plain": [
       "Plot with title “density.default(x = train6$premium[train6$cancel == 0])”"
      ]
     },
     "metadata": {},
     "output_type": "display_data"
    }
   ],
   "source": [
    "plot(density(train6$premium[train6$cancel==0]))"
   ]
  },
  {
   "cell_type": "code",
   "execution_count": 28,
   "metadata": {
    "collapsed": false
   },
   "outputs": [
    {
     "data": {
      "image/png": "[encoded data removed]",
      "text/plain": [
       "Plot with title “density.default(x = train6$premium[train6$cancel == 1])”"
      ]
     },
     "metadata": {},
     "output_type": "display_data"
    }
   ],
   "source": [
    "plot(density(train6$premium[train6$cancel==1]))"
   ]
  },
  {
   "cell_type": "code",
   "execution_count": null,
   "metadata": {
    "collapsed": true
   },
   "outputs": [],
   "source": []
  }
 ],
 "metadata": {
  "kernelspec": {
   "display_name": "R",
   "language": "R",
   "name": "ir"
  },
  "language_info": {
   "codemirror_mode": "r",
   "file_extension": ".r",
   "mimetype": "text/x-r-source",
   "name": "R",
   "pygments_lexer": "r",
   "version": "3.4.2"
  }
 },
 "nbformat": 4,
 "nbformat_minor": 2
}
